{
  "cells": [
    {
      "cell_type": "markdown",
      "source": [
        "# Example data processing\n",
        "This example demonstrates how a data engineer utilizes OEA to work with data from a new data source."
      ],
      "metadata": {
        "nteract": {
          "transient": {
            "deleting": false
          }
        }
      }
    },
    {
      "cell_type": "code",
      "source": [
        "%run OEA_py"
      ],
      "outputs": [],
      "execution_count": null,
      "metadata": {
        "jupyter": {
          "outputs_hidden": false,
          "source_hidden": false
        },
        "nteract": {
          "transient": {
            "deleting": false
          }
        }
      }
    },
    {
      "cell_type": "code",
      "source": [
        "# 1) set the workspace (this determines where in the data lake you'll be writing to and reading from).\n",
        "# You can work in 'dev', 'prod', or a sandbox with any name you choose.\n",
        "# For example, Sam the developer can create a 'sam' workspace and expect to find his datasets in the data lake under oea/sandboxes/sam\n",
        "oea.set_workspace('sam')"
      ],
      "outputs": [],
      "execution_count": null,
      "metadata": {
        "jupyter": {
          "outputs_hidden": false,
          "source_hidden": false
        },
        "nteract": {
          "transient": {
            "deleting": false
          }
        }
      }
    },
    {
      "cell_type": "code",
      "source": [
        "# 2) Now land a batch data file into stage1 of the data lake.\n",
        "# In this example we pull a test csv data file from github and it is landed in oea/sandboxes/sam/stage1/Transactional/contoso/v0.1/students/delta_batch_data/rundate=<utc datetime>\n",
        "data = requests.get('https://raw.githubusercontent.com/microsoft/OpenEduAnalytics/main/framework/test_data/contoso_sis/day1/students/part1.csv').text\n",
        "oea.land(data, 'contoso/v0.1/students', 'students.csv', oea.DELTA_BATCH_DATA)"
      ],
      "outputs": [],
      "execution_count": null,
      "metadata": {
        "jupyter": {
          "outputs_hidden": false,
          "source_hidden": false
        },
        "nteract": {
          "transient": {
            "deleting": false
          }
        }
      }
    },
    {
      "cell_type": "code",
      "source": [
        "# 3) You can verify that the data is in stage1 by reading it into a dataframe. Note that a \"rundate\" column has been added - representing the datetime that the batch data was landed in the data lake.\n",
        "df = oea.load_csv(f'stage1/Transactional/contoso/v0.1/students')\n",
        "display(df)"
      ],
      "outputs": [],
      "execution_count": null,
      "metadata": {
        "jupyter": {
          "outputs_hidden": false,
          "source_hidden": false
        },
        "nteract": {
          "transient": {
            "deleting": false
          }
        },
        "collapsed": false
      }
    },
    {
      "cell_type": "code",
      "source": [
        "# 4) The next step is to ingest the batch data into stage2\n",
        "# Note that when you run this the first time, you'll see an info message like \"Number of new inbound rows processed: 2\".\n",
        "# If you run this a second time, the number of inbound rows processed will be 0 because the ingestion uses spark structured streaming to keep track of what data has already been processed.\n",
        "oea.ingest(f'contoso/v0.1/students', 'SIS ID')"
      ],
      "outputs": [],
      "execution_count": null,
      "metadata": {
        "jupyter": {
          "outputs_hidden": false,
          "source_hidden": false
        },
        "nteract": {
          "transient": {
            "deleting": false
          }
        }
      }
    },
    {
      "cell_type": "code",
      "source": [
        "# 5) When data is ingested into stage2 of the data lake, OEA creates a lake db (which is a logical db that points to the data in the data lake).\n",
        "# In this example, since you are working in the 'sam' workspace, the lake db created is called 'ldb_sam_s2i_contoso_v0p1' (if you click on Data in the left nav, you'll see the db listed under 'Lake database' )\n",
        "df = spark.sql(\"select * from ldb_sam_s2i_contoso_v0p1.students\")\n",
        "display(df)\n",
        "df.printSchema()"
      ],
      "outputs": [],
      "execution_count": null,
      "metadata": {
        "jupyter": {
          "outputs_hidden": false,
          "source_hidden": false
        },
        "nteract": {
          "transient": {
            "deleting": false
          }
        },
        "collapsed": false
      }
    },
    {
      "cell_type": "code",
      "source": [
        "# 6) Now let's land some additional inbound batch data - with new and modified rows.\n",
        "data = requests.get('https://raw.githubusercontent.com/microsoft/OpenEduAnalytics/main/framework/test_data/contoso_sis/day2/students/part1.csv').text\n",
        "oea.land(data, 'contoso/v0.1/students', 'students.csv', oea.DELTA_BATCH_DATA)"
      ],
      "outputs": [],
      "execution_count": null,
      "metadata": {
        "jupyter": {
          "outputs_hidden": false,
          "source_hidden": false
        },
        "nteract": {
          "transient": {
            "deleting": false
          }
        }
      }
    },
    {
      "cell_type": "code",
      "source": [
        "# 7) Ingest this latest batch of data.\n",
        "# Note that you don't have to specify what batch of data to process; OEA uses spark structured streaming to determine what files are new.\n",
        "oea.ingest(f'contoso/v0.1/students', 'SIS ID')"
      ],
      "outputs": [],
      "execution_count": null,
      "metadata": {
        "jupyter": {
          "outputs_hidden": false,
          "source_hidden": false
        },
        "nteract": {
          "transient": {
            "deleting": false
          }
        }
      }
    },
    {
      "cell_type": "code",
      "source": [
        "# 8) Now verify that the batch data was ingested and correctly merged with the previous data\n",
        "\n",
        "# You can load the ingested data into a dataframe directly like this...\n",
        "df = oea.load('stage2/Ingested/contoso/v0.1/students')\n",
        "display(df)\n",
        "\n",
        "# ...or you can use the automatically created \"Lake database\" like this:\n",
        "df = spark.sql(\"select * from ldb_sam_s2i_contoso_v0p1.students\")\n",
        "display(df)\n",
        "# with either approach, you're querying the same data - it's the data stored at oea/sandboxes/sam/stage2/Ingested/contoso/v0.1/students in your data lake"
      ],
      "outputs": [],
      "execution_count": null,
      "metadata": {
        "jupyter": {
          "outputs_hidden": false,
          "source_hidden": false
        },
        "nteract": {
          "transient": {
            "deleting": false
          }
        },
        "collapsed": false
      }
    },
    {
      "cell_type": "code",
      "source": [
        "# 9) After ingesting data, the next step is to refine the data through the use of metadata\n",
        "metadata = oea.get_metadata_from_url('https://raw.githubusercontent.com/microsoft/OpenEduAnalytics/main/framework/test_data/contoso_sis/metadata.csv')\n",
        "oea.refine('contoso/v0.1/students', metadata['students'], 'SIS ID')"
      ],
      "outputs": [],
      "execution_count": null,
      "metadata": {
        "jupyter": {
          "outputs_hidden": false,
          "source_hidden": false
        },
        "nteract": {
          "transient": {
            "deleting": false
          }
        },
        "collapsed": false
      }
    },
    {
      "cell_type": "code",
      "source": [
        "# 10) Now you can query the refined data tables in the lake db\n",
        "df = spark.sql(\"select * from ldb_sam_s2r_contoso_v0p1.students\")\n",
        "display(df)\n",
        "df.printSchema()\n",
        "df = spark.sql(\"select * from ldb_sam_s2r_contoso_v0p1.students_lookup\")\n",
        "display(df)\n",
        "df.printSchema()\n",
        "# You can use the \"lookup\" table for joins (people with restricted access won't be able to perform this query because they won't have access to data in the \"sensitive\" folder in the data lake)\n",
        "df = spark.sql(\"select sl.Username, s.Grade from ldb_sam_s2r_contoso_v0p1.students_lookup sl, ldb_sam_s2r_contoso_v0p1.students s where sl.SIS_ID_pseudonym = s.SIS_ID_pseudonym\")\n",
        "display(df)"
      ],
      "outputs": [],
      "execution_count": null,
      "metadata": {
        "jupyter": {
          "outputs_hidden": false,
          "source_hidden": false
        },
        "nteract": {
          "transient": {
            "deleting": false
          }
        },
        "collapsed": false
      }
    },
    {
      "cell_type": "code",
      "source": [
        "# 11) Land, ingest, and refine additional data sets (day 1)\r\n",
        "# These data sets demonstrate the 2 other types of batch data - additive and snapshot.\r\n",
        "data = requests.get('https://raw.githubusercontent.com/microsoft/OpenEduAnalytics/main/framework/test_data/contoso_sis/day1/studentattendance/part1.csv').text\r\n",
        "oea.land(data, 'contoso/v0.1/studentattendance', 'part1.csv', oea.ADDITIVE_BATCH_DATA)\r\n",
        "data = requests.get('https://raw.githubusercontent.com/microsoft/OpenEduAnalytics/main/framework/test_data/contoso_sis/day1/studentsectionmark/part1.csv').text\r\n",
        "oea.land(data, 'contoso/v0.1/studentsectionmark', 'part1.csv', oea.SNAPSHOT_BATCH_DATA)\r\n",
        "\r\n",
        "oea.ingest(f'contoso/v0.1/studentattendance', 'id')\r\n",
        "oea.ingest(f'contoso/v0.1/studentsectionmark', 'id')\r\n",
        "\r\n",
        "oea.refine('contoso/v0.1/studentattendance', metadata['studentattendance'], 'id')\r\n",
        "oea.refine('contoso/v0.1/studentsectionmark', metadata['studentsectionmark'], 'id')"
      ],
      "outputs": [],
      "execution_count": null,
      "metadata": {
        "jupyter": {
          "source_hidden": false,
          "outputs_hidden": false
        },
        "nteract": {
          "transient": {
            "deleting": false
          }
        }
      }
    },
    {
      "cell_type": "code",
      "source": [
        "# 12) Land, ingest, and refine additional data sets (day 2)\r\n",
        "# These data sets demonstrate the 2 other types of batch data - additive and snapshot.\r\n",
        "data = requests.get('https://raw.githubusercontent.com/microsoft/OpenEduAnalytics/main/framework/test_data/contoso_sis/day2/studentattendance/part1.csv').text\r\n",
        "oea.land(data, 'contoso/v0.1/studentattendance', 'part1.csv', oea.ADDITIVE_BATCH_DATA)\r\n",
        "data = requests.get('https://raw.githubusercontent.com/microsoft/OpenEduAnalytics/main/framework/test_data/contoso_sis/day2/studentsectionmark/part1.csv').text\r\n",
        "oea.land(data, 'contoso/v0.1/studentsectionmark', 'part1.csv', oea.SNAPSHOT_BATCH_DATA)\r\n",
        "\r\n",
        "oea.ingest(f'contoso/v0.1/studentattendance', 'id')\r\n",
        "oea.ingest(f'contoso/v0.1/studentsectionmark', 'id')\r\n",
        "\r\n",
        "oea.refine('contoso/v0.1/studentattendance', metadata['studentattendance'], 'id')\r\n",
        "oea.refine('contoso/v0.1/studentsectionmark', metadata['studentsectionmark'], 'id')"
      ],
      "outputs": [],
      "execution_count": null,
      "metadata": {
        "jupyter": {
          "source_hidden": false,
          "outputs_hidden": false
        },
        "nteract": {
          "transient": {
            "deleting": false
          }
        }
      }
    },
    {
      "cell_type": "code",
      "source": [
        "# 12) Reset this example\n",
        "oea.delete_dataset('contoso/v0.1')\n",
        "oea.drop_lake_db('ldb_sam_s2i_contoso_v0p1')\n",
        "oea.drop_lake_db('ldb_sam_s2r_contoso_v0p1')"
      ],
      "outputs": [],
      "execution_count": null,
      "metadata": {
        "jupyter": {
          "outputs_hidden": false,
          "source_hidden": false
        },
        "nteract": {
          "transient": {
            "deleting": false
          }
        }
      }
    },
    {
      "cell_type": "markdown",
      "source": [
        "# Appendix"
      ],
      "metadata": {
        "nteract": {
          "transient": {
            "deleting": false
          }
        }
      }
    },
    {
      "cell_type": "code",
      "source": [
        "# You can list the contents of a folder in the data lake like this:\n",
        "print(oea.ls('stage1/Transactional/contoso/v0.1/students/delta_batch_data'))\n",
        "print(oea.ls('stage2/Ingested/contoso/v0.1/students'))"
      ],
      "outputs": [],
      "execution_count": null,
      "metadata": {
        "jupyter": {
          "outputs_hidden": false,
          "source_hidden": false
        },
        "nteract": {
          "transient": {
            "deleting": false
          }
        }
      }
    },
    {
      "cell_type": "code",
      "source": [
        "dtbl = DeltaTable.forPath(spark, oea.to_url('stage2/Refined/contoso/v0.1/sensitive/students_lookup'))\n",
        "display(dtbl.toDF())\n",
        "#dtbl.delete(\"rundate > '2022-11-04T14:39:51'\")"
      ],
      "outputs": [],
      "execution_count": null,
      "metadata": {
        "jupyter": {
          "outputs_hidden": false,
          "source_hidden": false
        },
        "nteract": {
          "transient": {
            "deleting": false
          }
        },
        "collapsed": false
      }
    }
  ],
  "metadata": {
    "kernelspec": {
      "name": "synapse_pyspark",
      "language": "Python",
      "display_name": "Synapse PySpark"
    },
    "language_info": {
      "name": "python"
    },
    "kernel_info": {
      "name": "synapse_pyspark"
    },
    "description": null,
    "save_output": true,
    "synapse_widget": {
      "version": "0.1",
      "state": {}
    }
  },
  "nbformat": 4,
  "nbformat_minor": 2
}
