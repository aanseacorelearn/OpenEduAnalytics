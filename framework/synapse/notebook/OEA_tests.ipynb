{
  "cells": [
    {
      "cell_type": "markdown",
      "metadata": {
        "nteract": {
          "transient": {
            "deleting": false
          }
        }
      },
      "source": [
        "# Tests for the OEA framework"
      ]
    },
    {
      "cell_type": "code",
      "execution_count": null,
      "metadata": {},
      "outputs": [],
      "source": [
        "%run OEA_py"
      ]
    },
    {
      "cell_type": "code",
      "execution_count": null,
      "metadata": {
        "jupyter": {
          "outputs_hidden": false,
          "source_hidden": false
        },
        "nteract": {
          "transient": {
            "deleting": false
          }
        }
      },
      "outputs": [],
      "source": [
        "oea = OEA()\n",
        "oea.set_workspace('sandbox1')"
      ]
    },
    {
      "cell_type": "code",
      "execution_count": null,
      "metadata": {
        "jupyter": {
          "outputs_hidden": false,
          "source_hidden": false
        },
        "nteract": {
          "transient": {
            "deleting": false
          }
        }
      },
      "outputs": [],
      "source": [
        "def reset_additive_data_tests():\n",
        "    oea.rm_if_exists('stage1/Transactional/contoso_sis/v0.1/studentattendance')\n",
        "    oea.rm_if_exists('stage2/Ingested/contoso_sis/v0.1/studentattendance')\n",
        "\n",
        "def land_studentattendance_day1(expected_record_count):\n",
        "    data_str = requests.get('https://raw.githubusercontent.com/aanseacorelearn/OpenEduAnalytics/gene/v0.7dev/framework/test_data/contoso_sis/day1/studentattendance/part1.csv').text\n",
        "    sink_path = oea.land(data_str, 'contoso_sis/v0.1/studentattendance', 'studentattendance.csv', batch_data_type=oea.ADDITIVE_BATCH_DATA)\n",
        "    sink_df = oea.load_csv(sink_path)\n",
        "    assert sink_df.count() == expected_record_count, f'Expected {expected_record_count} records in landed data, but found {sink_df.count()}'\n",
        "\n",
        "def land_studentattendance_day2(expected_record_count):\n",
        "    data_str = requests.get('https://raw.githubusercontent.com/aanseacorelearn/OpenEduAnalytics/gene/v0.7dev/framework/test_data/contoso_sis/day2/studentattendance/part1.csv').text\n",
        "    sink_path = oea.land(data_str, 'contoso_sis/v0.1/studentattendance', 'studentattendance.csv', batch_data_type=oea.ADDITIVE_BATCH_DATA)\n",
        "    sink_df = oea.load_csv(sink_path)\n",
        "    assert sink_df.count() == expected_record_count, f'Expected {expected_record_count} records in landed data, but found {sink_df.count()}'\n",
        "\n",
        "def ingest_studentattendance(expected_record_count):\n",
        "    oea.ingest('contoso_sis/v0.1/studentattendance')\n",
        "    df = oea.load('stage2/Ingested/contoso_sis/v0.1/studentattendance')\n",
        "    assert df.count() == expected_record_count, f'Expected {expected_record_count} records in landed data, but found {df.count()}'\n",
        "\n",
        "reset_additive_data_tests()\n",
        "# test1 - Land the first batch of studentattendance data\n",
        "land_studentattendance_day1(1464)\n",
        "# test2 - Ingest the data from stage1 into stage2\n",
        "ingest_studentattendance(1464)\n",
        "# test3 - run the same ingestion a second time and verify that it doesn't change what was ingested (ingestion is idempotent via use of _checkpoints)\n",
        "ingest_studentattendance(1464)\n",
        "# test4 - Land the second batch of studentattendance data\n",
        "land_studentattendance_day2(2928)\n",
        "# test5 - Ingest the data from stage1 into stage2\n",
        "ingest_studentattendance(4392)\n",
        "\n"
      ]
    },
    {
      "cell_type": "code",
      "execution_count": null,
      "metadata": {
        "collapsed": false,
        "jupyter": {
          "outputs_hidden": false,
          "source_hidden": false
        },
        "nteract": {
          "transient": {
            "deleting": false
          }
        }
      },
      "outputs": [],
      "source": [
        "def reset_delta_data_tests():\n",
        "    oea.rm_if_exists('stage1/Transactional/contoso_sis/v0.1/student')\n",
        "    oea.rm_if_exists('stage2/Ingested/contoso_sis/v0.1/student')\n",
        "\n",
        "def land_students_day1(expected_record_count):\n",
        "    data_str = requests.get('https://raw.githubusercontent.com/aanseacorelearn/OpenEduAnalytics/gene/v0.7dev/framework/test_data/contoso_sis/day1/students/part1.csv').text\n",
        "    sink_path = oea.land(data_str, 'contoso_sis/v0.1/student', 'student.csv', batch_data_type=oea.DELTA_BATCH_DATA)\n",
        "    sink_df = oea.load_csv(sink_path)\n",
        "    assert sink_df.count() == expected_record_count, f'Expected {expected_record_count} records in landed data, but found {sink_df.count()}'\n",
        "\n",
        "def land_students_day2(expected_record_count):\n",
        "    data_str = requests.get('https://raw.githubusercontent.com/aanseacorelearn/OpenEduAnalytics/gene/v0.7dev/framework/test_data/contoso_sis/day2/students/part1.csv').text\n",
        "    sink_path = oea.land(data_str, 'contoso_sis/v0.1/student', 'student.csv', batch_data_type=oea.DELTA_BATCH_DATA)\n",
        "    sink_df = oea.load_csv(sink_path)\n",
        "    assert sink_df.count() == expected_record_count, f'Expected {expected_record_count} records in landed data, but found {sink_df.count()}'\n",
        "\n",
        "def ingest_students(expected_record_count):\n",
        "    oea.ingest('contoso_sis/v0.1/student', 'SIS_ID')\n",
        "    df = oea.load('stage2/Ingested/contoso_sis/v0.1/student')\n",
        "    assert df.count() == expected_record_count, f'Expected {expected_record_count} records in landed data, but found {df.count()}'\n",
        "\n",
        "reset_delta_data_tests()\n",
        "# test1 - Land the first batch of studentattendance data\n",
        "land_students_day1(2)\n",
        "# test2 - Ingest the data from stage1 into stage2\n",
        "ingest_students(2)\n",
        "# test3 - run the same ingestion a second time and verify that it doesn't change what was ingested (ingestion is idempotent via use of _checkpoints)\n",
        "ingest_students(2)\n",
        "# test4 - Land the second batch of studentattendance data\n",
        "land_students_day2(2)\n",
        "# test5 - Ingest the data from stage1 into stage2\n",
        "ingest_students(3)"
      ]
    },
    {
      "cell_type": "code",
      "execution_count": null,
      "metadata": {
        "collapsed": false,
        "jupyter": {
          "outputs_hidden": false,
          "source_hidden": false
        },
        "nteract": {
          "transient": {
            "deleting": false
          }
        }
      },
      "outputs": [],
      "source": [
        "def reset_snapshot_data_tests():\n",
        "    oea.rm_if_exists('stage1/Transactional/contoso_sis/v0.1/studentsectionmark')\n",
        "    oea.rm_if_exists('stage2/Ingested/contoso_sis/v0.1/studentsectionmark')\n",
        "\n",
        "def land_studentsectionmark_day1(expected_record_count):\n",
        "    data_str = requests.get('https://raw.githubusercontent.com/aanseacorelearn/OpenEduAnalytics/gene/v0.7dev/framework/test_data/contoso_sis/day1/studentsectionmark/part1.csv').text\n",
        "    sink_path = oea.land(data_str, 'contoso_sis/v0.1/studentsectionmark', 'studentsectionmark.csv', batch_data_type=oea.DELTA_BATCH_DATA)\n",
        "    sink_df = oea.load_csv(sink_path)\n",
        "    assert sink_df.count() == expected_record_count, f'Expected {expected_record_count} records in landed data, but found {sink_df.count()}'\n",
        "\n",
        "def land_studentsectionmark_day2(expected_record_count):\n",
        "    data_str = requests.get('https://raw.githubusercontent.com/aanseacorelearn/OpenEduAnalytics/gene/v0.7dev/framework/test_data/contoso_sis/day1/studentsectionmark/part1.csv').text\n",
        "    sink_path = oea.land(data_str, 'contoso_sis/v0.1/studentsectionmark', 'studentsectionmark.csv', batch_data_type=oea.DELTA_BATCH_DATA)\n",
        "    sink_df = oea.load_csv(sink_path)\n",
        "    assert sink_df.count() == expected_record_count, f'Expected {expected_record_count} records in landed data, but found {sink_df.count()}'\n",
        "\n",
        "def ingest_studentsectionmark(expected_record_count):\n",
        "    oea.ingest('contoso_sis/v0.1/studentsectionmark')\n",
        "    df = oea.load('stage2/Ingested/contoso_sis/v0.1/studentsectionmark')\n",
        "    assert df.count() == expected_record_count, f'Expected {expected_record_count} records in landed data, but found {df.count()}'\n",
        "\n",
        "reset_snapshot_data_tests()\n",
        "# test1 - Land the first batch of studentattendance data\n",
        "land_studentsectionmark_day1(12)\n",
        "# test2 - Ingest the data from stage1 into stage2\n",
        "ingest_studentsectionmark(12)\n",
        "# test3 - run the same ingestion a second time and verify that it doesn't change what was ingested (ingestion is idempotent via use of _checkpoints)\n",
        "ingest_studentsectionmark(12)\n",
        "# test4 - Land the second batch of studentattendance data\n",
        "land_studentsectionmark_day2(12)\n",
        "# test5 - Ingest the data from stage1 into stage2\n",
        "ingest_studentsectionmark(12)"
      ]
    },
    {
      "cell_type": "code",
      "execution_count": null,
      "metadata": {
        "collapsed": false,
        "jupyter": {
          "outputs_hidden": false,
          "source_hidden": false
        },
        "nteract": {
          "transient": {
            "deleting": false
          }
        }
      },
      "outputs": [],
      "source": [
        "def refine_contoso_sis(df_source):\n",
        "    metadata = oea.get_metadata_from_url('https://raw.githubusercontent.com/aanseacorelearn/OpenEduAnalytics/gene/v0.7dev/modules/module_catalog/Student_and_School_Data_Systems/metadata.csv')\n",
        "    #oea.upsert(df_source, 'stage2/Refined/contoso_sis/v0.1/general/studentattendance')\n",
        "    df_pseudo, df_lookup = oea.pseudonymize(df_source, metadata['studentattendance'])\n",
        "    oea.upsert(df_pseudo, 'stage2/Refined/contoso_sis/v0.1/general/studentattendance')\n",
        "    oea.upsert(df_lookup, 'stage2/Refined/contoso_sis/v0.1/sensitive/studentattendance')\n",
        "\n",
        "oea.process('stage2/Ingested/contoso_sis/v0.1/studentattendance', refine_contoso_sis)\n",
        "\n",
        "# query a sample of the data refined into stage2/refined\n",
        "oea.display('stage2/Refined/contoso_sis/v0.1/general/studentattendance')\n",
        "oea.display('stage2/Refined/contoso_sis/v0.1/sensitive/studentattendance')"
      ]
    }
  ],
  "metadata": {
    "kernel_info": {
      "name": "synapse_pyspark"
    },
    "kernelspec": {
      "display_name": "Synapse PySpark",
      "language": "Python",
      "name": "synapse_pyspark"
    },
    "language_info": {
      "name": "python"
    },
    "save_output": true,
    "synapse_widget": {
      "state": {},
      "version": "0.1"
    }
  },
  "nbformat": 4,
  "nbformat_minor": 2
}
