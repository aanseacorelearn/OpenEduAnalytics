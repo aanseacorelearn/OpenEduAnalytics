{
  "cells": [
    {
      "cell_type": "markdown",
      "metadata": {
        "nteract": {
          "transient": {
            "deleting": false
          }
        }
      },
      "source": [
        "# Create Canvas Data Tables\n",
        "\n",
        "*Authors: Departnemt of Education, Tasmania.*\n",
        "\n",
        "Script to create canvas data tables (and optionally refresh metadata) in the specified database if they don't exist. Uses stage2np data.\n",
        "\n",
        "Parameters: \n",
        "- **db_name**: Name of the database where tables are to be created. The DB will also be created if required.\n",
        "- **table_prefix**: Prefix to add to each table name\n",
        "- **base_data_path**: Base path where CanvasData stage2 files are located. Each subfolder will be considered a table.\n",
        "- **refresh_tables**: Boolean to indicate whether to refresh metadata or not. Set to true if the schema has changed.\n",
        "- **storage_account**: Name of your OEA storage account.\n",
        "- **instrumentation_key**: AppInsights instrumentation key (for logging)."
      ]
    },
    {
      "cell_type": "code",
      "execution_count": 1,
      "metadata": {
        "jupyter": {
          "outputs_hidden": false,
          "source_hidden": false
        },
        "nteract": {
          "transient": {
            "deleting": false
          }
        },
        "tags": [
          "parameters"
        ]
      },
      "outputs": [],
      "source": [
        "db_name = \"CanvasData\"\n",
        "table_prefix = \"\"\n",
        "base_data_path = \"CanvasData\"\n",
        "refresh_tables = False\n",
        "\n",
        "storage_account = \"\"\n",
        "instrumentation_key = \"375cef06-9584-49fe-a4a7-74e590a6c05f\""
      ]
    },
    {
      "cell_type": "code",
      "execution_count": 2,
      "metadata": {
        "jupyter": {
          "outputs_hidden": false,
          "source_hidden": false
        },
        "nteract": {
          "transient": {
            "deleting": false
          }
        }
      },
      "outputs": [],
      "source": [
        "%run /oea_framework/OEA_py"
      ]
    },
    {
      "cell_type": "code",
      "execution_count": 3,
      "metadata": {
        "jupyter": {
          "outputs_hidden": false,
          "source_hidden": false
        },
        "nteract": {
          "transient": {
            "deleting": false
          }
        }
      },
      "outputs": [],
      "source": [
        "oea = OEA(storage_account, instrumentation_key, \"\") # No salt required; we're not pseudonimising data here."
      ]
    },
    {
      "cell_type": "code",
      "execution_count": 4,
      "metadata": {
        "jupyter": {
          "outputs_hidden": false,
          "source_hidden": false
        },
        "nteract": {
          "transient": {
            "deleting": false
          }
        }
      },
      "outputs": [],
      "source": [
        "spark.sql(f\"CREATE DATABASE IF NOT EXISTS {db_name}\")"
      ]
    },
    {
      "cell_type": "code",
      "execution_count": 12,
      "metadata": {
        "jupyter": {
          "outputs_hidden": false,
          "source_hidden": false
        },
        "nteract": {
          "transient": {
            "deleting": false
          }
        }
      },
      "outputs": [],
      "source": [
        "search_path = f\"{oea.stage2np}/{base_data_path}\"\n",
        "\n",
        "for f in oea.get_folders(search_path):\n",
        "    try:\n",
        "        sql = f\"CREATE TABLE IF NOT EXISTS {db_name}.{table_prefix + f} USING PARQUET LOCATION '{search_path}/{f}'\"\n",
        "        print(sql)\n",
        "        spark.sql(sql)\n",
        "        if refresh_tables:\n",
        "            spark.sql(f\"REFRESH TABLE {db_name}.{table_prefix + f}\")\n",
        "    except AnalysisException:\n",
        "        print(f\"Failed. Often caused by inability to infer schema. Does the folder contain any data?\")"
      ]
    }
  ],
  "metadata": {
    "kernelspec": {
      "display_name": "Synapse PySpark",
      "name": "synapse_pyspark"
    },
    "language_info": {
      "name": "python"
    },
    "save_output": true,
    "synapse_widget": {
      "state": {},
      "version": "0.1"
    }
  },
  "nbformat": 4,
  "nbformat_minor": 2
}
