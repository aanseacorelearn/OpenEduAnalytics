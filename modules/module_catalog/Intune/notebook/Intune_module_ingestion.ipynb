{
  "nbformat": 4,
  "nbformat_minor": 2,
  "metadata": {
    "kernelspec": {
      "name": "synapse_pyspark",
      "display_name": "Synapse PySpark"
    },
    "language_info": {
      "name": "python"
    },
    "description": null,
    "save_output": true,
    "synapse_widget": {
      "version": "0.1",
      "state": {}
    }
  },
  "cells": [
    {
      "cell_type": "markdown",
      "metadata": {
        "nteract": {
          "transient": {
            "deleting": false
          }
        }
      },
      "source": [
        "# OEA Connector: Intune Module Data Ingestion Notebook"
      ]
    },
    {
      "cell_type": "code",
      "execution_count": 27,
      "outputs": [
        {
          "output_type": "display_data",
          "data": {
            "application/vnd.livy.statement-meta+json": {
              "spark_pool": null,
              "session_id": 58,
              "statement_id": -1,
              "state": "finished",
              "livy_statement_state": "available",
              "queued_time": "2021-11-16T20:03:04.3283497Z",
              "session_start_time": null,
              "execution_start_time": "2021-11-16T20:03:05.1426493Z",
              "execution_finish_time": "2021-11-16T20:03:05.1428195Z"
            },
            "text/plain": "StatementMeta(, 58, -1, Finished, Available)"
          },
          "metadata": {}
        },
        {
          "output_type": "stream",
          "name": "stdout",
          "text": [
            "2021-11-16 20:03:04,886 - OEA - DEBUG - OEA initialized.\nOEA initialized."
          ]
        }
      ],
      "metadata": {
        "jupyter": {
          "source_hidden": false,
          "outputs_hidden": false
        },
        "nteract": {
          "transient": {
            "deleting": false
          }
        }
      },
      "source": [
        "%run /OEA_py"
      ]
    },
    {
      "cell_type": "code",
      "execution_count": 28,
      "outputs": [
        {
          "output_type": "display_data",
          "data": {
            "application/vnd.livy.statement-meta+json": {
              "spark_pool": null,
              "session_id": 58,
              "statement_id": -1,
              "state": "finished",
              "livy_statement_state": "available",
              "queued_time": "2021-11-16T20:03:09.256191Z",
              "session_start_time": null,
              "execution_start_time": "2021-11-16T20:03:10.1051467Z",
              "execution_finish_time": "2021-11-16T20:03:10.1053229Z"
            },
            "text/plain": "StatementMeta(, 58, -1, Finished, Available)"
          },
          "metadata": {}
        }
      ],
      "metadata": {
        "jupyter": {
          "source_hidden": false,
          "outputs_hidden": false
        },
        "nteract": {
          "transient": {
            "deleting": false
          }
        }
      },
      "source": [
        "%run /Intune_py"
      ]
    },
    {
      "cell_type": "code",
      "execution_count": 29,
      "outputs": [
        {
          "output_type": "display_data",
          "data": {
            "application/vnd.livy.statement-meta+json": {
              "spark_pool": "medium",
              "session_id": 58,
              "statement_id": 29,
              "state": "finished",
              "livy_statement_state": "available",
              "queued_time": "2021-11-16T20:03:43.7217068Z",
              "session_start_time": null,
              "execution_start_time": "2021-11-16T20:03:43.8408991Z",
              "execution_finish_time": "2021-11-16T20:03:43.9881361Z"
            },
            "text/plain": "StatementMeta(medium, 58, 29, Finished, Available)"
          },
          "metadata": {}
        },
        {
          "output_type": "stream",
          "name": "stdout",
          "text": [
            "2021-11-16 20:03:43,803 - OEA - DEBUG - OEA initialized.\nOEA initialized."
          ]
        }
      ],
      "metadata": {
        "jupyter": {
          "source_hidden": false,
          "outputs_hidden": false
        },
        "nteract": {
          "transient": {
            "deleting": false
          }
        }
      },
      "source": [
        "# 0) Initialize the OEA framework and modules needed.\r\n",
        "oea = OEA()\r\n",
        "intune = Intune()"
      ]
    },
    {
      "cell_type": "markdown",
      "metadata": {
        "nteract": {
          "transient": {
            "deleting": false
          }
        }
      },
      "source": [
        "## Ingest Data from Intune\r\n",
        "### For understanding of the steps involved in the data processing: look into the \"Intune_py\" notebook, which creates the Intune class and subsequent functions."
      ]
    },
    {
      "cell_type": "code",
      "execution_count": 30,
      "outputs": [
        {
          "output_type": "display_data",
          "data": {
            "application/vnd.livy.statement-meta+json": {
              "spark_pool": "medium",
              "session_id": 58,
              "statement_id": 30,
              "state": "finished",
              "livy_statement_state": "available",
              "queued_time": "2021-11-16T20:03:48.1049721Z",
              "session_start_time": null,
              "execution_start_time": "2021-11-16T20:03:48.2026952Z",
              "execution_finish_time": "2021-11-16T20:03:52.0753217Z"
            },
            "text/plain": "StatementMeta(medium, 58, 30, Finished, Available)"
          },
          "metadata": {}
        },
        {
          "output_type": "stream",
          "name": "stdout",
          "text": [
            "Processing intune data from: abfss://stage1np@stoeahybriddev2.dfs.core.windows.net/intune\nProcessing intune devices data without enrichment\n{'id': '7475c906-08a5-4c85-a438-29bae4027596', 'runId': '98678bdd-0967-4dd4-a6b5-a1fb8dc385aa', 'name': None, 'timestamp': '2021-11-16T20:03:48.862Z', 'batchId': 0, 'numInputRows': 0, 'processedRowsPerSecond': 0.0, 'durationMs': {'getOffset': 23, 'triggerExecution': 48}, 'stateOperators': [], 'sources': [{'description': 'FileStreamSource[abfss://stage1np@stoeahybriddev2.dfs.core.windows.net/intune/intune/devices/**/*.csv]', 'startOffset': None, 'endOffset': None, 'numInputRows': 0, 'processedRowsPerSecond': 0.0}], 'sink': {'description': 'DeltaSink[abfss://stage2p@stoeahybriddev2.dfs.core.windows.net/intune/devices_pseudo]'}}\n{'id': '3e9384f3-910e-4291-9d4f-60105d0c5383', 'runId': 'cead21fe-c42c-41b8-939f-1e1fbaf7eee5', 'name': None, 'timestamp': '2021-11-16T20:03:49.254Z', 'batchId': 0, 'numInputRows': 0, 'processedRowsPerSecond': 0.0, 'durationMs': {'getOffset': 24, 'triggerExecution': 48}, 'stateOperators': [], 'sources': [{'description': 'FileStreamSource[abfss://stage1np@stoeahybriddev2.dfs.core.windows.net/intune/intune/devices/**/*.csv]', 'startOffset': None, 'endOffset': None, 'numInputRows': 0, 'processedRowsPerSecond': 0.0}], 'sink': {'description': 'DeltaSink[abfss://stage2np@stoeahybriddev2.dfs.core.windows.net/intune/devices_lookup]'}}\nProcessing intune devices enriched data\n{'id': '018fee69-6286-4fa1-be50-db41219157c6', 'runId': 'd8f0ce18-d537-4bbb-b88c-69609b0a953d', 'name': None, 'timestamp': '2021-11-16T20:03:50.606Z', 'batchId': 0, 'numInputRows': 0, 'processedRowsPerSecond': 0.0, 'durationMs': {'getOffset': 21, 'triggerExecution': 49}, 'stateOperators': [], 'sources': [{'description': 'FileStreamSource[abfss://stage1np@stoeahybriddev2.dfs.core.windows.net/intune/intune/devices/**/*.csv]', 'startOffset': None, 'endOffset': None, 'numInputRows': 0, 'processedRowsPerSecond': 0.0}], 'sink': {'description': 'DeltaSink[abfss://stage2p@stoeahybriddev2.dfs.core.windows.net/intune/devices_pseudo_refined]'}}\n{'id': '58b32ca3-c93a-4030-9e8e-b66932e44d80', 'runId': 'a92458b3-23bf-4e61-8637-e90767417ab0', 'name': None, 'timestamp': '2021-11-16T20:03:51.489Z', 'batchId': 0, 'numInputRows': 0, 'processedRowsPerSecond': 0.0, 'durationMs': {'getOffset': 25, 'triggerExecution': 67}, 'stateOperators': [], 'sources': [{'description': 'FileStreamSource[abfss://stage1np@stoeahybriddev2.dfs.core.windows.net/intune/intune/devices/**/*.csv]', 'startOffset': None, 'endOffset': None, 'numInputRows': 0, 'processedRowsPerSecond': 0.0}], 'sink': {'description': 'DeltaSink[abfss://stage2np@stoeahybriddev2.dfs.core.windows.net/intune/devices_lookup_refined]'}}\nFinished processing graphapi data from stage 1 to stage 2"
          ]
        }
      ],
      "metadata": {
        "jupyter": {
          "source_hidden": false,
          "outputs_hidden": false
        },
        "nteract": {
          "transient": {
            "deleting": false
          }
        }
      },
      "source": [
        "intune.ingest()"
      ]
    }
  ]
}