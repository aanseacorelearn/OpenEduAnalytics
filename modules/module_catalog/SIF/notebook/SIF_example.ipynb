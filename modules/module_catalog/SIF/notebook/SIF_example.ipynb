{
  "cells": [
    {
      "cell_type": "markdown",
      "source": [
        "# Tests for processing SIF data"
      ],
      "metadata": {
        "nteract": {
          "transient": {
            "deleting": false
          }
        }
      }
    },
    {
      "cell_type": "code",
      "source": [
        "%run OEA_py"
      ],
      "outputs": [
        {
          "output_type": "display_data",
          "data": {
            "application/vnd.livy.statement-meta+json": {
              "spark_pool": null,
              "session_id": "11",
              "statement_id": -1,
              "state": "finished",
              "livy_statement_state": "available",
              "queued_time": "2022-11-27T20:27:17.9438201Z",
              "session_start_time": null,
              "execution_start_time": "2022-11-27T20:27:18.5878544Z",
              "execution_finish_time": "2022-11-27T20:27:18.5882201Z",
              "spark_jobs": null
            },
            "text/plain": "StatementMeta(, 11, -1, Finished, Available)"
          },
          "metadata": {}
        },
        {
          "output_type": "stream",
          "name": "stdout",
          "text": [
            "2022-11-27 20:27:18,357 - OEA - INFO - Now using workspace: dev\n2022-11-27 20:27:18,358 - OEA - INFO - OEA initialized.\n"
          ]
        }
      ],
      "execution_count": 3,
      "metadata": {}
    },
    {
      "cell_type": "code",
      "source": [
        "# 1) set the workspace (this determines where in the data lake you'll be writing to and reading from).\r\n",
        "# You can work in 'dev', 'prod', or a sandbox with any name you choose.\r\n",
        "# For example, Sam the developer can create a 'sam' workspace and expect to find his datasets in the data lake under oea/sandboxes/sam\r\n",
        "oea.set_workspace('sam')"
      ],
      "outputs": [
        {
          "output_type": "display_data",
          "data": {
            "application/vnd.livy.statement-meta+json": {
              "spark_pool": "spark3p2sm",
              "session_id": "11",
              "statement_id": 3,
              "state": "finished",
              "livy_statement_state": "available",
              "queued_time": "2022-11-27T20:27:20.4094314Z",
              "session_start_time": null,
              "execution_start_time": "2022-11-27T20:27:20.5475565Z",
              "execution_finish_time": "2022-11-27T20:27:20.7300643Z",
              "spark_jobs": null
            },
            "text/plain": "StatementMeta(spark3p2sm, 11, 3, Finished, Available)"
          },
          "metadata": {}
        },
        {
          "output_type": "stream",
          "name": "stdout",
          "text": [
            "2022-11-27 20:27:20,540 - OEA - INFO - Now using workspace: sam\n"
          ]
        }
      ],
      "execution_count": 4,
      "metadata": {
        "jupyter": {
          "source_hidden": false,
          "outputs_hidden": false
        },
        "nteract": {
          "transient": {
            "deleting": false
          }
        }
      }
    },
    {
      "cell_type": "code",
      "source": [
        "# 2) Now land a batch data file into stage1 of the data lake.\r\n",
        "# In this example we pull test json data files from github and land it in oea/sandboxes/sam/stage1/Transactional/sif/v3.4.9\r\n",
        "data = requests.get('https://raw.githubusercontent.com/microsoft/OpenEduAnalytics/main/modules/module_catalog/SIF/test_data/StudentPersonal.json').text\r\n",
        "oea.land(data, 'sif/v3.4.9/StudentPersonal', 'StudentPersonal.json', oea.SNAPSHOT_BATCH_DATA)\r\n",
        "data = requests.get('https://raw.githubusercontent.com/microsoft/OpenEduAnalytics/main/modules/module_catalog/SIF/test_data/StudentDailyAttendance.json').text\r\n",
        "oea.land(data, 'sif/v3.4.9/StudentDailyAttendance', 'StudentDailyAttendance.json', oea.SNAPSHOT_BATCH_DATA)"
      ],
      "outputs": [
        {
          "output_type": "display_data",
          "data": {
            "application/vnd.livy.statement-meta+json": {
              "spark_pool": "spark3p2sm",
              "session_id": "11",
              "statement_id": 16,
              "state": "finished",
              "livy_statement_state": "available",
              "queued_time": "2022-11-27T20:52:47.3478929Z",
              "session_start_time": null,
              "execution_start_time": "2022-11-27T20:52:47.4572795Z",
              "execution_finish_time": "2022-11-27T20:52:48.5871365Z",
              "spark_jobs": null
            },
            "text/plain": "StatementMeta(spark3p2sm, 11, 16, Finished, Available)"
          },
          "metadata": {}
        },
        {
          "output_type": "execute_result",
          "execution_count": 52,
          "data": {
            "text/plain": "'stage1/Transactional/sif/v3.4.9/StudentDailyAttendance/snapshot_batch_data/rundate=2022-11-27 20-52-47/StudentDailyAttendance.json'"
          },
          "metadata": {}
        }
      ],
      "execution_count": 17,
      "metadata": {
        "jupyter": {
          "source_hidden": false,
          "outputs_hidden": false
        },
        "nteract": {
          "transient": {
            "deleting": false
          }
        }
      }
    },
    {
      "cell_type": "code",
      "source": [
        "# 3) The next step is to ingest the batch data into stage2\r\n",
        "# Note that when you run this the first time, you'll see an info message like \"Number of new inbound rows processed: 2\".\r\n",
        "# If you run this a second time, the number of inbound rows processed will be 0 because the ingestion uses spark structured streaming to keep track of what data has already been processed.\r\n",
        "options = {'multiline':True}\r\n",
        "oea.ingest(f'sif/v3.4.9/StudentPersonal', 'RefId', options)\r\n",
        "oea.ingest(f'sif/v3.4.9/StudentDailyAttendance', 'RefId', options)"
      ],
      "outputs": [
        {
          "output_type": "display_data",
          "data": {
            "application/vnd.livy.statement-meta+json": {
              "spark_pool": "spark3p2sm",
              "session_id": "11",
              "statement_id": 17,
              "state": "finished",
              "livy_statement_state": "available",
              "queued_time": "2022-11-27T20:53:44.0159757Z",
              "session_start_time": null,
              "execution_start_time": "2022-11-27T20:53:44.1949045Z",
              "execution_finish_time": "2022-11-27T20:54:05.1638807Z",
              "spark_jobs": null
            },
            "text/plain": "StatementMeta(spark3p2sm, 11, 17, Finished, Available)"
          },
          "metadata": {}
        },
        {
          "output_type": "stream",
          "name": "stdout",
          "text": [
            "2022-11-27 20:53:44,302 - OEA - INFO - Ingesting from: stage1/Transactional/sif/v3.4.9/StudentPersonal, batch type of: snapshot, source data format of: json\nsource_path is: abfss://oea@stoeacisd31118b.dfs.core.windows.net/sandboxes/sam/stage1/Transactional/sif/v3.4.9/StudentPersonal/snapshot_batch_data/rundate=2022-11-27 20-52-47\n2022-11-27 20:53:46,449 - py4j.java_gateway - INFO - Callback Connection ready to receive messages\n2022-11-27 20:53:46,449 - py4j.java_gateway - INFO - Received command c on object id p4\n2022-11-27 20:53:53,821 - OEA - INFO - Number of new inbound rows processed: 4\n2022-11-27 20:53:55,938 - OEA - INFO - Ingesting from: stage1/Transactional/sif/v3.4.9/StudentDailyAttendance, batch type of: snapshot, source data format of: json\nsource_path is: abfss://oea@stoeacisd31118b.dfs.core.windows.net/sandboxes/sam/stage1/Transactional/sif/v3.4.9/StudentDailyAttendance/snapshot_batch_data/rundate=2022-11-27 20-52-47\n2022-11-27 20:53:57,850 - py4j.java_gateway - INFO - Received command c on object id p5\n2022-11-27 20:54:01,791 - OEA - INFO - Number of new inbound rows processed: 4\n"
          ]
        },
        {
          "output_type": "execute_result",
          "execution_count": 55,
          "data": {
            "text/plain": "4"
          },
          "metadata": {}
        }
      ],
      "execution_count": 18,
      "metadata": {
        "jupyter": {
          "source_hidden": false,
          "outputs_hidden": false
        },
        "nteract": {
          "transient": {
            "deleting": false
          }
        }
      }
    },
    {
      "cell_type": "code",
      "source": [
        "# 4) Now you can run queries against the auto-generated \"lake database\" with the ingested sif data.\r\n",
        "df = spark.sql(\"select * from ldb_sam_s2i_sif_v3p4p9.studentpersonal\")\r\n",
        "display(df)"
      ],
      "outputs": [],
      "execution_count": null,
      "metadata": {
        "jupyter": {
          "source_hidden": false,
          "outputs_hidden": false
        },
        "nteract": {
          "transient": {
            "deleting": false
          }
        },
        "collapsed": false
      }
    },
    {
      "cell_type": "code",
      "source": [
        "# 5) After ingesting data, the next step is to refine the data through the use of metadata (this is where the pseudonymization of the data occurs).\r\n",
        "#metadata = oea.get_metadata_from_url('https://raw.githubusercontent.com/microsoft/OpenEduAnalytics/main/modules/module_catalog/SIF/test_data/metadata.csv')\r\n",
        "metadata = oea.get_metadata_from_url('https://raw.githubusercontent.com/microsoft/OpenEduAnalytics/gene/sif_dev/modules/module_catalog/SIF/test_data/metadata.csv')\r\n",
        "oea.refine('sif/v3.4.9/StudentPersonal', metadata['studentpersonal'], 'RefId')\r\n",
        "oea.refine('sif/v3.4.9/StudentDailyAttendance', metadata['studentdailyattendance'], 'RefId')\r\n"
      ],
      "outputs": [],
      "execution_count": null,
      "metadata": {
        "jupyter": {
          "source_hidden": false,
          "outputs_hidden": false
        },
        "nteract": {
          "transient": {
            "deleting": false
          }
        }
      }
    },
    {
      "cell_type": "code",
      "source": [
        "# 6) Now you can query the refined data tables in the lake db\r\n",
        "df = spark.sql(\"select * from ldb_sam_s2r_sif_v3p4p9.studentpersonal\")\r\n",
        "display(df)\r\n",
        "df.printSchema()\r\n",
        "df = spark.sql(\"select * from ldb_sam_s2r_sif_v3p4p9.studentpersonal_lookup\")\r\n",
        "display(df)\r\n",
        "df.printSchema()\r\n",
        "# You can use the \"lookup\" table for joins (people with restricted access won't be able to perform this query because they won't have access to data in the \"sensitive\" folder in the data lake)\r\n",
        "df = spark.sql(\"select sl.LocalId, s.Disability, s.ESL from ldb_sam_s2r_sif_v3p4p9.studentpersonal_lookup sl, ldb_sam_s2r_sif_v3p4p9.studentpersonal s where sl.RefId_pseudonym = s.RefId_pseudonym\")\r\n",
        "display(df)"
      ],
      "outputs": [
        {
          "output_type": "display_data",
          "data": {
            "application/vnd.livy.statement-meta+json": {
              "spark_pool": "spark3p2sm",
              "session_id": "11",
              "statement_id": 27,
              "state": "finished",
              "livy_statement_state": "available",
              "queued_time": "2022-11-27T21:09:27.0847282Z",
              "session_start_time": null,
              "execution_start_time": "2022-11-27T21:09:27.2245957Z",
              "execution_finish_time": "2022-11-27T21:09:32.5562085Z",
              "spark_jobs": null
            },
            "text/plain": "StatementMeta(spark3p2sm, 11, 27, Finished, Available)"
          },
          "metadata": {}
        },
        {
          "output_type": "display_data",
          "data": {
            "application/vnd.synapse.widget-view+json": {
              "widget_id": "01a762fc-5dad-4134-91ca-e4250fc8e22a",
              "widget_type": "Synapse.DataFrame"
            },
            "text/plain": "SynapseWidget(Synapse.DataFrame, 01a762fc-5dad-4134-91ca-e4250fc8e22a)"
          },
          "metadata": {}
        },
        {
          "output_type": "stream",
          "name": "stdout",
          "text": [
            "root\n |-- AcceptableUsePolicy: string (nullable = true)\n |-- AlertMessages: string (nullable = true)\n |-- Disability: string (nullable = true)\n |-- ESL: string (nullable = true)\n |-- ESLDateAssessed: string (nullable = true)\n |-- EconomicDisadvantage: string (nullable = true)\n |-- EducationSupport: string (nullable = true)\n |-- ElectronicIdList: string (nullable = true)\n |-- HomeSchooledStudent: string (nullable = true)\n |-- IndependentStudent: string (nullable = true)\n |-- IntegrationAide: string (nullable = true)\n |-- LocalCodeList: string (nullable = true)\n |-- LocalId_pseudonym: string (nullable = true)\n |-- MedicalAlertMessages: string (nullable = true)\n |-- MostRecent: string (nullable = true)\n |-- NationalUniqueStudentIdentifier: string (nullable = true)\n |-- OnTimeGraduationYear: string (nullable = true)\n |-- OtherIdList: string (nullable = true)\n |-- PersonInfo: string (nullable = true)\n |-- ProjectedGraduationYear: string (nullable = true)\n |-- RefId_pseudonym: string (nullable = true)\n |-- Sensitive: string (nullable = true)\n |-- StateProvinceId: string (nullable = true)\n |-- YoungCarersRole: string (nullable = true)\n\n"
          ]
        },
        {
          "output_type": "display_data",
          "data": {
            "application/vnd.synapse.widget-view+json": {
              "widget_id": "fabc1e1c-79ff-4702-bb46-c33c4c0c5a93",
              "widget_type": "Synapse.DataFrame"
            },
            "text/plain": "SynapseWidget(Synapse.DataFrame, fabc1e1c-79ff-4702-bb46-c33c4c0c5a93)"
          },
          "metadata": {}
        },
        {
          "output_type": "stream",
          "name": "stdout",
          "text": [
            "root\n |-- LocalId: string (nullable = true)\n |-- PersonInfo: string (nullable = true)\n |-- RefId: string (nullable = true)\n |-- LocalId_pseudonym: string (nullable = true)\n |-- RefId_pseudonym: string (nullable = true)\n\n"
          ]
        },
        {
          "output_type": "display_data",
          "data": {
            "application/vnd.synapse.widget-view+json": {
              "widget_id": "13c040a3-16e2-4339-8a15-b555fb2abea2",
              "widget_type": "Synapse.DataFrame"
            },
            "text/plain": "SynapseWidget(Synapse.DataFrame, 13c040a3-16e2-4339-8a15-b555fb2abea2)"
          },
          "metadata": {}
        }
      ],
      "execution_count": 28,
      "metadata": {
        "jupyter": {
          "source_hidden": false,
          "outputs_hidden": false
        },
        "nteract": {
          "transient": {
            "deleting": false
          }
        },
        "collapsed": false
      }
    },
    {
      "cell_type": "code",
      "source": [
        "# Run this cell to reset this example (deleting all the example sif data in your workspace)\r\n",
        "oea.rm_if_exists('stage1/Transactional/sif')\r\n",
        "oea.rm_if_exists('stage2/Ingested/sif')\r\n",
        "oea.rm_if_exists('stage2/Refined/sif')\r\n",
        "oea.drop_lake_db('ldb_sam_s2i_sif_v3p4p9')\r\n",
        "oea.drop_lake_db('ldb_sam_s2r_sif_v3p4p9')"
      ],
      "outputs": [
        {
          "output_type": "display_data",
          "data": {
            "application/vnd.livy.statement-meta+json": {
              "spark_pool": "spark3p2sm",
              "session_id": "11",
              "statement_id": 15,
              "state": "finished",
              "livy_statement_state": "available",
              "queued_time": "2022-11-27T20:52:29.8395927Z",
              "session_start_time": null,
              "execution_start_time": "2022-11-27T20:52:29.9780248Z",
              "execution_finish_time": "2022-11-27T20:52:32.8048018Z",
              "spark_jobs": null
            },
            "text/plain": "StatementMeta(spark3p2sm, 11, 15, Finished, Available)"
          },
          "metadata": {}
        },
        {
          "output_type": "stream",
          "name": "stdout",
          "text": [
            "2022-11-27 20:52:32,227 - OEA - INFO - Database dropped: ldb_sam_s2i_sif_v3p4p9\n2022-11-27 20:52:32,335 - OEA - INFO - Database dropped: ldb_sam_s2r_sif_v3p4p9\n"
          ]
        },
        {
          "output_type": "execute_result",
          "execution_count": 49,
          "data": {
            "text/plain": "'Database dropped: ldb_sam_s2r_sif_v3p4p9'"
          },
          "metadata": {}
        }
      ],
      "execution_count": 16,
      "metadata": {
        "jupyter": {
          "source_hidden": false,
          "outputs_hidden": false
        },
        "nteract": {
          "transient": {
            "deleting": false
          }
        }
      }
    },
    {
      "cell_type": "markdown",
      "source": [
        "# Appendix"
      ],
      "metadata": {
        "nteract": {
          "transient": {
            "deleting": false
          }
        }
      }
    },
    {
      "cell_type": "code",
      "source": [
        "# generate an initial metadata file for manual modification\r\n",
        "metadata = oea.create_metadata_from_lake_db('ldb_sam_s2i_sif_v3p4p9')\r\n",
        "dlw = DataLakeWriter(oea.to_url('stage1/Transactional/sif'))\r\n",
        "dlw.write('metadata.csv', metadata)"
      ],
      "outputs": [
        {
          "output_type": "display_data",
          "data": {
            "application/vnd.livy.statement-meta+json": {
              "spark_pool": "spark3p2sm",
              "session_id": "11",
              "statement_id": 18,
              "state": "finished",
              "livy_statement_state": "available",
              "queued_time": "2022-11-27T20:55:21.6063517Z",
              "session_start_time": null,
              "execution_start_time": "2022-11-27T20:55:21.714257Z",
              "execution_finish_time": "2022-11-27T20:55:23.5449053Z",
              "spark_jobs": null
            },
            "text/plain": "StatementMeta(spark3p2sm, 11, 18, Finished, Available)"
          },
          "metadata": {}
        }
      ],
      "execution_count": 19,
      "metadata": {
        "jupyter": {
          "source_hidden": false,
          "outputs_hidden": false
        },
        "nteract": {
          "transient": {
            "deleting": false
          }
        }
      }
    },
    {
      "cell_type": "code",
      "source": [
        "# Create a sql db for the ingested SIF data\r\n",
        "oea.create_sql_db('stage2/Ingested/SIF')"
      ],
      "outputs": [],
      "execution_count": null,
      "metadata": {
        "jupyter": {
          "source_hidden": false,
          "outputs_hidden": false
        },
        "nteract": {
          "transient": {
            "deleting": false
          }
        },
        "collapsed": false
      }
    }
  ],
  "metadata": {
    "kernelspec": {
      "name": "synapse_pyspark",
      "language": "Python",
      "display_name": "Synapse PySpark"
    },
    "language_info": {
      "name": "python"
    },
    "kernel_info": {
      "name": "synapse_pyspark"
    },
    "save_output": false,
    "synapse_widget": {
      "version": "0.1",
      "state": {
        "01a762fc-5dad-4134-91ca-e4250fc8e22a": {
          "type": "Synapse.DataFrame",
          "sync_state": {
            "table": {
              "rows": [
                {
                  "0": "Y",
                  "1": "{[{Legal, Mother is legal guardian}]}",
                  "2": "N",
                  "3": "Y",
                  "4": "2016-04-23",
                  "5": "N",
                  "6": "N",
                  "7": "{[{03, ZZZZZZ21}, {03, ZZZZZZ22}]}",
                  "8": "N",
                  "9": "N",
                  "10": "N",
                  "11": "{[{Serbia Montenegro, StudentPersonal/PersonInfo/Demographics/CountryOfBirth, null, 0921}, {Serbia Montenegro, StudentPersonal/PersonInfo/Demographics/CountriesOfCitizenship/CountryOfCitizenship, 1, 0921}]}",
                  "12": "f9d9b6b4cc79a1f82c1c1221cfabb6b1c92876ec0d02103fea9d93ec1e8e5ead",
                  "13": "{[{Severe, Student has Peanut Allergy}, {Moderate, Student has Diabetes}]}",
                  "14": "{English 7D, 2, 0.5, 7A, hr12345, D, 02, VIC6273, 1201, 1201, VIC670, VIC687, S1234567, {P}}",
                  "15": "12345981",
                  "16": "2012",
                  "17": "{[{PreviousNAPPlatformStudentId, 888rdgf}, {DiocesanStudentId, 1234}]}",
                  "18": "*",
                  "19": "2014",
                  "20": "80c18d7a1e65cbd9424a15a4b5c24b0a41cb6c14888a90b832269cce58f35598",
                  "21": "N",
                  "22": "ABC1234",
                  "23": "N"
                },
                {
                  "0": "Y",
                  "1": "{[{Legal, Mother is legal guardian}]}",
                  "2": "N",
                  "3": "Y",
                  "4": "2016-04-23",
                  "5": "N",
                  "6": "N",
                  "7": "{[{03, ZZZZZZ21}, {03, ZZZZZZ22}]}",
                  "8": "N",
                  "9": "N",
                  "10": "N",
                  "11": "{[{Serbia Montenegro, StudentPersonal/PersonInfo/Demographics/CountryOfBirth, null, 0921}, {Serbia Montenegro, StudentPersonal/PersonInfo/Demographics/CountriesOfCitizenship/CountryOfCitizenship, 1, 0921}]}",
                  "12": "0a390705b86c0180e9a80bcdca9e50b4c8b8ffa0f4aed4bdb31a6ff397bb3fb6",
                  "13": "{[{Severe, Student has Peanut Allergy}, {Moderate, Student has Diabetes}]}",
                  "14": "{English 7D, 2, 0.5, 7A, hr12345, D, 02, VIC6273, 1201, 1201, VIC670, VIC687, S1234567, {P}}",
                  "15": "12345678",
                  "16": "2012",
                  "17": "{[{PreviousNAPPlatformStudentId, 888rdgf}, {DiocesanStudentId, 1234}]}",
                  "18": "*",
                  "19": "2014",
                  "20": "6c11198df1ffb67afe247743d8b10ee375565a0ef45801e80869d76b7586ef1c",
                  "21": "N",
                  "22": "ABC1234",
                  "23": "N"
                },
                {
                  "0": "Y",
                  "1": "{[{Legal, Mother is legal guardian}]}",
                  "2": "N",
                  "3": "Y",
                  "4": "2016-04-23",
                  "5": "N",
                  "6": "N",
                  "7": "{[{03, ZZZZZZ21}, {03, ZZZZZZ22}]}",
                  "8": "N",
                  "9": "N",
                  "10": "N",
                  "11": "{[{Serbia Montenegro, StudentPersonal/PersonInfo/Demographics/CountryOfBirth, null, 0921}, {Serbia Montenegro, StudentPersonal/PersonInfo/Demographics/CountriesOfCitizenship/CountryOfCitizenship, 1, 0921}]}",
                  "12": "f9d9b6b4cc79a1f82c1c1221cfabb6b1c92876ec0d02103fea9d93ec1e8e5ead",
                  "13": "{[{Severe, Student has Peanut Allergy}, {Moderate, Student has Diabetes}]}",
                  "14": "{English 7D, 2, 0.5, 7A, hr12345, D, 02, VIC6273, 1201, 1201, VIC670, VIC687, S1234567, {P}}",
                  "15": "12345981",
                  "16": "2012",
                  "17": "{[{PreviousNAPPlatformStudentId, 888rdgf}, {DiocesanStudentId, 1234}]}",
                  "18": "*",
                  "19": "2014",
                  "20": "22f46471b5746f3afbf2c1031bab245cf2ff9848728ddecad39e2cc27bf3735a",
                  "21": "N",
                  "22": "ABC1234",
                  "23": "N"
                },
                {
                  "0": "Y",
                  "1": "{[{Legal, Mother is legal guardian}]}",
                  "2": "N",
                  "3": "Y",
                  "4": "2016-04-23",
                  "5": "N",
                  "6": "N",
                  "7": "{[{03, ZZZZZZ21}, {03, ZZZZZZ22}]}",
                  "8": "N",
                  "9": "N",
                  "10": "N",
                  "11": "{[{Serbia Montenegro, StudentPersonal/PersonInfo/Demographics/CountryOfBirth, null, 0921}, {Serbia Montenegro, StudentPersonal/PersonInfo/Demographics/CountriesOfCitizenship/CountryOfCitizenship, 1, 0921}]}",
                  "12": "f9d9b6b4cc79a1f82c1c1221cfabb6b1c92876ec0d02103fea9d93ec1e8e5ead",
                  "13": "{[{Severe, Student has Peanut Allergy}, {Moderate, Student has Diabetes}]}",
                  "14": "{English 7D, 2, 0.5, 7A, hr12345, D, 02, VIC6273, 1201, 1201, VIC670, VIC687, S1234567, {P}}",
                  "15": "12345981",
                  "16": "2012",
                  "17": "{[{PreviousNAPPlatformStudentId, 888rdgf}, {DiocesanStudentId, 1234}]}",
                  "18": "*",
                  "19": "2014",
                  "20": "d7bc343dcc4d97e2a624005e5d0315f207438089e280e2509c3f61270ab36afb",
                  "21": "N",
                  "22": "ABC1234",
                  "23": "N"
                }
              ],
              "schema": [
                {
                  "key": "0",
                  "name": "AcceptableUsePolicy",
                  "type": "string"
                },
                {
                  "key": "1",
                  "name": "AlertMessages",
                  "type": "string"
                },
                {
                  "key": "2",
                  "name": "Disability",
                  "type": "string"
                },
                {
                  "key": "3",
                  "name": "ESL",
                  "type": "string"
                },
                {
                  "key": "4",
                  "name": "ESLDateAssessed",
                  "type": "string"
                },
                {
                  "key": "5",
                  "name": "EconomicDisadvantage",
                  "type": "string"
                },
                {
                  "key": "6",
                  "name": "EducationSupport",
                  "type": "string"
                },
                {
                  "key": "7",
                  "name": "ElectronicIdList",
                  "type": "string"
                },
                {
                  "key": "8",
                  "name": "HomeSchooledStudent",
                  "type": "string"
                },
                {
                  "key": "9",
                  "name": "IndependentStudent",
                  "type": "string"
                },
                {
                  "key": "10",
                  "name": "IntegrationAide",
                  "type": "string"
                },
                {
                  "key": "11",
                  "name": "LocalCodeList",
                  "type": "string"
                },
                {
                  "key": "12",
                  "name": "LocalId_pseudonym",
                  "type": "string"
                },
                {
                  "key": "13",
                  "name": "MedicalAlertMessages",
                  "type": "string"
                },
                {
                  "key": "14",
                  "name": "MostRecent",
                  "type": "string"
                },
                {
                  "key": "15",
                  "name": "NationalUniqueStudentIdentifier",
                  "type": "string"
                },
                {
                  "key": "16",
                  "name": "OnTimeGraduationYear",
                  "type": "string"
                },
                {
                  "key": "17",
                  "name": "OtherIdList",
                  "type": "string"
                },
                {
                  "key": "18",
                  "name": "PersonInfo",
                  "type": "string"
                },
                {
                  "key": "19",
                  "name": "ProjectedGraduationYear",
                  "type": "string"
                },
                {
                  "key": "20",
                  "name": "RefId_pseudonym",
                  "type": "string"
                },
                {
                  "key": "21",
                  "name": "Sensitive",
                  "type": "string"
                },
                {
                  "key": "22",
                  "name": "StateProvinceId",
                  "type": "string"
                },
                {
                  "key": "23",
                  "name": "YoungCarersRole",
                  "type": "string"
                }
              ],
              "truncated": false
            },
            "isSummary": false,
            "language": "scala"
          },
          "persist_state": {
            "view": {
              "type": "details",
              "tableOptions": {},
              "chartOptions": {
                "chartType": "bar",
                "aggregationType": "count",
                "categoryFieldKeys": [
                  "0"
                ],
                "seriesFieldKeys": [
                  "0"
                ],
                "isStacked": false
              }
            }
          }
        },
        "fabc1e1c-79ff-4702-bb46-c33c4c0c5a93": {
          "type": "Synapse.DataFrame",
          "sync_state": {
            "table": {
              "rows": [
                {
                  "0": "S1234981",
                  "1": "{{[{Yarra Glenn, 1101, 9999, 2382, VIC, {Unit1/10, Barkley Street}, 0123}, {Home Town, 1101, 9999, 013A, WA, {34 Term Address Street, null}, 0123A}]}, {1, 1990-09-26, 1004, {[8104, 1101]}, {[8104, 1101]}, 1990-09-26, 1101, {1671}, {1}, 3, {[{0001, 1}]}, {4111, 2030-12-11, 9}, P, Clayton, {2013}, {[{2000-09-01, Baptism}, {2009-12-24, Christmas}]}, The Religion Region, 1, VIC, 05, 101, {[{2016-12-26, 2017-12-26, 401, 2019-07-25, 05}]}}, {[{01, Ned.Flanders@yahoo.com}, {02, Ned_Flanders@gmail.com}]}, {Flanders, Ned Flanders, Ned, LGL}, {[{Anderson, Samuel Anderson, Samuel, AKA}, {Rowinski, Sam Rowinski , Sam, PRF}]}, {[{72289, Y, 03 9637-2289, 0096}, {null, N, 0412-345-678, 0888}]}}",
                  "2": "9897466F-200E-4BC1-B9AE-D1507DA15CEF",
                  "3": "f9d9b6b4cc79a1f82c1c1221cfabb6b1c92876ec0d02103fea9d93ec1e8e5ead",
                  "4": "22f46471b5746f3afbf2c1031bab245cf2ff9848728ddecad39e2cc27bf3735a"
                },
                {
                  "0": "S1234981",
                  "1": "{{[{Yarra Glenn, 1101, 9999, 2382, VIC, {Unit1/10, Barkley Street}, 0123}, {Home Town, 1101, 9999, 013A, WA, {34 Term Address Street, null}, 0123A}]}, {1, 1990-09-26, 1004, {[8104, 1101]}, {[8104, 1101]}, 1990-09-26, 1101, {1671}, {1}, 3, {[{0001, 1}]}, {4111, 2030-12-11, 9}, P, Clayton, {2013}, {[{2000-09-01, Baptism}, {2009-12-24, Christmas}]}, The Religion Region, 1, VIC, 05, 101, {[{2016-12-26, 2017-12-26, 401, 2019-07-25, 05}]}}, {[{01, Marge.Simpson@yahoo.com}, {02, Marge.Simpson@gmail.com}]}, {Simpson, Marge Simpson, Marge, LGL}, {[{Anderson, Samuel Anderson, Samuel, AKA}, {Rowinski, Sam Rowinski , Sam, PRF}]}, {[{72289, Y, 03 9637-2289, 0096}, {null, N, 0412-345-678, 0888}]}}",
                  "2": "7C834EA9-EDA1-2090-347F-83297E1C290E",
                  "3": "f9d9b6b4cc79a1f82c1c1221cfabb6b1c92876ec0d02103fea9d93ec1e8e5ead",
                  "4": "d7bc343dcc4d97e2a624005e5d0315f207438089e280e2509c3f61270ab36afb"
                },
                {
                  "0": "S1234567",
                  "1": "{{[{Yarra Glenn, 1101, 9999, 2382, VIC, {Unit1/10, Barkley Street}, 0123}, {Home Town, 1101, 9999, 013A, WA, {34 Term Address Street, null}, 0123A}]}, {1, 1990-09-26, 1004, {[8104, 1101]}, {[8104, 1101]}, 1990-09-26, 1101, {1671}, {1}, 3, {[{0001, 1}]}, {4111, 2030-12-11, 9}, P, Clayton, {2013}, {[{2000-09-01, Baptism}, {2009-12-24, Christmas}]}, The Religion Region, 1, VIC, 05, 101, {[{2016-12-26, 2017-12-26, 401, 2019-07-25, 05}]}}, {[{01, Sideshow.Bob@yahoo.com}, {02, freddy@gmail.com}]}, {Sideshow, Bob Sideshow, Bob, LGL}, {[{Anderson, Samuel Anderson, Samuel, AKA}, {Rowinski, Sam Rowinski , Sam, PRF}]}, {[{72289, Y, 03 9637-2289, 0096}, {null, N, 0412-345-678, 0888}]}}",
                  "2": "7C834EA9-EDA1-2090-347F-83297E1C290C",
                  "3": "0a390705b86c0180e9a80bcdca9e50b4c8b8ffa0f4aed4bdb31a6ff397bb3fb6",
                  "4": "6c11198df1ffb67afe247743d8b10ee375565a0ef45801e80869d76b7586ef1c"
                },
                {
                  "0": "S1234981",
                  "1": "{{[{Yarra Glenn, 1101, 9999, 2382, VIC, {Unit1/10, Barkley Street}, 0123}, {Home Town, 1101, 9999, 013A, WA, {34 Term Address Street, null}, 0123A}]}, {1, 1990-09-26, 1004, {[8104, 1101]}, {[8104, 1101]}, 1990-09-26, 1101, {1671}, {1}, 3, {[{0001, 1}]}, {4111, 2030-12-11, 9}, P, Clayton, {2013}, {[{2000-09-01, Baptism}, {2009-12-24, Christmas}]}, The Religion Region, 1, VIC, 05, 101, {[{2016-12-26, 2017-12-26, 401, 2019-07-25, 05}]}}, {[{01, Ned.Flanders@yahoo.com}, {02, Ned_Flanders@gmail.com}]}, {Flanders, Ned Flanders, Ned, LGL}, {[{Anderson, Samuel Anderson, Samuel, AKA}, {Rowinski, Sam Rowinski , Sam, PRF}]}, {[{72289, Y, 03 9637-2289, 0096}, {null, N, 0412-345-678, 0888}]}}",
                  "2": "7C834EA9-EDA1-2090-347F-83297E1C290D",
                  "3": "f9d9b6b4cc79a1f82c1c1221cfabb6b1c92876ec0d02103fea9d93ec1e8e5ead",
                  "4": "80c18d7a1e65cbd9424a15a4b5c24b0a41cb6c14888a90b832269cce58f35598"
                }
              ],
              "schema": [
                {
                  "key": "0",
                  "name": "LocalId",
                  "type": "string"
                },
                {
                  "key": "1",
                  "name": "PersonInfo",
                  "type": "string"
                },
                {
                  "key": "2",
                  "name": "RefId",
                  "type": "string"
                },
                {
                  "key": "3",
                  "name": "LocalId_pseudonym",
                  "type": "string"
                },
                {
                  "key": "4",
                  "name": "RefId_pseudonym",
                  "type": "string"
                }
              ],
              "truncated": false
            },
            "isSummary": false,
            "language": "scala"
          },
          "persist_state": {
            "view": {
              "type": "details",
              "tableOptions": {},
              "chartOptions": {
                "chartType": "bar",
                "aggregationType": "count",
                "categoryFieldKeys": [
                  "0"
                ],
                "seriesFieldKeys": [
                  "0"
                ],
                "isStacked": false
              }
            }
          }
        },
        "13c040a3-16e2-4339-8a15-b555fb2abea2": {
          "type": "Synapse.DataFrame",
          "sync_state": {
            "table": {
              "rows": [
                {
                  "0": "S1234981",
                  "1": "N",
                  "2": "Y"
                },
                {
                  "0": "S1234981",
                  "1": "N",
                  "2": "Y"
                },
                {
                  "0": "S1234567",
                  "1": "N",
                  "2": "Y"
                },
                {
                  "0": "S1234981",
                  "1": "N",
                  "2": "Y"
                }
              ],
              "schema": [
                {
                  "key": "0",
                  "name": "LocalId",
                  "type": "string"
                },
                {
                  "key": "1",
                  "name": "Disability",
                  "type": "string"
                },
                {
                  "key": "2",
                  "name": "ESL",
                  "type": "string"
                }
              ],
              "truncated": false
            },
            "isSummary": false,
            "language": "scala"
          },
          "persist_state": {
            "view": {
              "type": "details",
              "tableOptions": {},
              "chartOptions": {
                "chartType": "bar",
                "aggregationType": "count",
                "categoryFieldKeys": [
                  "0"
                ],
                "seriesFieldKeys": [
                  "0"
                ],
                "isStacked": false
              }
            }
          }
        }
      }
    }
  },
  "nbformat": 4,
  "nbformat_minor": 2
}