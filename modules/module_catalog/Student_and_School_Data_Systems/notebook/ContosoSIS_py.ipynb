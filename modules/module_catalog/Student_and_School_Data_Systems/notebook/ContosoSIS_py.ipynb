{
  "cells": [
    {
      "cell_type": "code",
      "execution_count": null,
      "metadata": {},
      "outputs": [],
      "source": [
        "class ContosoSIS(BaseOEAModule):\n",
        "    def __init__(self, source_folder='contoso_sis', pseudonymize = True):\n",
        "        BaseOEAModule.__init__(self, source_folder, pseudonymize)\n",
        "        self.schemas['studentattendance'] = [['id', 'string', 'hash'],\n",
        "                                           ['system_id', 'string', 'no-op'],\n",
        "                                            ['system_name', 'string', 'no-op'],\n",
        "                                            ['school_year', 'integer', 'partition-by'],\n",
        "                                            ['school_id', 'string', 'no-op'],\n",
        "                                            ['school_name', 'string', 'no-op'],\n",
        "                                            ['grade_configuration', 'string', 'no-op'],\n",
        "                                            ['grade_cluster', 'string', 'no-op'],\n",
        "                                            ['reporting_label', 'string', 'no-op'],\n",
        "                                            ['graduation_rate_type', 'string', 'no-op'],\n",
        "                                            ['graduation_rate', 'string', 'no-op']]\n",
        "\n",
        "        self.schemas['studentsectionmark'] = [['id', 'string', 'hash'],\n",
        "                                            ['school_year', 'string', 'no-op'],\n",
        "                                            ['system_id', 'string', 'no-op'],\n",
        "                                            ['system_name', 'string', 'partition-by'],\n",
        "                                            ['school_id', 'string', 'no-op'],\n",
        "                                            ['school_name', 'string', 'no-op'],\n",
        "                                            ['grade_configuration', 'string', 'no-op'],\n",
        "                                            ['grade_cluster', 'string', 'no-op'],\n",
        "                                            ['content_mastery', 'string', 'no-op'],\n",
        "                                            ['progress', 'string', 'no-op'],\n",
        "                                            ['closing_gaps', 'string', 'no-op']]\n",
        "\n",
        "        self.schemas['studentdemographics'] = [['id', 'string', 'hash'],\n",
        "                                            ['FederalRaceCategory', 'string', 'no-op'],\n",
        "                                            ['PrimaryLanguage', 'string', 'no-op'],\n",
        "                                            ['ELLStatus', 'string', 'no-op'],\n",
        "                                            ['SpecialEducation', 'string', 'no-op'],\n",
        "                                            ['LowIncome', 'boolean', 'no-op']]                                            \n",
        "\n",
        "    def ingest(self):\n",
        "        oea.ingest_incremental_data(self.source_folder, 'studentattendance', self.schemas['studentattendance'], 'school_year', 'id')\n",
        "        oea.ingest_snapshot_data(self.source_folder, 'studentsectionmark', self.schemas['studentsectionmark'], 'school_year', 'id')\n",
        "        oea.ingest_delta_data(self.source_folder, 'studentdemographics', self.schemas['studentdemographics'], 'school_year', 'id')\n",
        "\n",
        "contoso_sis = ContosoSIS()"
      ]
    }
  ],
  "metadata": {
    "kernelspec": {
      "display_name": "python",
      "name": "synapse_pyspark"
    },
    "language_info": {
      "name": "python"
    },
    "save_output": true,
    "synapse_widget": {
      "state": {},
      "version": "0.1"
    }
  },
  "nbformat": 4,
  "nbformat_minor": 2
}
