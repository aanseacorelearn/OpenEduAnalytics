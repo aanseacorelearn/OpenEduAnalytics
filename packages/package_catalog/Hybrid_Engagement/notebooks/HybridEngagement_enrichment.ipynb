{
  "cells": [
    {
      "cell_type": "markdown",
      "source": [
        "# Hybrid Engagement Package Enrichment Notebook\r\n",
        "This notebook is intended to explore the capabilities of the OEA Hybrid Engagement package by processing SIS student data into a single table.\r\n",
        "\r\n",
        "**It is necessary that you review and execute the Microsoft Education Insights and Contoso SIS module pipelines, before testing this Hybrid Engagement enrichment notebook.**\r\n",
        "\r\n",
        "Below describes the execution process of the notebook:\r\n",
        "* First initialize the OEA framework class notebook.\r\n",
        "* Then the notebook processes the Insights module roster data and Contoso SIS module studentattendance data ingested into stage 2, by re-writing the schema to only include student data for mapping of the package Power BI dashboard. The tables used are:\r\n",
        "    * stage2p/\r\n",
        "        * contoso_sis/studentattendance_pseudo,\r\n",
        "        * M365/TechActivity_pseudo,\r\n",
        "        * M365/AadUser_pseudo,\r\n",
        "        * M365/AadUserPersonMapping_pseudo,\r\n",
        "        * M365/Person_pseudo,\r\n",
        "        * M365/PersonOrganizationRole_pseudo,\r\n",
        "        * M365/Organization_pseudo, and\r\n",
        "        * M365/RefDefinition_pseudo.\r\n",
        "    * stage2np/M365/\r\n",
        "        * AadUser_lookup, and\r\n",
        "        * Person_lookup.\r\n",
        "* The final resulting tables are written to stage 3:\r\n",
        "    * stage3p/hybrid_engagement/Student_pseudo\r\n",
        "    * stage3np/hybrid_engagement/Student_lookup"
      ],
      "metadata": {
        "nteract": {
          "transient": {
            "deleting": false
          }
        }
      }
    },
    {
      "cell_type": "code",
      "source": [
        "%run /OEA_py"
      ],
      "outputs": [
        {
          "output_type": "display_data",
          "data": {
            "application/vnd.livy.statement-meta+json": {
              "spark_pool": null,
              "session_id": "74",
              "statement_id": -1,
              "state": "finished",
              "livy_statement_state": "available",
              "queued_time": "2022-10-11T19:38:54.1612266Z",
              "session_start_time": null,
              "execution_start_time": "2022-10-11T19:43:18.2545051Z",
              "execution_finish_time": "2022-10-11T19:43:18.2547788Z",
              "spark_jobs": null
            },
            "text/plain": "StatementMeta(, 74, -1, Finished, Available)"
          },
          "metadata": {}
        },
        {
          "output_type": "stream",
          "name": "stdout",
          "text": [
            "2022-10-11 19:43:16,971 - OEA - DEBUG - OEA initialized.\nOEA initialized.\n"
          ]
        }
      ],
      "execution_count": 1,
      "metadata": {
        "jupyter": {
          "source_hidden": false,
          "outputs_hidden": false
        },
        "nteract": {
          "transient": {
            "deleting": false
          }
        }
      }
    },
    {
      "cell_type": "code",
      "source": [
        "# 0) Initialize the OEA framework.\r\n",
        "oea = OEA()"
      ],
      "outputs": [
        {
          "output_type": "display_data",
          "data": {
            "application/vnd.livy.statement-meta+json": {
              "spark_pool": "sparkMed",
              "session_id": "74",
              "statement_id": 2,
              "state": "finished",
              "livy_statement_state": "available",
              "queued_time": "2022-10-11T19:38:55.7632391Z",
              "session_start_time": null,
              "execution_start_time": "2022-10-11T19:43:18.3998987Z",
              "execution_finish_time": "2022-10-11T19:43:25.328131Z",
              "spark_jobs": null
            },
            "text/plain": "StatementMeta(sparkMed, 74, 2, Finished, Available)"
          },
          "metadata": {}
        },
        {
          "output_type": "stream",
          "name": "stdout",
          "text": [
            "2022-10-11 19:43:25,258 - OEA - DEBUG - OEA initialized.\n2022-10-11 19:43:25,258 - OEA - DEBUG - OEA initialized.\nOEA initialized.\n"
          ]
        }
      ],
      "execution_count": 2,
      "metadata": {
        "jupyter": {
          "source_hidden": false,
          "outputs_hidden": false
        },
        "nteract": {
          "transient": {
            "deleting": false
          }
        }
      }
    },
    {
      "cell_type": "markdown",
      "source": [
        "## Data Aggregations\r\n",
        "\r\n",
        "### SIS Student_pseudo table creation"
      ],
      "metadata": {
        "nteract": {
          "transient": {
            "deleting": false
          }
        }
      }
    },
    {
      "cell_type": "code",
      "source": [
        "dfContosoSIS_studentattendance = oea.load('contoso_sis', 'studentattendance_pseudo')\r\n",
        "dfInsights_techActivity = oea.load_delta('stage2p/digital_activity')\r\n",
        "dfInsights_aaduserpersonmapping = oea.load('M365', 'AadUserPersonMapping_pseudo')\r\n",
        "dfInsights_person = oea.load('M365', 'Person_pseudo')\r\n",
        "dfInsights_personOrgRole = oea.load('M365', 'PersonOrganizationRole_pseudo')\r\n",
        "dfInsights_organization = oea.load('M365', 'Organization_pseudo')\r\n",
        "dfInsights_refDefinition = oea.load('M365', 'RefDefinition_pseudo')"
      ],
      "outputs": [
        {
          "output_type": "display_data",
          "data": {
            "application/vnd.livy.statement-meta+json": {
              "spark_pool": "sparkMed",
              "session_id": "74",
              "statement_id": 3,
              "state": "finished",
              "livy_statement_state": "available",
              "queued_time": "2022-10-11T19:38:58.7971574Z",
              "session_start_time": null,
              "execution_start_time": "2022-10-11T19:43:25.4486501Z",
              "execution_finish_time": "2022-10-11T19:43:38.3723923Z",
              "spark_jobs": null
            },
            "text/plain": "StatementMeta(sparkMed, 74, 3, Finished, Available)"
          },
          "metadata": {}
        }
      ],
      "execution_count": 3,
      "metadata": {
        "jupyter": {
          "source_hidden": false,
          "outputs_hidden": true
        },
        "nteract": {
          "transient": {
            "deleting": false
          }
        }
      }
    },
    {
      "cell_type": "code",
      "source": [
        "dfInsights = dfInsights_personOrgRole.join(dfInsights_person, dfInsights_personOrgRole.PersonId_pseudonym == dfInsights_person.Id_pseudonym, how='inner')\r\n",
        "dfInsights = dfInsights.select('PersonId_pseudonym', 'Surname', 'GivenName', 'MiddleName', 'RefRoleId', 'RefGradeLevelId', 'OrganizationId')\r\n",
        "display(dfInsights.limit(10))"
      ],
      "outputs": [
        {
          "output_type": "display_data",
          "data": {
            "application/vnd.livy.statement-meta+json": {
              "spark_pool": "sparkMed",
              "session_id": "74",
              "statement_id": 4,
              "state": "finished",
              "livy_statement_state": "available",
              "queued_time": "2022-10-11T19:39:00.2513517Z",
              "session_start_time": null,
              "execution_start_time": "2022-10-11T19:43:38.53917Z",
              "execution_finish_time": "2022-10-11T19:43:41.3614102Z",
              "spark_jobs": null
            },
            "text/plain": "StatementMeta(sparkMed, 74, 4, Finished, Available)"
          },
          "metadata": {}
        },
        {
          "output_type": "display_data",
          "data": {
            "application/vnd.synapse.widget-view+json": {
              "widget_id": "e9ff9da7-f189-4ff4-b248-04f1e6ba80d2",
              "widget_type": "Synapse.DataFrame"
            },
            "text/plain": "SynapseWidget(Synapse.DataFrame, e9ff9da7-f189-4ff4-b248-04f1e6ba80d2)"
          },
          "metadata": {}
        }
      ],
      "execution_count": 4,
      "metadata": {
        "jupyter": {
          "source_hidden": false,
          "outputs_hidden": false
        },
        "nteract": {
          "transient": {
            "deleting": false
          }
        },
        "collapsed": false
      }
    },
    {
      "cell_type": "code",
      "source": [
        "dfInsights = dfInsights.join(dfInsights_organization, dfInsights.OrganizationId == dfInsights_organization.Id, how='inner')\r\n",
        "dfInsights = dfInsights.withColumnRenamed('Name', 'OrganizationName')\r\n",
        "dfInsights = dfInsights.select('PersonId_pseudonym', 'Surname', 'GivenName', 'MiddleName', 'RefRoleId', 'RefGradeLevelId', 'OrganizationId', 'OrganizationName')\r\n",
        "display(dfInsights.limit(10))"
      ],
      "outputs": [
        {
          "output_type": "display_data",
          "data": {
            "application/vnd.livy.statement-meta+json": {
              "spark_pool": "sparkMed",
              "session_id": "74",
              "statement_id": 5,
              "state": "finished",
              "livy_statement_state": "available",
              "queued_time": "2022-10-11T19:39:02.2331523Z",
              "session_start_time": null,
              "execution_start_time": "2022-10-11T19:43:41.5061507Z",
              "execution_finish_time": "2022-10-11T19:43:44.2925224Z",
              "spark_jobs": null
            },
            "text/plain": "StatementMeta(sparkMed, 74, 5, Finished, Available)"
          },
          "metadata": {}
        },
        {
          "output_type": "display_data",
          "data": {
            "application/vnd.synapse.widget-view+json": {
              "widget_id": "bc659b43-69d7-41ba-87c5-fb991708b01e",
              "widget_type": "Synapse.DataFrame"
            },
            "text/plain": "SynapseWidget(Synapse.DataFrame, bc659b43-69d7-41ba-87c5-fb991708b01e)"
          },
          "metadata": {}
        }
      ],
      "execution_count": 5,
      "metadata": {
        "jupyter": {
          "source_hidden": false,
          "outputs_hidden": false
        },
        "nteract": {
          "transient": {
            "deleting": false
          }
        },
        "collapsed": false
      }
    },
    {
      "cell_type": "code",
      "source": [
        "dfInsights = dfInsights.join(dfInsights_refDefinition, dfInsights.RefRoleId == dfInsights_refDefinition.Id, how='inner')\r\n",
        "dfInsights = dfInsights.withColumnRenamed('Code', 'PersonRole')\r\n",
        "dfInsights = dfInsights.select('PersonId_pseudonym', 'Surname', 'GivenName', 'MiddleName', 'PersonRole', 'RefGradeLevelId', 'OrganizationId', 'OrganizationName')\r\n",
        "display(dfInsights.limit(10))"
      ],
      "outputs": [
        {
          "output_type": "display_data",
          "data": {
            "application/vnd.livy.statement-meta+json": {
              "spark_pool": "sparkMed",
              "session_id": "74",
              "statement_id": 6,
              "state": "finished",
              "livy_statement_state": "available",
              "queued_time": "2022-10-11T19:39:03.7280503Z",
              "session_start_time": null,
              "execution_start_time": "2022-10-11T19:43:44.4579049Z",
              "execution_finish_time": "2022-10-11T19:43:48.393509Z",
              "spark_jobs": null
            },
            "text/plain": "StatementMeta(sparkMed, 74, 6, Finished, Available)"
          },
          "metadata": {}
        },
        {
          "output_type": "display_data",
          "data": {
            "application/vnd.synapse.widget-view+json": {
              "widget_id": "6390c9d1-4f9a-4d3a-a629-aa424dfc5935",
              "widget_type": "Synapse.DataFrame"
            },
            "text/plain": "SynapseWidget(Synapse.DataFrame, 6390c9d1-4f9a-4d3a-a629-aa424dfc5935)"
          },
          "metadata": {}
        }
      ],
      "execution_count": 6,
      "metadata": {
        "jupyter": {
          "source_hidden": false,
          "outputs_hidden": false
        },
        "nteract": {
          "transient": {
            "deleting": false
          }
        },
        "collapsed": false
      }
    },
    {
      "cell_type": "code",
      "source": [
        "dfInsights = dfInsights.join(dfInsights_refDefinition, dfInsights.RefGradeLevelId == dfInsights_refDefinition.Id, how='inner')\r\n",
        "dfInsights = dfInsights.withColumnRenamed('Code', 'StudentGrade')\r\n",
        "dfInsights = dfInsights.select('PersonId_pseudonym', 'Surname', 'GivenName', 'MiddleName', 'PersonRole', 'StudentGrade', 'OrganizationId', 'OrganizationName')\r\n",
        "display(dfInsights.limit(10))"
      ],
      "outputs": [
        {
          "output_type": "display_data",
          "data": {
            "application/vnd.livy.statement-meta+json": {
              "spark_pool": "sparkMed",
              "session_id": "74",
              "statement_id": 7,
              "state": "finished",
              "livy_statement_state": "available",
              "queued_time": "2022-10-11T19:39:04.933071Z",
              "session_start_time": null,
              "execution_start_time": "2022-10-11T19:43:48.5224848Z",
              "execution_finish_time": "2022-10-11T19:43:52.5443067Z",
              "spark_jobs": null
            },
            "text/plain": "StatementMeta(sparkMed, 74, 7, Finished, Available)"
          },
          "metadata": {}
        },
        {
          "output_type": "display_data",
          "data": {
            "application/vnd.synapse.widget-view+json": {
              "widget_id": "58b65b15-2ad0-415f-ace5-987d31063df2",
              "widget_type": "Synapse.DataFrame"
            },
            "text/plain": "SynapseWidget(Synapse.DataFrame, 58b65b15-2ad0-415f-ace5-987d31063df2)"
          },
          "metadata": {}
        }
      ],
      "execution_count": 7,
      "metadata": {
        "jupyter": {
          "source_hidden": false,
          "outputs_hidden": false
        },
        "nteract": {
          "transient": {
            "deleting": false
          }
        },
        "collapsed": false
      }
    },
    {
      "cell_type": "code",
      "source": [
        "dfInsights_aaduserpersonmapping = dfInsights_aaduserpersonmapping.withColumnRenamed('PersonId_pseudonym', 'StudentId_internal_pseudonym')\r\n",
        "dfInsights = dfInsights.join(dfInsights_aaduserpersonmapping, dfInsights.PersonId_pseudonym == dfInsights_aaduserpersonmapping.StudentId_internal_pseudonym, how='inner')\r\n",
        "dfInsights = dfInsights.withColumnRenamed('ObjectId_pseudonym', 'StudentId_external_pseudonym')\r\n",
        "dfInsights = dfInsights.select('StudentId_internal_pseudonym', 'StudentId_external_pseudonym', 'Surname', 'GivenName', 'MiddleName', 'PersonRole', 'StudentGrade', 'OrganizationId', 'OrganizationName')\r\n",
        "display(dfInsights.limit(10))"
      ],
      "outputs": [
        {
          "output_type": "display_data",
          "data": {
            "application/vnd.livy.statement-meta+json": {
              "spark_pool": "sparkMed",
              "session_id": "74",
              "statement_id": 8,
              "state": "finished",
              "livy_statement_state": "available",
              "queued_time": "2022-10-11T19:39:11.2712129Z",
              "session_start_time": null,
              "execution_start_time": "2022-10-11T19:43:52.7238003Z",
              "execution_finish_time": "2022-10-11T19:43:56.7277067Z",
              "spark_jobs": null
            },
            "text/plain": "StatementMeta(sparkMed, 74, 8, Finished, Available)"
          },
          "metadata": {}
        },
        {
          "output_type": "display_data",
          "data": {
            "application/vnd.synapse.widget-view+json": {
              "widget_id": "278cff95-a87a-40a5-8042-e2925451fab6",
              "widget_type": "Synapse.DataFrame"
            },
            "text/plain": "SynapseWidget(Synapse.DataFrame, 278cff95-a87a-40a5-8042-e2925451fab6)"
          },
          "metadata": {}
        }
      ],
      "execution_count": 8,
      "metadata": {
        "jupyter": {
          "source_hidden": false,
          "outputs_hidden": false
        },
        "nteract": {
          "transient": {
            "deleting": false
          }
        },
        "collapsed": false
      }
    },
    {
      "cell_type": "markdown",
      "source": [
        "### StudentAttendance Enrichment"
      ],
      "metadata": {
        "nteract": {
          "transient": {
            "deleting": false
          }
        }
      }
    },
    {
      "cell_type": "code",
      "source": [
        "dfContosoSIS_studentattendance = dfContosoSIS_studentattendance.select('student_id_pseudonym', 'AttendanceCode')\r\n",
        "dfContosoSIS_studentattendance = dfContosoSIS_studentattendance.withColumn('AttendanceCode_value', F.when(F.col('AttendanceCode') == \"P\", 1).otherwise(0))\r\n",
        "dfAttendance = dfContosoSIS_studentattendance.groupBy(\"student_id_pseudonym\").mean(\"AttendanceCode_value\").alias(\"AttendanceAverage\")\r\n",
        "display(dfAttendance.limit(10))"
      ],
      "outputs": [
        {
          "output_type": "display_data",
          "data": {
            "application/vnd.livy.statement-meta+json": {
              "spark_pool": "sparkMed",
              "session_id": "74",
              "statement_id": 9,
              "state": "finished",
              "livy_statement_state": "available",
              "queued_time": "2022-10-11T19:39:14.041927Z",
              "session_start_time": null,
              "execution_start_time": "2022-10-11T19:43:56.8472853Z",
              "execution_finish_time": "2022-10-11T19:44:02.3148441Z",
              "spark_jobs": null
            },
            "text/plain": "StatementMeta(sparkMed, 74, 9, Finished, Available)"
          },
          "metadata": {}
        },
        {
          "output_type": "display_data",
          "data": {
            "application/vnd.synapse.widget-view+json": {
              "widget_id": "a92a8876-53ac-4497-9947-072feb7f0ec9",
              "widget_type": "Synapse.DataFrame"
            },
            "text/plain": "SynapseWidget(Synapse.DataFrame, a92a8876-53ac-4497-9947-072feb7f0ec9)"
          },
          "metadata": {}
        }
      ],
      "execution_count": 9,
      "metadata": {
        "jupyter": {
          "source_hidden": false,
          "outputs_hidden": false
        },
        "nteract": {
          "transient": {
            "deleting": false
          }
        },
        "collapsed": false
      }
    },
    {
      "cell_type": "code",
      "source": [
        "dfAttendance = dfAttendance.withColumnRenamed('avg(AttendanceCode_value)', 'AverageAttendance_inPerson')\r\n",
        "dfInsights = dfInsights.join(dfAttendance, dfInsights.StudentId_external_pseudonym == dfAttendance.student_id_pseudonym, how='inner')\r\n",
        "dfInsights = dfInsights.select('StudentId_internal_pseudonym', 'StudentId_external_pseudonym', 'Surname', 'GivenName', 'MiddleName', 'PersonRole', 'StudentGrade', 'AverageAttendance_inPerson', 'OrganizationId', 'OrganizationName')\r\n",
        "display(dfInsights.limit(10))"
      ],
      "outputs": [
        {
          "output_type": "display_data",
          "data": {
            "application/vnd.livy.statement-meta+json": {
              "spark_pool": "sparkMed",
              "session_id": "74",
              "statement_id": 10,
              "state": "finished",
              "livy_statement_state": "available",
              "queued_time": "2022-10-11T19:39:21.1082521Z",
              "session_start_time": null,
              "execution_start_time": "2022-10-11T19:44:02.4716663Z",
              "execution_finish_time": "2022-10-11T19:44:09.3653114Z",
              "spark_jobs": null
            },
            "text/plain": "StatementMeta(sparkMed, 74, 10, Finished, Available)"
          },
          "metadata": {}
        },
        {
          "output_type": "display_data",
          "data": {
            "application/vnd.synapse.widget-view+json": {
              "widget_id": "55b47e06-be77-4a95-9170-423cedadfa57",
              "widget_type": "Synapse.DataFrame"
            },
            "text/plain": "SynapseWidget(Synapse.DataFrame, 55b47e06-be77-4a95-9170-423cedadfa57)"
          },
          "metadata": {}
        }
      ],
      "execution_count": 10,
      "metadata": {
        "jupyter": {
          "source_hidden": false,
          "outputs_hidden": false
        },
        "nteract": {
          "transient": {
            "deleting": false
          }
        },
        "collapsed": false
      }
    },
    {
      "cell_type": "markdown",
      "source": [
        "### TechActivity Enrichment\r\n",
        "From the Microsoft Education Insights module"
      ],
      "metadata": {
        "nteract": {
          "transient": {
            "deleting": false
          }
        }
      }
    },
    {
      "cell_type": "code",
      "source": [
        "dfInsights_techActivity = dfInsights_techActivity.filter(dfInsights_techActivity['event_object'] == 'MS_Insights')\r\n",
        "dfInsights_techActivity = dfInsights_techActivity.select('event_actor', 'event_eventTime')\r\n",
        "# get the total number of days from Insights-recorded digital activity\r\n",
        "metadata_table = dfInsights_techActivity.groupBy(\"event_eventTime\").count()\r\n",
        "number_of_days_recorded = metadata_table.count()\r\n",
        "# get the average number of days there was Insights digital activity per student\r\n",
        "metadata_table2 = dfInsights_techActivity.groupBy(\"event_actor\", \"event_eventTime\").count()\r\n",
        "metadata_table2 = metadata_table2.drop(F.col('count'))\r\n",
        "metadata_table2 = metadata_table2.withColumn('DigitalAttendanceCode_value', F.lit(1))\r\n",
        "metadata_table2 = metadata_table2.groupBy(\"event_actor\").sum('DigitalAttendanceCode_value')\r\n",
        "metadata_table2 = metadata_table2.withColumnRenamed('sum(DigitalAttendanceCode_value)', 'AverageAttendance_digital')\r\n",
        "dfDigitalAttendance_insights = metadata_table2.withColumn('AverageAttendance_digital', F.col('AverageAttendance_digital') / number_of_days_recorded)\r\n",
        "display(dfDigitalAttendance_insights.limit(10))"
      ],
      "outputs": [
        {
          "output_type": "display_data",
          "data": {
            "application/vnd.livy.statement-meta+json": {
              "spark_pool": "sparkMed",
              "session_id": "74",
              "statement_id": 11,
              "state": "finished",
              "livy_statement_state": "available",
              "queued_time": "2022-10-11T19:39:25.2660263Z",
              "session_start_time": null,
              "execution_start_time": "2022-10-11T19:44:09.4840574Z",
              "execution_finish_time": "2022-10-11T19:44:17.1971876Z",
              "spark_jobs": null
            },
            "text/plain": "StatementMeta(sparkMed, 74, 11, Finished, Available)"
          },
          "metadata": {}
        },
        {
          "output_type": "display_data",
          "data": {
            "application/vnd.synapse.widget-view+json": {
              "widget_id": "58b3b990-54d0-4c04-88d2-96054f0e1576",
              "widget_type": "Synapse.DataFrame"
            },
            "text/plain": "SynapseWidget(Synapse.DataFrame, 58b3b990-54d0-4c04-88d2-96054f0e1576)"
          },
          "metadata": {}
        }
      ],
      "execution_count": 11,
      "metadata": {
        "jupyter": {
          "source_hidden": false,
          "outputs_hidden": false
        },
        "nteract": {
          "transient": {
            "deleting": false
          }
        },
        "collapsed": false
      }
    },
    {
      "cell_type": "code",
      "source": [
        "# Map the user back to the correct SIS student ID from Person ID\r\n",
        "dfInsights = dfInsights.join(dfDigitalAttendance_insights, dfInsights.StudentId_external_pseudonym == dfDigitalAttendance_insights.event_actor, how='inner')\r\n",
        "dfInsights = dfInsights.select('StudentId_internal_pseudonym', 'StudentId_external_pseudonym', 'Surname', 'GivenName', 'MiddleName', 'PersonRole', 'StudentGrade', 'AverageAttendance_inPerson', 'AverageAttendance_digital', 'OrganizationId', 'OrganizationName')\r\n",
        "display(dfInsights.limit(10))"
      ],
      "outputs": [
        {
          "output_type": "display_data",
          "data": {
            "application/vnd.livy.statement-meta+json": {
              "spark_pool": "sparkMed",
              "session_id": "74",
              "statement_id": 12,
              "state": "finished",
              "livy_statement_state": "available",
              "queued_time": "2022-10-11T19:39:28.9763666Z",
              "session_start_time": null,
              "execution_start_time": "2022-10-11T19:44:17.3228748Z",
              "execution_finish_time": "2022-10-11T19:44:26.1176428Z",
              "spark_jobs": null
            },
            "text/plain": "StatementMeta(sparkMed, 74, 12, Finished, Available)"
          },
          "metadata": {}
        },
        {
          "output_type": "display_data",
          "data": {
            "application/vnd.synapse.widget-view+json": {
              "widget_id": "e3c72a8f-9367-40b2-8df2-cdc64d7b12f2",
              "widget_type": "Synapse.DataFrame"
            },
            "text/plain": "SynapseWidget(Synapse.DataFrame, e3c72a8f-9367-40b2-8df2-cdc64d7b12f2)"
          },
          "metadata": {}
        }
      ],
      "execution_count": 12,
      "metadata": {
        "jupyter": {
          "source_hidden": false,
          "outputs_hidden": false
        },
        "nteract": {
          "transient": {
            "deleting": false
          }
        },
        "collapsed": false
      }
    },
    {
      "cell_type": "markdown",
      "source": [
        "### Write SIS Student_pseudo table to Stage 3p"
      ],
      "metadata": {
        "nteract": {
          "transient": {
            "deleting": false
          }
        }
      }
    },
    {
      "cell_type": "code",
      "source": [
        "dfInsights.coalesce(1).write.format('delta').mode('overwrite').option('header', True).save(oea.stage3p + '/hybrid_engagement/Student_pseudo')"
      ],
      "outputs": [
        {
          "output_type": "display_data",
          "data": {
            "application/vnd.livy.statement-meta+json": {
              "spark_pool": "sparkMed",
              "session_id": "74",
              "statement_id": 13,
              "state": "finished",
              "livy_statement_state": "available",
              "queued_time": "2022-10-11T19:40:09.9882933Z",
              "session_start_time": null,
              "execution_start_time": "2022-10-11T19:44:26.2303974Z",
              "execution_finish_time": "2022-10-11T19:44:38.1325546Z",
              "spark_jobs": null
            },
            "text/plain": "StatementMeta(sparkMed, 74, 13, Finished, Available)"
          },
          "metadata": {}
        }
      ],
      "execution_count": 13,
      "metadata": {
        "jupyter": {
          "source_hidden": false,
          "outputs_hidden": false
        },
        "nteract": {
          "transient": {
            "deleting": false
          }
        }
      }
    },
    {
      "cell_type": "markdown",
      "source": [
        "## Data Aggregations\r\n",
        "\r\n",
        "### SIS Student_lookup table creation"
      ],
      "metadata": {
        "nteract": {
          "transient": {
            "deleting": false
          }
        }
      }
    },
    {
      "cell_type": "code",
      "source": [
        "dfInsights_person_np = oea.load('M365', 'Person_lookup', stage=oea.stage2np)\r\n",
        "dfInsights_aaduser_np = oea.load('M365', 'AadUser_lookup', stage=oea.stage2np)\r\n",
        "dfInsights_np = dfInsights_person_np.join(dfInsights_aaduserpersonmapping, dfInsights_person_np.Id_pseudonym == dfInsights_aaduserpersonmapping.StudentId_internal_pseudonym, how='inner')\r\n",
        "dfInsights_np = dfInsights_np.withColumnRenamed('Id', 'StudentId_internal').withColumnRenamed('ObjectId_pseudonym', 'StudentId_external_pseudonym')\r\n",
        "dfInsights_np = dfInsights_np.select('StudentId_internal_pseudonym', 'StudentId_internal', 'StudentId_external_pseudonym', 'Surname', 'GivenName', 'MiddleName')\r\n",
        "display(dfInsights_np.limit(10))"
      ],
      "outputs": [
        {
          "output_type": "display_data",
          "data": {
            "application/vnd.livy.statement-meta+json": {
              "spark_pool": "sparkMed",
              "session_id": "74",
              "statement_id": 14,
              "state": "finished",
              "livy_statement_state": "available",
              "queued_time": "2022-10-11T19:40:21.1757193Z",
              "session_start_time": null,
              "execution_start_time": "2022-10-11T19:44:38.2381906Z",
              "execution_finish_time": "2022-10-11T19:44:44.650976Z",
              "spark_jobs": null
            },
            "text/plain": "StatementMeta(sparkMed, 74, 14, Finished, Available)"
          },
          "metadata": {}
        },
        {
          "output_type": "display_data",
          "data": {
            "application/vnd.synapse.widget-view+json": {
              "widget_id": "65ed3eb3-9fc2-4493-9b0f-ab229b51739d",
              "widget_type": "Synapse.DataFrame"
            },
            "text/plain": "SynapseWidget(Synapse.DataFrame, 65ed3eb3-9fc2-4493-9b0f-ab229b51739d)"
          },
          "metadata": {}
        }
      ],
      "execution_count": 14,
      "metadata": {
        "jupyter": {
          "source_hidden": false,
          "outputs_hidden": false
        },
        "nteract": {
          "transient": {
            "deleting": false
          }
        },
        "collapsed": false
      }
    },
    {
      "cell_type": "code",
      "source": [
        "dfInsights_aaduser_np = dfInsights_aaduser_np.withColumnRenamed('Surname', 'Surname2').withColumnRenamed('GivenName', 'GivenName2')\r\n",
        "dfInsights_np = dfInsights_np.join(dfInsights_aaduser_np, dfInsights_np.StudentId_external_pseudonym == dfInsights_aaduser_np.ObjectId_pseudonym, how='inner')\r\n",
        "dfInsights_np = dfInsights_np.withColumnRenamed('ObjectId', 'StudentId_external')\r\n",
        "dfInsights_np = dfInsights_np.select('StudentId_internal_pseudonym', 'StudentId_internal', 'StudentId_external_pseudonym', 'StudentId_external', 'Surname', 'GivenName', 'MiddleName')\r\n",
        "display(dfInsights_np.limit(10))"
      ],
      "outputs": [
        {
          "output_type": "display_data",
          "data": {
            "application/vnd.livy.statement-meta+json": {
              "spark_pool": "sparkMed",
              "session_id": "74",
              "statement_id": 15,
              "state": "finished",
              "livy_statement_state": "available",
              "queued_time": "2022-10-11T19:40:22.3734329Z",
              "session_start_time": null,
              "execution_start_time": "2022-10-11T19:44:44.7545204Z",
              "execution_finish_time": "2022-10-11T19:44:47.5713834Z",
              "spark_jobs": null
            },
            "text/plain": "StatementMeta(sparkMed, 74, 15, Finished, Available)"
          },
          "metadata": {}
        },
        {
          "output_type": "display_data",
          "data": {
            "application/vnd.synapse.widget-view+json": {
              "widget_id": "106b862d-8859-4318-aaa4-2f9573c49e1b",
              "widget_type": "Synapse.DataFrame"
            },
            "text/plain": "SynapseWidget(Synapse.DataFrame, 106b862d-8859-4318-aaa4-2f9573c49e1b)"
          },
          "metadata": {}
        }
      ],
      "execution_count": 15,
      "metadata": {
        "jupyter": {
          "source_hidden": false,
          "outputs_hidden": false
        },
        "nteract": {
          "transient": {
            "deleting": false
          }
        },
        "collapsed": false
      }
    },
    {
      "cell_type": "markdown",
      "source": [
        "### Write SIS Student_lookup table to Stage 3np"
      ],
      "metadata": {
        "nteract": {
          "transient": {
            "deleting": false
          }
        }
      }
    },
    {
      "cell_type": "code",
      "source": [
        "dfInsights_np.coalesce(1).write.format('delta').mode('overwrite').option('header', True).save(oea.stage3np + '/hybrid_engagement/Student_lookup')"
      ],
      "outputs": [
        {
          "output_type": "display_data",
          "data": {
            "application/vnd.livy.statement-meta+json": {
              "spark_pool": "sparkMed",
              "session_id": "74",
              "statement_id": 16,
              "state": "finished",
              "livy_statement_state": "available",
              "queued_time": "2022-10-11T19:40:23.4648074Z",
              "session_start_time": null,
              "execution_start_time": "2022-10-11T19:44:47.6782932Z",
              "execution_finish_time": "2022-10-11T19:44:53.262572Z",
              "spark_jobs": null
            },
            "text/plain": "StatementMeta(sparkMed, 74, 16, Finished, Available)"
          },
          "metadata": {}
        }
      ],
      "execution_count": 16,
      "metadata": {
        "jupyter": {
          "source_hidden": false,
          "outputs_hidden": false
        },
        "nteract": {
          "transient": {
            "deleting": false
          }
        }
      }
    }
  ],
  "metadata": {
    "kernelspec": {
      "name": "synapse_pyspark",
      "language": "Python",
      "display_name": "Synapse PySpark"
    },
    "language_info": {
      "name": "python"
    },
    "kernel_info": {
      "name": "synapse_pyspark"
    },
    "description": null,
    "save_output": true,
    "synapse_widget": {
      "version": "0.1",
      "state": {
        "e9ff9da7-f189-4ff4-b248-04f1e6ba80d2": {
          "type": "Synapse.DataFrame",
          "sync_state": {
            "table": {
              "rows": [
                {
                  "0": "c7a6a548514696f2cabebd3d38534b8361c8716633295a4c8e71d98199ef2e71",
                  "1": "*",
                  "2": "*",
                  "3": "*",
                  "4": "43F4D867-D4B7-4EAC-886C-9BD3B3BB96A7",
                  "5": "3C1EF2CC-7EC5-45BC-A63F-BE50DD1EA8F0",
                  "6": "ab2a9665-ce87-4120-a8b5-edd392875e42"
                },
                {
                  "0": "6bc9a18a3dcff4010d78e8707fbfccebd6ea80ca7c7d8abcf47c194ff36ca9a1",
                  "1": "*",
                  "2": "*",
                  "3": "*",
                  "4": "43F4D867-D4B7-4EAC-886C-9BD3B3BB96A7",
                  "5": "865D3FCF-9711-4D63-8621-00715E148B70",
                  "6": "ab2a9665-ce87-4120-a8b5-edd392875e42"
                },
                {
                  "0": "f9aa4222728f10dc0bfb02296a6850123722bd8f3da62dd09019499b7f440a71",
                  "1": "*",
                  "2": "*",
                  "3": "*",
                  "4": "43F4D867-D4B7-4EAC-886C-9BD3B3BB96A7",
                  "5": "54BBE54F-5557-4890-8752-70A0CC452450",
                  "6": "ab2a9665-ce87-4120-a8b5-edd392875e42"
                },
                {
                  "0": "741fd0392de15ce5de201e071c6611ed64c1f01a81f9043ec40f03cf6d71be52",
                  "1": "*",
                  "2": "*",
                  "3": "*",
                  "4": "43F4D867-D4B7-4EAC-886C-9BD3B3BB96A7",
                  "5": "865D3FCF-9711-4D63-8621-00715E148B70",
                  "6": "ab2a9665-ce87-4120-a8b5-edd392875e42"
                },
                {
                  "0": "899e96422ff81809b165d9e19296d581f67ae2965e7146cf1f1d5ab9908f5838",
                  "1": "*",
                  "2": "*",
                  "3": "*",
                  "4": "43F4D867-D4B7-4EAC-886C-9BD3B3BB96A7",
                  "5": "865D3FCF-9711-4D63-8621-00715E148B70",
                  "6": "ab2a9665-ce87-4120-a8b5-edd392875e42"
                },
                {
                  "0": "44f7d423aa31c365e5190cff760ad7e0ba8620995165a6630f346572edd751b1",
                  "1": "*",
                  "2": "*",
                  "3": "*",
                  "4": "43F4D867-D4B7-4EAC-886C-9BD3B3BB96A7",
                  "5": "865D3FCF-9711-4D63-8621-00715E148B70",
                  "6": "ab2a9665-ce87-4120-a8b5-edd392875e42"
                },
                {
                  "0": "8d2a392ee2699bc6326e40a6a52bcd3ba6927ae0cc0281f0c185630046b87cfa",
                  "1": "*",
                  "2": "*",
                  "3": "*",
                  "4": "43F4D867-D4B7-4EAC-886C-9BD3B3BB96A7",
                  "5": "3C1EF2CC-7EC5-45BC-A63F-BE50DD1EA8F0",
                  "6": "ab2a9665-ce87-4120-a8b5-edd392875e42"
                },
                {
                  "0": "5ccfb0af1f77a150a1b995a72e381e6a4689c58c02997a3b6d249f65b3456d78",
                  "1": "*",
                  "2": "*",
                  "3": "*",
                  "4": "43F4D867-D4B7-4EAC-886C-9BD3B3BB96A7",
                  "5": "3C1EF2CC-7EC5-45BC-A63F-BE50DD1EA8F0",
                  "6": "ab2a9665-ce87-4120-a8b5-edd392875e42"
                },
                {
                  "0": "95bd66450dc58586771f997beef17a160305063eaa0966ddeb6d71f4d990ca5d",
                  "1": "*",
                  "2": "*",
                  "3": "*",
                  "4": "43F4D867-D4B7-4EAC-886C-9BD3B3BB96A7",
                  "5": "9E6944BB-5AF0-4D2D-B816-07AB98871DB4",
                  "6": "ab2a9665-ce87-4120-a8b5-edd392875e42"
                },
                {
                  "0": "b28d4edcdbe1a84095054be594815ee6333be526fc51e53eec6bdf520e5a148b",
                  "1": "*",
                  "2": "*",
                  "3": "*",
                  "4": "43F4D867-D4B7-4EAC-886C-9BD3B3BB96A7",
                  "5": "9E6944BB-5AF0-4D2D-B816-07AB98871DB4",
                  "6": "ab2a9665-ce87-4120-a8b5-edd392875e42"
                }
              ],
              "schema": [
                {
                  "key": "0",
                  "name": "PersonId_pseudonym",
                  "type": "string"
                },
                {
                  "key": "1",
                  "name": "Surname",
                  "type": "string"
                },
                {
                  "key": "2",
                  "name": "GivenName",
                  "type": "string"
                },
                {
                  "key": "3",
                  "name": "MiddleName",
                  "type": "string"
                },
                {
                  "key": "4",
                  "name": "RefRoleId",
                  "type": "string"
                },
                {
                  "key": "5",
                  "name": "RefGradeLevelId",
                  "type": "string"
                },
                {
                  "key": "6",
                  "name": "OrganizationId",
                  "type": "string"
                }
              ],
              "truncated": false
            },
            "isSummary": false,
            "language": "scala"
          },
          "persist_state": {
            "view": {
              "type": "details",
              "tableOptions": {},
              "chartOptions": {
                "chartType": "bar",
                "aggregationType": "count",
                "categoryFieldKeys": [
                  "0"
                ],
                "seriesFieldKeys": [
                  "0"
                ],
                "isStacked": false
              }
            }
          }
        },
        "bc659b43-69d7-41ba-87c5-fb991708b01e": {
          "type": "Synapse.DataFrame",
          "sync_state": {
            "table": {
              "rows": [
                {
                  "0": "c7a6a548514696f2cabebd3d38534b8361c8716633295a4c8e71d98199ef2e71",
                  "1": "*",
                  "2": "*",
                  "3": "*",
                  "4": "43F4D867-D4B7-4EAC-886C-9BD3B3BB96A7",
                  "5": "3C1EF2CC-7EC5-45BC-A63F-BE50DD1EA8F0",
                  "6": "ab2a9665-ce87-4120-a8b5-edd392875e42",
                  "7": "Mitchell High"
                },
                {
                  "0": "6bc9a18a3dcff4010d78e8707fbfccebd6ea80ca7c7d8abcf47c194ff36ca9a1",
                  "1": "*",
                  "2": "*",
                  "3": "*",
                  "4": "43F4D867-D4B7-4EAC-886C-9BD3B3BB96A7",
                  "5": "865D3FCF-9711-4D63-8621-00715E148B70",
                  "6": "ab2a9665-ce87-4120-a8b5-edd392875e42",
                  "7": "Mitchell High"
                },
                {
                  "0": "f9aa4222728f10dc0bfb02296a6850123722bd8f3da62dd09019499b7f440a71",
                  "1": "*",
                  "2": "*",
                  "3": "*",
                  "4": "43F4D867-D4B7-4EAC-886C-9BD3B3BB96A7",
                  "5": "54BBE54F-5557-4890-8752-70A0CC452450",
                  "6": "ab2a9665-ce87-4120-a8b5-edd392875e42",
                  "7": "Mitchell High"
                },
                {
                  "0": "741fd0392de15ce5de201e071c6611ed64c1f01a81f9043ec40f03cf6d71be52",
                  "1": "*",
                  "2": "*",
                  "3": "*",
                  "4": "43F4D867-D4B7-4EAC-886C-9BD3B3BB96A7",
                  "5": "865D3FCF-9711-4D63-8621-00715E148B70",
                  "6": "ab2a9665-ce87-4120-a8b5-edd392875e42",
                  "7": "Mitchell High"
                },
                {
                  "0": "899e96422ff81809b165d9e19296d581f67ae2965e7146cf1f1d5ab9908f5838",
                  "1": "*",
                  "2": "*",
                  "3": "*",
                  "4": "43F4D867-D4B7-4EAC-886C-9BD3B3BB96A7",
                  "5": "865D3FCF-9711-4D63-8621-00715E148B70",
                  "6": "ab2a9665-ce87-4120-a8b5-edd392875e42",
                  "7": "Mitchell High"
                },
                {
                  "0": "44f7d423aa31c365e5190cff760ad7e0ba8620995165a6630f346572edd751b1",
                  "1": "*",
                  "2": "*",
                  "3": "*",
                  "4": "43F4D867-D4B7-4EAC-886C-9BD3B3BB96A7",
                  "5": "865D3FCF-9711-4D63-8621-00715E148B70",
                  "6": "ab2a9665-ce87-4120-a8b5-edd392875e42",
                  "7": "Mitchell High"
                },
                {
                  "0": "8d2a392ee2699bc6326e40a6a52bcd3ba6927ae0cc0281f0c185630046b87cfa",
                  "1": "*",
                  "2": "*",
                  "3": "*",
                  "4": "43F4D867-D4B7-4EAC-886C-9BD3B3BB96A7",
                  "5": "3C1EF2CC-7EC5-45BC-A63F-BE50DD1EA8F0",
                  "6": "ab2a9665-ce87-4120-a8b5-edd392875e42",
                  "7": "Mitchell High"
                },
                {
                  "0": "5ccfb0af1f77a150a1b995a72e381e6a4689c58c02997a3b6d249f65b3456d78",
                  "1": "*",
                  "2": "*",
                  "3": "*",
                  "4": "43F4D867-D4B7-4EAC-886C-9BD3B3BB96A7",
                  "5": "3C1EF2CC-7EC5-45BC-A63F-BE50DD1EA8F0",
                  "6": "ab2a9665-ce87-4120-a8b5-edd392875e42",
                  "7": "Mitchell High"
                },
                {
                  "0": "95bd66450dc58586771f997beef17a160305063eaa0966ddeb6d71f4d990ca5d",
                  "1": "*",
                  "2": "*",
                  "3": "*",
                  "4": "43F4D867-D4B7-4EAC-886C-9BD3B3BB96A7",
                  "5": "9E6944BB-5AF0-4D2D-B816-07AB98871DB4",
                  "6": "ab2a9665-ce87-4120-a8b5-edd392875e42",
                  "7": "Mitchell High"
                },
                {
                  "0": "b28d4edcdbe1a84095054be594815ee6333be526fc51e53eec6bdf520e5a148b",
                  "1": "*",
                  "2": "*",
                  "3": "*",
                  "4": "43F4D867-D4B7-4EAC-886C-9BD3B3BB96A7",
                  "5": "9E6944BB-5AF0-4D2D-B816-07AB98871DB4",
                  "6": "ab2a9665-ce87-4120-a8b5-edd392875e42",
                  "7": "Mitchell High"
                }
              ],
              "schema": [
                {
                  "key": "0",
                  "name": "PersonId_pseudonym",
                  "type": "string"
                },
                {
                  "key": "1",
                  "name": "Surname",
                  "type": "string"
                },
                {
                  "key": "2",
                  "name": "GivenName",
                  "type": "string"
                },
                {
                  "key": "3",
                  "name": "MiddleName",
                  "type": "string"
                },
                {
                  "key": "4",
                  "name": "RefRoleId",
                  "type": "string"
                },
                {
                  "key": "5",
                  "name": "RefGradeLevelId",
                  "type": "string"
                },
                {
                  "key": "6",
                  "name": "OrganizationId",
                  "type": "string"
                },
                {
                  "key": "7",
                  "name": "OrganizationName",
                  "type": "string"
                }
              ],
              "truncated": false
            },
            "isSummary": false,
            "language": "scala"
          },
          "persist_state": {
            "view": {
              "type": "details",
              "tableOptions": {},
              "chartOptions": {
                "chartType": "bar",
                "aggregationType": "count",
                "categoryFieldKeys": [
                  "0"
                ],
                "seriesFieldKeys": [
                  "0"
                ],
                "isStacked": false
              }
            }
          }
        },
        "6390c9d1-4f9a-4d3a-a629-aa424dfc5935": {
          "type": "Synapse.DataFrame",
          "sync_state": {
            "table": {
              "rows": [
                {
                  "0": "c7a6a548514696f2cabebd3d38534b8361c8716633295a4c8e71d98199ef2e71",
                  "1": "*",
                  "2": "*",
                  "3": "*",
                  "4": "Student",
                  "5": "3C1EF2CC-7EC5-45BC-A63F-BE50DD1EA8F0",
                  "6": "ab2a9665-ce87-4120-a8b5-edd392875e42",
                  "7": "Mitchell High"
                },
                {
                  "0": "6bc9a18a3dcff4010d78e8707fbfccebd6ea80ca7c7d8abcf47c194ff36ca9a1",
                  "1": "*",
                  "2": "*",
                  "3": "*",
                  "4": "Student",
                  "5": "865D3FCF-9711-4D63-8621-00715E148B70",
                  "6": "ab2a9665-ce87-4120-a8b5-edd392875e42",
                  "7": "Mitchell High"
                },
                {
                  "0": "f9aa4222728f10dc0bfb02296a6850123722bd8f3da62dd09019499b7f440a71",
                  "1": "*",
                  "2": "*",
                  "3": "*",
                  "4": "Student",
                  "5": "54BBE54F-5557-4890-8752-70A0CC452450",
                  "6": "ab2a9665-ce87-4120-a8b5-edd392875e42",
                  "7": "Mitchell High"
                },
                {
                  "0": "741fd0392de15ce5de201e071c6611ed64c1f01a81f9043ec40f03cf6d71be52",
                  "1": "*",
                  "2": "*",
                  "3": "*",
                  "4": "Student",
                  "5": "865D3FCF-9711-4D63-8621-00715E148B70",
                  "6": "ab2a9665-ce87-4120-a8b5-edd392875e42",
                  "7": "Mitchell High"
                },
                {
                  "0": "899e96422ff81809b165d9e19296d581f67ae2965e7146cf1f1d5ab9908f5838",
                  "1": "*",
                  "2": "*",
                  "3": "*",
                  "4": "Student",
                  "5": "865D3FCF-9711-4D63-8621-00715E148B70",
                  "6": "ab2a9665-ce87-4120-a8b5-edd392875e42",
                  "7": "Mitchell High"
                },
                {
                  "0": "44f7d423aa31c365e5190cff760ad7e0ba8620995165a6630f346572edd751b1",
                  "1": "*",
                  "2": "*",
                  "3": "*",
                  "4": "Student",
                  "5": "865D3FCF-9711-4D63-8621-00715E148B70",
                  "6": "ab2a9665-ce87-4120-a8b5-edd392875e42",
                  "7": "Mitchell High"
                },
                {
                  "0": "8d2a392ee2699bc6326e40a6a52bcd3ba6927ae0cc0281f0c185630046b87cfa",
                  "1": "*",
                  "2": "*",
                  "3": "*",
                  "4": "Student",
                  "5": "3C1EF2CC-7EC5-45BC-A63F-BE50DD1EA8F0",
                  "6": "ab2a9665-ce87-4120-a8b5-edd392875e42",
                  "7": "Mitchell High"
                },
                {
                  "0": "5ccfb0af1f77a150a1b995a72e381e6a4689c58c02997a3b6d249f65b3456d78",
                  "1": "*",
                  "2": "*",
                  "3": "*",
                  "4": "Student",
                  "5": "3C1EF2CC-7EC5-45BC-A63F-BE50DD1EA8F0",
                  "6": "ab2a9665-ce87-4120-a8b5-edd392875e42",
                  "7": "Mitchell High"
                },
                {
                  "0": "95bd66450dc58586771f997beef17a160305063eaa0966ddeb6d71f4d990ca5d",
                  "1": "*",
                  "2": "*",
                  "3": "*",
                  "4": "Student",
                  "5": "9E6944BB-5AF0-4D2D-B816-07AB98871DB4",
                  "6": "ab2a9665-ce87-4120-a8b5-edd392875e42",
                  "7": "Mitchell High"
                },
                {
                  "0": "b28d4edcdbe1a84095054be594815ee6333be526fc51e53eec6bdf520e5a148b",
                  "1": "*",
                  "2": "*",
                  "3": "*",
                  "4": "Student",
                  "5": "9E6944BB-5AF0-4D2D-B816-07AB98871DB4",
                  "6": "ab2a9665-ce87-4120-a8b5-edd392875e42",
                  "7": "Mitchell High"
                }
              ],
              "schema": [
                {
                  "key": "0",
                  "name": "PersonId_pseudonym",
                  "type": "string"
                },
                {
                  "key": "1",
                  "name": "Surname",
                  "type": "string"
                },
                {
                  "key": "2",
                  "name": "GivenName",
                  "type": "string"
                },
                {
                  "key": "3",
                  "name": "MiddleName",
                  "type": "string"
                },
                {
                  "key": "4",
                  "name": "PersonRole",
                  "type": "string"
                },
                {
                  "key": "5",
                  "name": "RefGradeLevelId",
                  "type": "string"
                },
                {
                  "key": "6",
                  "name": "OrganizationId",
                  "type": "string"
                },
                {
                  "key": "7",
                  "name": "OrganizationName",
                  "type": "string"
                }
              ],
              "truncated": false
            },
            "isSummary": false,
            "language": "scala"
          },
          "persist_state": {
            "view": {
              "type": "details",
              "tableOptions": {},
              "chartOptions": {
                "chartType": "bar",
                "aggregationType": "count",
                "categoryFieldKeys": [
                  "0"
                ],
                "seriesFieldKeys": [
                  "0"
                ],
                "isStacked": false
              }
            }
          }
        },
        "58b65b15-2ad0-415f-ace5-987d31063df2": {
          "type": "Synapse.DataFrame",
          "sync_state": {
            "table": {
              "rows": [
                {
                  "0": "c7a6a548514696f2cabebd3d38534b8361c8716633295a4c8e71d98199ef2e71",
                  "1": "*",
                  "2": "*",
                  "3": "*",
                  "4": "Student",
                  "5": "9",
                  "6": "ab2a9665-ce87-4120-a8b5-edd392875e42",
                  "7": "Mitchell High"
                },
                {
                  "0": "6bc9a18a3dcff4010d78e8707fbfccebd6ea80ca7c7d8abcf47c194ff36ca9a1",
                  "1": "*",
                  "2": "*",
                  "3": "*",
                  "4": "Student",
                  "5": "11",
                  "6": "ab2a9665-ce87-4120-a8b5-edd392875e42",
                  "7": "Mitchell High"
                },
                {
                  "0": "f9aa4222728f10dc0bfb02296a6850123722bd8f3da62dd09019499b7f440a71",
                  "1": "*",
                  "2": "*",
                  "3": "*",
                  "4": "Student",
                  "5": "10",
                  "6": "ab2a9665-ce87-4120-a8b5-edd392875e42",
                  "7": "Mitchell High"
                },
                {
                  "0": "741fd0392de15ce5de201e071c6611ed64c1f01a81f9043ec40f03cf6d71be52",
                  "1": "*",
                  "2": "*",
                  "3": "*",
                  "4": "Student",
                  "5": "11",
                  "6": "ab2a9665-ce87-4120-a8b5-edd392875e42",
                  "7": "Mitchell High"
                },
                {
                  "0": "899e96422ff81809b165d9e19296d581f67ae2965e7146cf1f1d5ab9908f5838",
                  "1": "*",
                  "2": "*",
                  "3": "*",
                  "4": "Student",
                  "5": "11",
                  "6": "ab2a9665-ce87-4120-a8b5-edd392875e42",
                  "7": "Mitchell High"
                },
                {
                  "0": "44f7d423aa31c365e5190cff760ad7e0ba8620995165a6630f346572edd751b1",
                  "1": "*",
                  "2": "*",
                  "3": "*",
                  "4": "Student",
                  "5": "11",
                  "6": "ab2a9665-ce87-4120-a8b5-edd392875e42",
                  "7": "Mitchell High"
                },
                {
                  "0": "8d2a392ee2699bc6326e40a6a52bcd3ba6927ae0cc0281f0c185630046b87cfa",
                  "1": "*",
                  "2": "*",
                  "3": "*",
                  "4": "Student",
                  "5": "9",
                  "6": "ab2a9665-ce87-4120-a8b5-edd392875e42",
                  "7": "Mitchell High"
                },
                {
                  "0": "5ccfb0af1f77a150a1b995a72e381e6a4689c58c02997a3b6d249f65b3456d78",
                  "1": "*",
                  "2": "*",
                  "3": "*",
                  "4": "Student",
                  "5": "9",
                  "6": "ab2a9665-ce87-4120-a8b5-edd392875e42",
                  "7": "Mitchell High"
                },
                {
                  "0": "95bd66450dc58586771f997beef17a160305063eaa0966ddeb6d71f4d990ca5d",
                  "1": "*",
                  "2": "*",
                  "3": "*",
                  "4": "Student",
                  "5": "12",
                  "6": "ab2a9665-ce87-4120-a8b5-edd392875e42",
                  "7": "Mitchell High"
                },
                {
                  "0": "b28d4edcdbe1a84095054be594815ee6333be526fc51e53eec6bdf520e5a148b",
                  "1": "*",
                  "2": "*",
                  "3": "*",
                  "4": "Student",
                  "5": "12",
                  "6": "ab2a9665-ce87-4120-a8b5-edd392875e42",
                  "7": "Mitchell High"
                }
              ],
              "schema": [
                {
                  "key": "0",
                  "name": "PersonId_pseudonym",
                  "type": "string"
                },
                {
                  "key": "1",
                  "name": "Surname",
                  "type": "string"
                },
                {
                  "key": "2",
                  "name": "GivenName",
                  "type": "string"
                },
                {
                  "key": "3",
                  "name": "MiddleName",
                  "type": "string"
                },
                {
                  "key": "4",
                  "name": "PersonRole",
                  "type": "string"
                },
                {
                  "key": "5",
                  "name": "StudentGrade",
                  "type": "string"
                },
                {
                  "key": "6",
                  "name": "OrganizationId",
                  "type": "string"
                },
                {
                  "key": "7",
                  "name": "OrganizationName",
                  "type": "string"
                }
              ],
              "truncated": false
            },
            "isSummary": false,
            "language": "scala"
          },
          "persist_state": {
            "view": {
              "type": "details",
              "tableOptions": {},
              "chartOptions": {
                "chartType": "bar",
                "aggregationType": "count",
                "categoryFieldKeys": [
                  "0"
                ],
                "seriesFieldKeys": [
                  "0"
                ],
                "isStacked": false
              }
            }
          }
        },
        "278cff95-a87a-40a5-8042-e2925451fab6": {
          "type": "Synapse.DataFrame",
          "sync_state": {
            "table": {
              "rows": [
                {
                  "0": "c7a6a548514696f2cabebd3d38534b8361c8716633295a4c8e71d98199ef2e71",
                  "1": "e919d1612b18c5f6505e04e8843fe9774198c0de4c84c0ef17c033b45cfe35fd",
                  "2": "*",
                  "3": "*",
                  "4": "*",
                  "5": "Student",
                  "6": "9",
                  "7": "ab2a9665-ce87-4120-a8b5-edd392875e42",
                  "8": "Mitchell High"
                },
                {
                  "0": "6bc9a18a3dcff4010d78e8707fbfccebd6ea80ca7c7d8abcf47c194ff36ca9a1",
                  "1": "5931763df30af35c6b83421ac630b8b647cf5d5405f8b65b7e49a4b9300e0ea1",
                  "2": "*",
                  "3": "*",
                  "4": "*",
                  "5": "Student",
                  "6": "11",
                  "7": "ab2a9665-ce87-4120-a8b5-edd392875e42",
                  "8": "Mitchell High"
                },
                {
                  "0": "f9aa4222728f10dc0bfb02296a6850123722bd8f3da62dd09019499b7f440a71",
                  "1": "bbee57a9314742a12e4490f868f7484e6ae24a4c07c998b681fdde2938d84a09",
                  "2": "*",
                  "3": "*",
                  "4": "*",
                  "5": "Student",
                  "6": "10",
                  "7": "ab2a9665-ce87-4120-a8b5-edd392875e42",
                  "8": "Mitchell High"
                },
                {
                  "0": "741fd0392de15ce5de201e071c6611ed64c1f01a81f9043ec40f03cf6d71be52",
                  "1": "2efbbf9e4cae48d02d440582f196b91c2b76bf24d58387d76ce5c453fe088fa8",
                  "2": "*",
                  "3": "*",
                  "4": "*",
                  "5": "Student",
                  "6": "11",
                  "7": "ab2a9665-ce87-4120-a8b5-edd392875e42",
                  "8": "Mitchell High"
                },
                {
                  "0": "899e96422ff81809b165d9e19296d581f67ae2965e7146cf1f1d5ab9908f5838",
                  "1": "62198b3154089acf0d1464dacbf7d35ee5f62822a27c066bfc26faa85cef7ee8",
                  "2": "*",
                  "3": "*",
                  "4": "*",
                  "5": "Student",
                  "6": "11",
                  "7": "ab2a9665-ce87-4120-a8b5-edd392875e42",
                  "8": "Mitchell High"
                },
                {
                  "0": "44f7d423aa31c365e5190cff760ad7e0ba8620995165a6630f346572edd751b1",
                  "1": "c49a8fa1a89ff16782c0e3995c0b0defce637d7d52d34762697a65388edc5ece",
                  "2": "*",
                  "3": "*",
                  "4": "*",
                  "5": "Student",
                  "6": "11",
                  "7": "ab2a9665-ce87-4120-a8b5-edd392875e42",
                  "8": "Mitchell High"
                },
                {
                  "0": "8d2a392ee2699bc6326e40a6a52bcd3ba6927ae0cc0281f0c185630046b87cfa",
                  "1": "0015dd1f2156b743b6e8ff6e6881ff9119ef58e71ddc8e85b11d755b3d654d4a",
                  "2": "*",
                  "3": "*",
                  "4": "*",
                  "5": "Student",
                  "6": "9",
                  "7": "ab2a9665-ce87-4120-a8b5-edd392875e42",
                  "8": "Mitchell High"
                },
                {
                  "0": "5ccfb0af1f77a150a1b995a72e381e6a4689c58c02997a3b6d249f65b3456d78",
                  "1": "e0eb9b73bc09c44a9f557aebb6a6bbff1a8af3a3a5dc0301e504d41912a7a086",
                  "2": "*",
                  "3": "*",
                  "4": "*",
                  "5": "Student",
                  "6": "9",
                  "7": "ab2a9665-ce87-4120-a8b5-edd392875e42",
                  "8": "Mitchell High"
                },
                {
                  "0": "95bd66450dc58586771f997beef17a160305063eaa0966ddeb6d71f4d990ca5d",
                  "1": "0b5385e59225f13056ff38dad3d9e2f0e1bc27cd276df0b5fdafde0315fe8242",
                  "2": "*",
                  "3": "*",
                  "4": "*",
                  "5": "Student",
                  "6": "12",
                  "7": "ab2a9665-ce87-4120-a8b5-edd392875e42",
                  "8": "Mitchell High"
                },
                {
                  "0": "b28d4edcdbe1a84095054be594815ee6333be526fc51e53eec6bdf520e5a148b",
                  "1": "66ed9a086452ec90922d8427c18cf0845302955f85fd11edbc84cc7fceb8bf8e",
                  "2": "*",
                  "3": "*",
                  "4": "*",
                  "5": "Student",
                  "6": "12",
                  "7": "ab2a9665-ce87-4120-a8b5-edd392875e42",
                  "8": "Mitchell High"
                }
              ],
              "schema": [
                {
                  "key": "0",
                  "name": "StudentId_internal_pseudonym",
                  "type": "string"
                },
                {
                  "key": "1",
                  "name": "StudentId_external_pseudonym",
                  "type": "string"
                },
                {
                  "key": "2",
                  "name": "Surname",
                  "type": "string"
                },
                {
                  "key": "3",
                  "name": "GivenName",
                  "type": "string"
                },
                {
                  "key": "4",
                  "name": "MiddleName",
                  "type": "string"
                },
                {
                  "key": "5",
                  "name": "PersonRole",
                  "type": "string"
                },
                {
                  "key": "6",
                  "name": "StudentGrade",
                  "type": "string"
                },
                {
                  "key": "7",
                  "name": "OrganizationId",
                  "type": "string"
                },
                {
                  "key": "8",
                  "name": "OrganizationName",
                  "type": "string"
                }
              ],
              "truncated": false
            },
            "isSummary": false,
            "language": "scala"
          },
          "persist_state": {
            "view": {
              "type": "details",
              "tableOptions": {},
              "chartOptions": {
                "chartType": "bar",
                "aggregationType": "count",
                "categoryFieldKeys": [
                  "0"
                ],
                "seriesFieldKeys": [
                  "0"
                ],
                "isStacked": false
              }
            }
          }
        },
        "a92a8876-53ac-4497-9947-072feb7f0ec9": {
          "type": "Synapse.DataFrame",
          "sync_state": {
            "table": {
              "rows": [
                {
                  "0": "5e9624565282dcbe2fc80d0319c235900ac9f5a1fc326987c8a5d4f7710c6cbd",
                  "1": "0.85"
                },
                {
                  "0": "2b796c841c0ce64b92c4c91d0e79747d4e7ff0e133ea73daac83af9beb8b28e6",
                  "1": "0.9"
                },
                {
                  "0": "300006202d7f0700aaf8c9cf05d3223f236048836ad6b3664ab4cdddd1939b5b",
                  "1": "1.0"
                },
                {
                  "0": "6284c2bd33bc05992ee8e6468461ef7fcb286e2b7e169aae76a5aece66415f82",
                  "1": "0.95"
                },
                {
                  "0": "7664faa4e89a873acd08609c9dc05e59e750a4adcbd42478b939678acffed395",
                  "1": "0.95"
                },
                {
                  "0": "7fbfa45b0e1f8491243d40fd78206d4c5ba42f566a9ba4913188f4542fa7e4dd",
                  "1": "0.9"
                },
                {
                  "0": "ced6ee59ccfc504b666ac4e9980e05b5537386dac2f32ba245a86db1cb136bfc",
                  "1": "0.75"
                },
                {
                  "0": "2f48900497f85f5ebfb6e65fb6a3fa1ff2c1fc92dad7831e1fddcb147f99338c",
                  "1": "1.0"
                },
                {
                  "0": "2fe130f75be3709e23fe4e937bf1d00c7969d4a6e0cd5944802ddbf98d9e88ab",
                  "1": "0.9"
                },
                {
                  "0": "81e5da0009ec6ba7857765a0ef8cbd7efb04bbde0f9e9fe4c9a3d1efbb86b2dc",
                  "1": "0.9"
                }
              ],
              "schema": [
                {
                  "key": "0",
                  "name": "student_id_pseudonym",
                  "type": "string"
                },
                {
                  "key": "1",
                  "name": "avg(AttendanceCode_value)",
                  "type": "double"
                }
              ],
              "truncated": false
            },
            "isSummary": false,
            "language": "scala"
          },
          "persist_state": {
            "view": {
              "type": "details",
              "tableOptions": {},
              "chartOptions": {
                "chartType": "bar",
                "aggregationType": "sum",
                "categoryFieldKeys": [
                  "0"
                ],
                "seriesFieldKeys": [
                  "1"
                ],
                "isStacked": false
              }
            }
          }
        },
        "55b47e06-be77-4a95-9170-423cedadfa57": {
          "type": "Synapse.DataFrame",
          "sync_state": {
            "table": {
              "rows": [
                {
                  "0": "c7a6a548514696f2cabebd3d38534b8361c8716633295a4c8e71d98199ef2e71",
                  "1": "e919d1612b18c5f6505e04e8843fe9774198c0de4c84c0ef17c033b45cfe35fd",
                  "2": "*",
                  "3": "*",
                  "4": "*",
                  "5": "Student",
                  "6": "9",
                  "7": "1.0",
                  "8": "ab2a9665-ce87-4120-a8b5-edd392875e42",
                  "9": "Mitchell High"
                },
                {
                  "0": "6bc9a18a3dcff4010d78e8707fbfccebd6ea80ca7c7d8abcf47c194ff36ca9a1",
                  "1": "5931763df30af35c6b83421ac630b8b647cf5d5405f8b65b7e49a4b9300e0ea1",
                  "2": "*",
                  "3": "*",
                  "4": "*",
                  "5": "Student",
                  "6": "11",
                  "7": "1.0",
                  "8": "ab2a9665-ce87-4120-a8b5-edd392875e42",
                  "9": "Mitchell High"
                },
                {
                  "0": "f9aa4222728f10dc0bfb02296a6850123722bd8f3da62dd09019499b7f440a71",
                  "1": "bbee57a9314742a12e4490f868f7484e6ae24a4c07c998b681fdde2938d84a09",
                  "2": "*",
                  "3": "*",
                  "4": "*",
                  "5": "Student",
                  "6": "10",
                  "7": "1.0",
                  "8": "ab2a9665-ce87-4120-a8b5-edd392875e42",
                  "9": "Mitchell High"
                },
                {
                  "0": "741fd0392de15ce5de201e071c6611ed64c1f01a81f9043ec40f03cf6d71be52",
                  "1": "2efbbf9e4cae48d02d440582f196b91c2b76bf24d58387d76ce5c453fe088fa8",
                  "2": "*",
                  "3": "*",
                  "4": "*",
                  "5": "Student",
                  "6": "11",
                  "7": "0.85",
                  "8": "ab2a9665-ce87-4120-a8b5-edd392875e42",
                  "9": "Mitchell High"
                },
                {
                  "0": "899e96422ff81809b165d9e19296d581f67ae2965e7146cf1f1d5ab9908f5838",
                  "1": "62198b3154089acf0d1464dacbf7d35ee5f62822a27c066bfc26faa85cef7ee8",
                  "2": "*",
                  "3": "*",
                  "4": "*",
                  "5": "Student",
                  "6": "11",
                  "7": "0.9",
                  "8": "ab2a9665-ce87-4120-a8b5-edd392875e42",
                  "9": "Mitchell High"
                },
                {
                  "0": "44f7d423aa31c365e5190cff760ad7e0ba8620995165a6630f346572edd751b1",
                  "1": "c49a8fa1a89ff16782c0e3995c0b0defce637d7d52d34762697a65388edc5ece",
                  "2": "*",
                  "3": "*",
                  "4": "*",
                  "5": "Student",
                  "6": "11",
                  "7": "0.95",
                  "8": "ab2a9665-ce87-4120-a8b5-edd392875e42",
                  "9": "Mitchell High"
                },
                {
                  "0": "8d2a392ee2699bc6326e40a6a52bcd3ba6927ae0cc0281f0c185630046b87cfa",
                  "1": "0015dd1f2156b743b6e8ff6e6881ff9119ef58e71ddc8e85b11d755b3d654d4a",
                  "2": "*",
                  "3": "*",
                  "4": "*",
                  "5": "Student",
                  "6": "9",
                  "7": "0.95",
                  "8": "ab2a9665-ce87-4120-a8b5-edd392875e42",
                  "9": "Mitchell High"
                },
                {
                  "0": "5ccfb0af1f77a150a1b995a72e381e6a4689c58c02997a3b6d249f65b3456d78",
                  "1": "e0eb9b73bc09c44a9f557aebb6a6bbff1a8af3a3a5dc0301e504d41912a7a086",
                  "2": "*",
                  "3": "*",
                  "4": "*",
                  "5": "Student",
                  "6": "9",
                  "7": "0.95",
                  "8": "ab2a9665-ce87-4120-a8b5-edd392875e42",
                  "9": "Mitchell High"
                },
                {
                  "0": "95bd66450dc58586771f997beef17a160305063eaa0966ddeb6d71f4d990ca5d",
                  "1": "0b5385e59225f13056ff38dad3d9e2f0e1bc27cd276df0b5fdafde0315fe8242",
                  "2": "*",
                  "3": "*",
                  "4": "*",
                  "5": "Student",
                  "6": "12",
                  "7": "1.0",
                  "8": "ab2a9665-ce87-4120-a8b5-edd392875e42",
                  "9": "Mitchell High"
                },
                {
                  "0": "b28d4edcdbe1a84095054be594815ee6333be526fc51e53eec6bdf520e5a148b",
                  "1": "66ed9a086452ec90922d8427c18cf0845302955f85fd11edbc84cc7fceb8bf8e",
                  "2": "*",
                  "3": "*",
                  "4": "*",
                  "5": "Student",
                  "6": "12",
                  "7": "0.95",
                  "8": "ab2a9665-ce87-4120-a8b5-edd392875e42",
                  "9": "Mitchell High"
                }
              ],
              "schema": [
                {
                  "key": "0",
                  "name": "StudentId_internal_pseudonym",
                  "type": "string"
                },
                {
                  "key": "1",
                  "name": "StudentId_external_pseudonym",
                  "type": "string"
                },
                {
                  "key": "2",
                  "name": "Surname",
                  "type": "string"
                },
                {
                  "key": "3",
                  "name": "GivenName",
                  "type": "string"
                },
                {
                  "key": "4",
                  "name": "MiddleName",
                  "type": "string"
                },
                {
                  "key": "5",
                  "name": "PersonRole",
                  "type": "string"
                },
                {
                  "key": "6",
                  "name": "StudentGrade",
                  "type": "string"
                },
                {
                  "key": "7",
                  "name": "AverageAttendance_inPerson",
                  "type": "double"
                },
                {
                  "key": "8",
                  "name": "OrganizationId",
                  "type": "string"
                },
                {
                  "key": "9",
                  "name": "OrganizationName",
                  "type": "string"
                }
              ],
              "truncated": false
            },
            "isSummary": false,
            "language": "scala"
          },
          "persist_state": {
            "view": {
              "type": "details",
              "tableOptions": {},
              "chartOptions": {
                "chartType": "bar",
                "aggregationType": "sum",
                "categoryFieldKeys": [
                  "0"
                ],
                "seriesFieldKeys": [
                  "7"
                ],
                "isStacked": false
              }
            }
          }
        },
        "58b3b990-54d0-4c04-88d2-96054f0e1576": {
          "type": "Synapse.DataFrame",
          "sync_state": {
            "table": {
              "rows": [
                {
                  "0": "c4cc22fa6bae1540d846ca21f987b15e4fc354ea7af2ab6de0bfcac33eb10c1e",
                  "1": "0.84"
                },
                {
                  "0": "397d1f703797b64bae33ca7757a7858a0c3d911f3502a3366d119371f6d290b5",
                  "1": "0.96"
                },
                {
                  "0": "bf877baa4de0d00ae63d9c0d696d75e36d63a50b28311a52da251fece64a3793",
                  "1": "0.76"
                },
                {
                  "0": "a1c7de8791c1f229c894f8c8dbed43311e0948e1f48fc69c55fb09fcc7bb0a8c",
                  "1": "0.8"
                },
                {
                  "0": "06031e067c234182354f2da6bcdb76898ea203b4bb03acdb5110d2db02b83e63",
                  "1": "0.84"
                },
                {
                  "0": "d6ad55dd722058c5541b8f1c470a1f1fad520c2ea467b40917bccb4f0d0a6542",
                  "1": "0.88"
                },
                {
                  "0": "b62be4ab1e32dd1d7dac48ab5976eb40a1554095335788ab4d93b851d499e32e",
                  "1": "0.92"
                },
                {
                  "0": "f9ff93739f6edb55d56dffb307a58a7cd94e40dd1750a55bef1f60c7d7be7872",
                  "1": "0.96"
                },
                {
                  "0": "f9815d54756485f9c487f1050889ff6df6fea6b475e1d543d3af4249e3405cc2",
                  "1": "0.92"
                },
                {
                  "0": "b7a6247659875943a4b0cac6f8c91063e90ea77f955240b023d26ae4ea329c2e",
                  "1": "0.92"
                }
              ],
              "schema": [
                {
                  "key": "0",
                  "name": "event_actor",
                  "type": "string"
                },
                {
                  "key": "1",
                  "name": "AverageAttendance_digital",
                  "type": "double"
                }
              ],
              "truncated": false
            },
            "isSummary": false,
            "language": "scala"
          },
          "persist_state": {
            "view": {
              "type": "details",
              "tableOptions": {},
              "chartOptions": {
                "chartType": "bar",
                "aggregationType": "sum",
                "categoryFieldKeys": [
                  "0"
                ],
                "seriesFieldKeys": [
                  "1"
                ],
                "isStacked": false
              }
            }
          }
        },
        "e3c72a8f-9367-40b2-8df2-cdc64d7b12f2": {
          "type": "Synapse.DataFrame",
          "sync_state": {
            "table": {
              "rows": [],
              "schema": [
                {
                  "key": "0",
                  "name": "StudentId_internal_pseudonym",
                  "type": "string"
                },
                {
                  "key": "1",
                  "name": "StudentId_external_pseudonym",
                  "type": "string"
                },
                {
                  "key": "2",
                  "name": "Surname",
                  "type": "string"
                },
                {
                  "key": "3",
                  "name": "GivenName",
                  "type": "string"
                },
                {
                  "key": "4",
                  "name": "MiddleName",
                  "type": "string"
                },
                {
                  "key": "5",
                  "name": "PersonRole",
                  "type": "string"
                },
                {
                  "key": "6",
                  "name": "StudentGrade",
                  "type": "string"
                },
                {
                  "key": "7",
                  "name": "AverageAttendance_inPerson",
                  "type": "double"
                },
                {
                  "key": "8",
                  "name": "AverageAttendance_digital",
                  "type": "double"
                },
                {
                  "key": "9",
                  "name": "OrganizationId",
                  "type": "string"
                },
                {
                  "key": "10",
                  "name": "OrganizationName",
                  "type": "string"
                }
              ],
              "truncated": false
            },
            "isSummary": false,
            "language": "scala"
          },
          "persist_state": {
            "view": {
              "type": "details",
              "tableOptions": {},
              "chartOptions": {
                "chartType": "bar",
                "aggregationType": "sum",
                "categoryFieldKeys": [
                  "0"
                ],
                "seriesFieldKeys": [
                  "7"
                ],
                "isStacked": false
              }
            }
          }
        },
        "65ed3eb3-9fc2-4493-9b0f-ab229b51739d": {
          "type": "Synapse.DataFrame",
          "sync_state": {
            "table": {
              "rows": [
                {
                  "0": "c7a6a548514696f2cabebd3d38534b8361c8716633295a4c8e71d98199ef2e71",
                  "1": "b2baefad-4c1d-463e-b541-cc5f2f204f52",
                  "2": "e919d1612b18c5f6505e04e8843fe9774198c0de4c84c0ef17c033b45cfe35fd",
                  "3": "Benefield",
                  "4": "Carole",
                  "5": "M"
                },
                {
                  "0": "6bc9a18a3dcff4010d78e8707fbfccebd6ea80ca7c7d8abcf47c194ff36ca9a1",
                  "1": "efc3ba3e-3e18-4364-8d5f-6715f3884833",
                  "2": "5931763df30af35c6b83421ac630b8b647cf5d5405f8b65b7e49a4b9300e0ea1",
                  "3": "Cronan",
                  "4": "Elouise",
                  "5": "A"
                },
                {
                  "0": "f9aa4222728f10dc0bfb02296a6850123722bd8f3da62dd09019499b7f440a71",
                  "1": "f59cc0b4-c654-4fa1-8911-78e19f85ca3e",
                  "2": "bbee57a9314742a12e4490f868f7484e6ae24a4c07c998b681fdde2938d84a09",
                  "3": "Johnson",
                  "4": "Alesia",
                  "5": "C"
                },
                {
                  "0": "741fd0392de15ce5de201e071c6611ed64c1f01a81f9043ec40f03cf6d71be52",
                  "1": "03e200d9-8ceb-4ee4-b13b-a643acf63a5c",
                  "2": "2efbbf9e4cae48d02d440582f196b91c2b76bf24d58387d76ce5c453fe088fa8",
                  "3": "Warner",
                  "4": "Ralph",
                  "5": "J"
                },
                {
                  "0": "899e96422ff81809b165d9e19296d581f67ae2965e7146cf1f1d5ab9908f5838",
                  "1": "c189e3e5-4730-4b4e-ade2-d728cc6b86f3",
                  "2": "62198b3154089acf0d1464dacbf7d35ee5f62822a27c066bfc26faa85cef7ee8",
                  "3": "Patrick",
                  "4": "Jenny",
                  "5": "D"
                },
                {
                  "0": "44f7d423aa31c365e5190cff760ad7e0ba8620995165a6630f346572edd751b1",
                  "1": "b8c3f862-22df-47b5-bc9b-e69e189435e4",
                  "2": "c49a8fa1a89ff16782c0e3995c0b0defce637d7d52d34762697a65388edc5ece",
                  "3": "Lopez",
                  "4": "Marianne",
                  "5": "J"
                },
                {
                  "0": "8d2a392ee2699bc6326e40a6a52bcd3ba6927ae0cc0281f0c185630046b87cfa",
                  "1": "2a4488c6-9916-439e-917d-8b09544220f4",
                  "2": "0015dd1f2156b743b6e8ff6e6881ff9119ef58e71ddc8e85b11d755b3d654d4a",
                  "3": "Riley",
                  "4": "Mildred",
                  "5": "A"
                },
                {
                  "0": "5ccfb0af1f77a150a1b995a72e381e6a4689c58c02997a3b6d249f65b3456d78",
                  "1": "1244b8a0-f530-485a-acd2-e355e053682c",
                  "2": "e0eb9b73bc09c44a9f557aebb6a6bbff1a8af3a3a5dc0301e504d41912a7a086",
                  "3": "Lindsley",
                  "4": "David",
                  "5": "K"
                },
                {
                  "0": "95bd66450dc58586771f997beef17a160305063eaa0966ddeb6d71f4d990ca5d",
                  "1": "acaa8a47-2d91-4047-bb48-1fa4e678f7e9",
                  "2": "0b5385e59225f13056ff38dad3d9e2f0e1bc27cd276df0b5fdafde0315fe8242",
                  "3": "Petrella",
                  "4": "George",
                  "5": "P"
                },
                {
                  "0": "b28d4edcdbe1a84095054be594815ee6333be526fc51e53eec6bdf520e5a148b",
                  "1": "8790fe38-8994-4b34-a165-814e5ed121be",
                  "2": "66ed9a086452ec90922d8427c18cf0845302955f85fd11edbc84cc7fceb8bf8e",
                  "3": "Rice",
                  "4": "Joshua",
                  "5": "R"
                }
              ],
              "schema": [
                {
                  "key": "0",
                  "name": "StudentId_internal_pseudonym",
                  "type": "string"
                },
                {
                  "key": "1",
                  "name": "StudentId_internal",
                  "type": "string"
                },
                {
                  "key": "2",
                  "name": "StudentId_external_pseudonym",
                  "type": "string"
                },
                {
                  "key": "3",
                  "name": "Surname",
                  "type": "string"
                },
                {
                  "key": "4",
                  "name": "GivenName",
                  "type": "string"
                },
                {
                  "key": "5",
                  "name": "MiddleName",
                  "type": "string"
                }
              ],
              "truncated": false
            },
            "isSummary": false,
            "language": "scala"
          },
          "persist_state": {
            "view": {
              "type": "details",
              "tableOptions": {},
              "chartOptions": {
                "chartType": "bar",
                "aggregationType": "count",
                "categoryFieldKeys": [
                  "0"
                ],
                "seriesFieldKeys": [
                  "0"
                ],
                "isStacked": false
              }
            }
          }
        },
        "106b862d-8859-4318-aaa4-2f9573c49e1b": {
          "type": "Synapse.DataFrame",
          "sync_state": {
            "table": {
              "rows": [
                {
                  "0": "c7a6a548514696f2cabebd3d38534b8361c8716633295a4c8e71d98199ef2e71",
                  "1": "b2baefad-4c1d-463e-b541-cc5f2f204f52",
                  "2": "e919d1612b18c5f6505e04e8843fe9774198c0de4c84c0ef17c033b45cfe35fd",
                  "3": "f269ed04def44e788b92acb93e96ef58",
                  "4": "Benefield",
                  "5": "Carole",
                  "6": "M"
                },
                {
                  "0": "6bc9a18a3dcff4010d78e8707fbfccebd6ea80ca7c7d8abcf47c194ff36ca9a1",
                  "1": "efc3ba3e-3e18-4364-8d5f-6715f3884833",
                  "2": "5931763df30af35c6b83421ac630b8b647cf5d5405f8b65b7e49a4b9300e0ea1",
                  "3": "1d98ac4839844a70b226054195c9d5c7",
                  "4": "Cronan",
                  "5": "Elouise",
                  "6": "A"
                },
                {
                  "0": "f9aa4222728f10dc0bfb02296a6850123722bd8f3da62dd09019499b7f440a71",
                  "1": "f59cc0b4-c654-4fa1-8911-78e19f85ca3e",
                  "2": "bbee57a9314742a12e4490f868f7484e6ae24a4c07c998b681fdde2938d84a09",
                  "3": "29ab930fd6674114a05743ed2dcb32fa",
                  "4": "Johnson",
                  "5": "Alesia",
                  "6": "C"
                },
                {
                  "0": "741fd0392de15ce5de201e071c6611ed64c1f01a81f9043ec40f03cf6d71be52",
                  "1": "03e200d9-8ceb-4ee4-b13b-a643acf63a5c",
                  "2": "2efbbf9e4cae48d02d440582f196b91c2b76bf24d58387d76ce5c453fe088fa8",
                  "3": "27bad028458a48d0a27a129f3d1edee8",
                  "4": "Warner",
                  "5": "Ralph",
                  "6": "J"
                },
                {
                  "0": "899e96422ff81809b165d9e19296d581f67ae2965e7146cf1f1d5ab9908f5838",
                  "1": "c189e3e5-4730-4b4e-ade2-d728cc6b86f3",
                  "2": "62198b3154089acf0d1464dacbf7d35ee5f62822a27c066bfc26faa85cef7ee8",
                  "3": "90267e7054e945a49418868bbccf0571",
                  "4": "Patrick",
                  "5": "Jenny",
                  "6": "D"
                },
                {
                  "0": "44f7d423aa31c365e5190cff760ad7e0ba8620995165a6630f346572edd751b1",
                  "1": "b8c3f862-22df-47b5-bc9b-e69e189435e4",
                  "2": "c49a8fa1a89ff16782c0e3995c0b0defce637d7d52d34762697a65388edc5ece",
                  "3": "c224bda7df3046a5803f915cb7e3fb58",
                  "4": "Lopez",
                  "5": "Marianne",
                  "6": "J"
                },
                {
                  "0": "8d2a392ee2699bc6326e40a6a52bcd3ba6927ae0cc0281f0c185630046b87cfa",
                  "1": "2a4488c6-9916-439e-917d-8b09544220f4",
                  "2": "0015dd1f2156b743b6e8ff6e6881ff9119ef58e71ddc8e85b11d755b3d654d4a",
                  "3": "e3f68873c16f452bb354f7c0618152c1",
                  "4": "Riley",
                  "5": "Mildred",
                  "6": "A"
                },
                {
                  "0": "5ccfb0af1f77a150a1b995a72e381e6a4689c58c02997a3b6d249f65b3456d78",
                  "1": "1244b8a0-f530-485a-acd2-e355e053682c",
                  "2": "e0eb9b73bc09c44a9f557aebb6a6bbff1a8af3a3a5dc0301e504d41912a7a086",
                  "3": "63307e8727d8447aaf7ff4086598e01f",
                  "4": "Lindsley",
                  "5": "David",
                  "6": "K"
                },
                {
                  "0": "95bd66450dc58586771f997beef17a160305063eaa0966ddeb6d71f4d990ca5d",
                  "1": "acaa8a47-2d91-4047-bb48-1fa4e678f7e9",
                  "2": "0b5385e59225f13056ff38dad3d9e2f0e1bc27cd276df0b5fdafde0315fe8242",
                  "3": "2b602e2aea4547b980bc35bf28d17149",
                  "4": "Petrella",
                  "5": "George",
                  "6": "P"
                },
                {
                  "0": "b28d4edcdbe1a84095054be594815ee6333be526fc51e53eec6bdf520e5a148b",
                  "1": "8790fe38-8994-4b34-a165-814e5ed121be",
                  "2": "66ed9a086452ec90922d8427c18cf0845302955f85fd11edbc84cc7fceb8bf8e",
                  "3": "aafe20f94f1349999ab6267ca9beb1fd",
                  "4": "Rice",
                  "5": "Joshua",
                  "6": "R"
                }
              ],
              "schema": [
                {
                  "key": "0",
                  "name": "StudentId_internal_pseudonym",
                  "type": "string"
                },
                {
                  "key": "1",
                  "name": "StudentId_internal",
                  "type": "string"
                },
                {
                  "key": "2",
                  "name": "StudentId_external_pseudonym",
                  "type": "string"
                },
                {
                  "key": "3",
                  "name": "StudentId_external",
                  "type": "string"
                },
                {
                  "key": "4",
                  "name": "Surname",
                  "type": "string"
                },
                {
                  "key": "5",
                  "name": "GivenName",
                  "type": "string"
                },
                {
                  "key": "6",
                  "name": "MiddleName",
                  "type": "string"
                }
              ],
              "truncated": false
            },
            "isSummary": false,
            "language": "scala"
          },
          "persist_state": {
            "view": {
              "type": "details",
              "tableOptions": {},
              "chartOptions": {
                "chartType": "bar",
                "aggregationType": "count",
                "categoryFieldKeys": [
                  "0"
                ],
                "seriesFieldKeys": [
                  "0"
                ],
                "isStacked": false
              }
            }
          }
        }
      }
    }
  },
  "nbformat": 4,
  "nbformat_minor": 2
}