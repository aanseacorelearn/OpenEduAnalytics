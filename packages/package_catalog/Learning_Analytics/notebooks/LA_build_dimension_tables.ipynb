{
  "cells": [
    {
      "cell_type": "markdown",
      "source": [
        "# Learning Analytics Package: Build Dimension Tables\r\n",
        "\r\n",
        "Builds the dimension tables used for the Learning Analytics package **v1.0** dashboard, in the context of using the Higher Ed. test data from Microsoft Education Insights roster, activity, and Microsoft Graph meeting attendance data.\r\n",
        "\r\n",
        "The following tables are created in each of the steps outlined below (and above the cells for enrichment/curation):\r\n",
        "\r\n",
        "1. dim_Student,\r\n",
        "2. dim_Student_lookup,\r\n",
        "3. dim_Instructor,\r\n",
        "4. dim_Section,\r\n",
        "5. dim_Course,\r\n",
        "6. dim_School,\r\n",
        "7. dim_Meeting,\r\n",
        "8. dim_AssignmentStatus,\r\n",
        "9. dim_Assignment\r\n",
        "10. dim_SignalType, and\r\n",
        "11. dim_Date.\r\n",
        "\r\n",
        "This package-notebook also uses two methods (defined and outlined below):\r\n",
        " - **_publish_to_stage2**: uses the OEA_py function *upsert* to land the current dataframe in stage2/Enriched\r\n",
        " - **publish**: uses the method above to land the package dimension tables in stage2, then writes the same table to stage3/Published. Delta checkpoints are landed in the respective stage2/Enriched directory."
      ],
      "metadata": {
        "nteract": {
          "transient": {
            "deleting": false
          }
        }
      }
    },
    {
      "cell_type": "code",
      "source": [
        "workspace = 'dev'"
      ],
      "outputs": [
        {
          "output_type": "display_data",
          "data": {
            "application/vnd.livy.statement-meta+json": {
              "spark_pool": "spark3p2med",
              "session_id": "58",
              "statement_id": 1,
              "state": "finished",
              "livy_statement_state": "available",
              "queued_time": "2023-01-11T17:56:32.0530804Z",
              "session_start_time": "2023-01-11T17:56:32.0931473Z",
              "execution_start_time": "2023-01-11T17:59:59.8049825Z",
              "execution_finish_time": "2023-01-11T17:59:59.9922505Z",
              "spark_jobs": null
            },
            "text/plain": "StatementMeta(spark3p2med, 58, 1, Finished, Available)"
          },
          "metadata": {}
        }
      ],
      "execution_count": 1,
      "metadata": {
        "jupyter": {
          "source_hidden": false,
          "outputs_hidden": false
        },
        "nteract": {
          "transient": {
            "deleting": false
          }
        },
        "tags": [
          "parameters"
        ]
      }
    },
    {
      "cell_type": "code",
      "source": [
        "%run OEA_py"
      ],
      "outputs": [
        {
          "output_type": "display_data",
          "data": {
            "application/vnd.livy.statement-meta+json": {
              "spark_pool": null,
              "session_id": "58",
              "statement_id": -1,
              "state": "finished",
              "livy_statement_state": "available",
              "queued_time": "2023-01-11T17:56:32.0781928Z",
              "session_start_time": null,
              "execution_start_time": "2023-01-11T18:00:04.974566Z",
              "execution_finish_time": "2023-01-11T18:00:04.9749432Z",
              "spark_jobs": null
            },
            "text/plain": "StatementMeta(, 58, -1, Finished, Available)"
          },
          "metadata": {}
        },
        {
          "output_type": "stream",
          "name": "stdout",
          "text": [
            "2023-01-11 18:00:04,622 - OEA - INFO - Now using workspace: dev\n2023-01-11 18:00:04,623 - OEA - INFO - OEA initialized.\n"
          ]
        }
      ],
      "execution_count": 2,
      "metadata": {
        "jupyter": {
          "source_hidden": false,
          "outputs_hidden": false
        },
        "nteract": {
          "transient": {
            "deleting": false
          }
        }
      }
    },
    {
      "cell_type": "code",
      "source": [
        "# 1) set the workspace (this determines where in the data lake you'll be writing to and reading from).\r\n",
        "# You can work in 'dev', 'prod', or a sandbox with any name you choose.\r\n",
        "# For example, Sam the developer can create a 'sam' workspace and expect to find his datasets in the data lake under oea/sandboxes/sam\r\n",
        "oea.set_workspace(workspace)"
      ],
      "outputs": [
        {
          "output_type": "display_data",
          "data": {
            "application/vnd.livy.statement-meta+json": {
              "spark_pool": "spark3p2med",
              "session_id": "58",
              "statement_id": 3,
              "state": "finished",
              "livy_statement_state": "available",
              "queued_time": "2023-01-11T17:56:32.0801772Z",
              "session_start_time": null,
              "execution_start_time": "2023-01-11T18:00:05.1010033Z",
              "execution_finish_time": "2023-01-11T18:00:05.259285Z",
              "spark_jobs": null
            },
            "text/plain": "StatementMeta(spark3p2med, 58, 3, Finished, Available)"
          },
          "metadata": {}
        },
        {
          "output_type": "stream",
          "name": "stdout",
          "text": [
            "2023-01-11 18:00:05,082 - OEA - INFO - Now using workspace: dev\n"
          ]
        }
      ],
      "execution_count": 3,
      "metadata": {
        "jupyter": {
          "source_hidden": false,
          "outputs_hidden": false
        },
        "nteract": {
          "transient": {
            "deleting": false
          }
        }
      }
    },
    {
      "cell_type": "markdown",
      "source": [
        "## 0.) Define the Publish Function\r\n",
        "\r\n",
        "### Notes\r\n",
        " - Can go about this in 2 ways (*thinking the second makes more sense*): \r\n",
        "   1. Write a new function (publish) that reads in a set of dfs, the aggregations, etc. writes checkpoints out to a new folder in stage 2, and then writes updated schema to stage3\r\n",
        "   2. Perform aggregations and write finalized table to stage2, then publish to stage3 (keeps checkpoints in stage2 folder).\r\n"
      ],
      "metadata": {
        "nteract": {
          "transient": {
            "deleting": false
          }
        }
      }
    },
    {
      "cell_type": "code",
      "source": [
        "def _publish_to_stage2(df, destination, pk):\r\n",
        "    oea.upsert(df, destination, pk)\r\n",
        "\r\n",
        "def publish(df, stage2_destination, stage3_destination, primary_key='id'):\r\n",
        "    _publish_to_stage2(df, stage2_destination, primary_key)\r\n",
        "\r\n",
        "    spark.sql(\"set spark.sql.streaming.schemaInference=true\")\r\n",
        "    streaming_df = spark.readStream.format('delta').load(oea.to_url(stage2_destination))\r\n",
        "    # for more info on append vs complete vs update modes for structured streaming: https://spark.apache.org/docs/latest/structured-streaming-programming-guide.html#basic-concepts\r\n",
        "    query = streaming_df.writeStream.format('delta').outputMode('append').trigger(once=True).option('checkpointLocation', oea.to_url(stage2_destination) + '/_checkpoints')\r\n",
        "    query = query.start(oea.to_url(stage3_destination))\r\n",
        "    query.awaitTermination()   # block until query is terminated, with stop() or with error; A StreamingQueryException will be thrown if an exception occurs.\r\n",
        "    number_of_new_inbound_rows = query.lastProgress[\"numInputRows\"]\r\n",
        "    logger.info(f'Number of new inbound rows processed: {number_of_new_inbound_rows}')\r\n",
        "    logger.debug(query.lastProgress)\r\n",
        "    return number_of_new_inbound_rows"
      ],
      "outputs": [
        {
          "output_type": "display_data",
          "data": {
            "application/vnd.livy.statement-meta+json": {
              "spark_pool": "spark3p2med",
              "session_id": "58",
              "statement_id": 12,
              "state": "finished",
              "livy_statement_state": "available",
              "queued_time": "2023-01-11T18:07:55.2673359Z",
              "session_start_time": null,
              "execution_start_time": "2023-01-11T18:07:55.3980647Z",
              "execution_finish_time": "2023-01-11T18:07:55.5554258Z",
              "spark_jobs": null
            },
            "text/plain": "StatementMeta(spark3p2med, 58, 12, Finished, Available)"
          },
          "metadata": {}
        }
      ],
      "execution_count": 12,
      "metadata": {
        "jupyter": {
          "source_hidden": false,
          "outputs_hidden": false
        },
        "nteract": {
          "transient": {
            "deleting": false
          }
        }
      }
    },
    {
      "cell_type": "markdown",
      "source": [
        "## 1.) Build dim_Student Table\r\n",
        "\r\n",
        "Data aggregations and curation on Insights roster data: AADUser and Person (as well as others).\r\n",
        "\r\n",
        "This table has one row per student in the Insights roster data for the education system, with details around:\r\n",
        " - student IDs (previously, student internal ID or PersonId from Person table), \r\n",
        " - student names (masked), \r\n",
        " - student educational-grade levels, \r\n",
        " - student UserPrincipalNames (pseudonymized UPNs from the AADUser table),\r\n",
        " - student date of birth (from PersonDemographic table, currently hashed here), and\r\n",
        " - student address (currently, birth city and state - which is hashed for pseudo data - since Insights data doesn't hold current address data).\r\n",
        "\r\n",
        "This table is then written out to```(stage2 and stage3)/(Enriched and Published)/learning_analytics/v1.0/general/dim_Student```."
      ],
      "metadata": {
        "nteract": {
          "transient": {
            "deleting": false
          }
        }
      }
    },
    {
      "cell_type": "code",
      "source": [
        "# read in tables needed\r\n",
        "dfInsights_aaduserpersonmapping = oea.load('stage2/Refined/M365/v1.14/general/AadUserPersonMapping')\r\n",
        "dfInsights_aaduser = oea.load('stage2/Refined/M365/v1.14/general/AadUser')\r\n",
        "dfInsights_org = oea.load('stage2/Refined/M365/v1.14/general/Organization')\r\n",
        "dfInsights_person = oea.load('stage2/Refined/M365/v1.14/general/Person')\r\n",
        "dfInsights_personOrgRole = oea.load('stage2/Refined/M365/v1.14/general/PersonOrganizationRole')\r\n",
        "dfInsights_refDefinition = oea.load('stage2/Refined/M365/v1.14/general/RefDefinition')\r\n",
        "# lookup(s)\r\n",
        "dfInsights_persondemographic_np = oea.load('stage2/Refined/M365/v1.14/sensitive/PersonDemographic_lookup')"
      ],
      "outputs": [
        {
          "output_type": "display_data",
          "data": {
            "application/vnd.livy.statement-meta+json": {
              "spark_pool": "spark3p2med",
              "session_id": "58",
              "statement_id": 5,
              "state": "finished",
              "livy_statement_state": "available",
              "queued_time": "2023-01-11T17:56:52.4154089Z",
              "session_start_time": null,
              "execution_start_time": "2023-01-11T18:00:05.6676706Z",
              "execution_finish_time": "2023-01-11T18:00:57.8995149Z",
              "spark_jobs": null
            },
            "text/plain": "StatementMeta(spark3p2med, 58, 5, Finished, Available)"
          },
          "metadata": {}
        }
      ],
      "execution_count": 5,
      "metadata": {
        "jupyter": {
          "source_hidden": false,
          "outputs_hidden": false
        },
        "nteract": {
          "transient": {
            "deleting": false
          }
        }
      }
    },
    {
      "cell_type": "code",
      "source": [
        "# idea is eventually to actually write the OEA standardized schema to stage2/Enriched, then perform the aggregations and cleaning, and then write to stage3/Published.\r\n",
        "# NOTE: Update as needed; remove unused or irrelelvant columns.\r\n",
        "\r\n",
        "# start with Insights roster tables: Person and join with PersonOrganizationRole - to create the start of the Student table\r\n",
        "dfInsights = dfInsights_personOrgRole.join(dfInsights_person, dfInsights_personOrgRole.PersonId_pseudonym == dfInsights_person.Id_pseudonym, how='inner')\r\n",
        "dfInsights = dfInsights.select('PersonId_pseudonym', 'Surname', 'GivenName', 'MiddleName', 'RefRoleId', 'RefGradeLevelId')\r\n",
        "# join Insights table with the RefDefinition table - to get the Role of each person, and filter by only student SIS data\r\n",
        "dfInsights = dfInsights.join(dfInsights_refDefinition, dfInsights.RefRoleId == dfInsights_refDefinition.Id, how='inner')\r\n",
        "dfInsights = dfInsights.withColumnRenamed('Code', 'PersonRole')\r\n",
        "dfStudent = dfInsights.filter(dfInsights['PersonRole'] == 'Student')\r\n",
        "dfStudent = dfStudent.select('PersonId_pseudonym', 'Surname', 'GivenName', 'MiddleName', 'PersonRole', 'RefGradeLevelId')\r\n",
        "# join Student table with RefDefinition table, again - to get the grade of each student\r\n",
        "dfStudent = dfStudent.join(dfInsights_refDefinition, dfInsights.RefGradeLevelId == dfInsights_refDefinition.Id, how='inner')\r\n",
        "dfStudent = dfStudent.withColumnRenamed('Code', 'StudentGrade')\r\n",
        "dfStudent = dfStudent.select('PersonId_pseudonym', 'Surname', 'GivenName', 'MiddleName', 'PersonRole', 'StudentGrade')\r\n",
        "# join Student table with the AADUserPersonMapping table - to get the External Student ID\r\n",
        "dfInsights_aaduserpersonmapping = dfInsights_aaduserpersonmapping.withColumnRenamed('PersonId_pseudonym', 'StudentId_internal_pseudonym')\r\n",
        "dfStudent = dfStudent.join(dfInsights_aaduserpersonmapping, dfStudent.PersonId_pseudonym == dfInsights_aaduserpersonmapping.StudentId_internal_pseudonym, how='inner')\r\n",
        "dfStudent = dfStudent.withColumnRenamed('ObjectId_pseudonym', 'StudentId_external_pseudonym')\r\n",
        "dfStudent = dfStudent.select('StudentId_internal_pseudonym', 'StudentId_external_pseudonym', 'Surname', 'GivenName', 'MiddleName', 'PersonRole', 'StudentGrade')\r\n",
        "# join Student table with AAD User table to extract each student's UPN, and remove unneeded columns \r\n",
        "df_metadata = dfInsights_aaduser.select('ObjectId_pseudonym', 'UserPrincipalName_pseudonym')\r\n",
        "dfStudent = dfStudent.join(df_metadata, dfStudent.StudentId_external_pseudonym == df_metadata.ObjectId_pseudonym, how='inner')\r\n",
        "dfStudent = dfStudent.drop('ObjectId_pseudonym', 'PersonRole')\r\n",
        "# join with Person Demographic table to extract each student's DoB and birth location (since current address isn't available from Insights roster data)\r\n",
        "# also drop student external IDs (AAD IDs), and use Person ID as the primary key\r\n",
        "df_metadata = dfInsights_persondemographic_np.select('PersonId_pseudonym', 'BirthDate', 'BirthCity', 'BirthState')\r\n",
        "df_metadata = df_metadata.filter(df_metadata['BirthDate'] != 'BirthDate')\r\n",
        "dfStudent = dfStudent.join(df_metadata, dfStudent.StudentId_internal_pseudonym == df_metadata.PersonId_pseudonym, how='inner')\r\n",
        "dfStudent = dfStudent.drop('PersonId_pseudonym', 'StudentId_external_pseudonym').withColumnRenamed('StudentId_internal_pseudonym', 'StudentId_pseudonym')\r\n",
        "display(dfStudent.limit(10))"
      ],
      "outputs": [
        {
          "output_type": "display_data",
          "data": {
            "application/vnd.livy.statement-meta+json": {
              "spark_pool": "spark3p2med",
              "session_id": "58",
              "statement_id": 6,
              "state": "finished",
              "livy_statement_state": "available",
              "queued_time": "2023-01-11T17:57:26.0547116Z",
              "session_start_time": null,
              "execution_start_time": "2023-01-11T18:00:58.0250363Z",
              "execution_finish_time": "2023-01-11T18:01:06.7142121Z",
              "spark_jobs": null
            },
            "text/plain": "StatementMeta(spark3p2med, 58, 6, Finished, Available)"
          },
          "metadata": {}
        },
        {
          "output_type": "display_data",
          "data": {
            "application/vnd.synapse.widget-view+json": {
              "widget_id": "389813b4-c8d4-4382-bdea-a2690818eedc",
              "widget_type": "Synapse.DataFrame"
            },
            "text/plain": "SynapseWidget(Synapse.DataFrame, 389813b4-c8d4-4382-bdea-a2690818eedc)"
          },
          "metadata": {}
        }
      ],
      "execution_count": 6,
      "metadata": {
        "jupyter": {
          "source_hidden": false,
          "outputs_hidden": false
        },
        "nteract": {
          "transient": {
            "deleting": false
          }
        },
        "collapsed": false
      }
    },
    {
      "cell_type": "markdown",
      "source": [
        "### Write to Stage 3"
      ],
      "metadata": {
        "nteract": {
          "transient": {
            "deleting": false
          }
        }
      }
    },
    {
      "cell_type": "code",
      "source": [
        "publish(dfStudent, 'stage2/Enriched/learning_analytics/v1.0/general/dim_Student', 'stage3/Published/learning_analytics/v1.0/general/dim_Student', primary_key='StudentId_pseudonym')"
      ],
      "outputs": [
        {
          "output_type": "display_data",
          "data": {
            "application/vnd.livy.statement-meta+json": {
              "spark_pool": "spark3p2med",
              "session_id": "58",
              "statement_id": 14,
              "state": "finished",
              "livy_statement_state": "available",
              "queued_time": "2023-01-11T18:09:57.7413184Z",
              "session_start_time": null,
              "execution_start_time": "2023-01-11T18:09:57.8476268Z",
              "execution_finish_time": "2023-01-11T18:10:06.517043Z",
              "spark_jobs": null
            },
            "text/plain": "StatementMeta(spark3p2med, 58, 14, Finished, Available)"
          },
          "metadata": {}
        },
        {
          "output_type": "stream",
          "name": "stdout",
          "text": [
            "2023-01-11 18:10:06,073 - OEA - INFO - Number of new inbound rows processed: 600\n"
          ]
        },
        {
          "output_type": "execute_result",
          "execution_count": 31,
          "data": {
            "text/plain": "600"
          },
          "metadata": {}
        }
      ],
      "execution_count": 14,
      "metadata": {
        "jupyter": {
          "source_hidden": false,
          "outputs_hidden": false
        },
        "nteract": {
          "transient": {
            "deleting": false
          }
        }
      }
    },
    {
      "cell_type": "markdown",
      "source": [
        "## 2.) Build dim_Student_lookup Table\r\n",
        "\r\n",
        "Data aggregations and curation on previously created dim_Student table and Insights roster data: Person_lookup (as well as others).\r\n",
        "\r\n",
        "This table has one row per student in the Insights roster data, with details around:\r\n",
        " - student IDs (previously, student internal ID or PersonId from Person table; contains both hashed-pseudonym IDs and unhashed IDs), \r\n",
        " - student UserPrincipalNames (contains both hashed-pseudonym UPNs and unhashed UPNs), and\r\n",
        " - student names (unmasked).\r\n",
        "\r\n",
        "This table is then written out to```(stage2 and stage3)/(Enriched and Published)/learning_analytics/v1.0/sensitive/dim_Student_lookup```."
      ],
      "metadata": {
        "nteract": {
          "transient": {
            "deleting": false
          }
        }
      }
    },
    {
      "cell_type": "code",
      "source": [
        "dfInsights_person_np = oea.load('stage2/Refined/M365/v1.14/sensitive/Person_lookup')\r\n",
        "dfInsights_aaduser_np = oea.load('stage2/Refined/M365/v1.14/sensitive/AadUser_lookup')"
      ],
      "outputs": [
        {
          "output_type": "display_data",
          "data": {
            "application/vnd.livy.statement-meta+json": {
              "spark_pool": "spark3p2med",
              "session_id": "58",
              "statement_id": 15,
              "state": "finished",
              "livy_statement_state": "available",
              "queued_time": "2023-01-11T18:11:10.8750626Z",
              "session_start_time": null,
              "execution_start_time": "2023-01-11T18:11:11.0306528Z",
              "execution_finish_time": "2023-01-11T18:11:12.8972788Z",
              "spark_jobs": null
            },
            "text/plain": "StatementMeta(spark3p2med, 58, 15, Finished, Available)"
          },
          "metadata": {}
        }
      ],
      "execution_count": 15,
      "metadata": {
        "jupyter": {
          "source_hidden": false,
          "outputs_hidden": false
        },
        "nteract": {
          "transient": {
            "deleting": false
          }
        }
      }
    },
    {
      "cell_type": "code",
      "source": [
        "# isolate relevant fields from dfStudent, and join with Person_lookup to get unhashed IDs as well as student names\r\n",
        "dfStudent_lookup = dfStudent.select('StudentId_pseudonym', 'UserPrincipalName_pseudonym')\r\n",
        "dfStudent_lookup = dfStudent_lookup.join(dfInsights_person_np, dfStudent_lookup.StudentId_pseudonym == dfInsights_person_np.Id_pseudonym, how='inner').drop('Id_pseudonym')\r\n",
        "dfStudent_lookup = dfStudent_lookup.select('StudentId_pseudonym','Id','Surname','GivenName','MiddleName','UserPrincipalName_pseudonym').withColumnRenamed('Id', 'StudentId')\r\n",
        "# join dfStudent with AADUser_lookup unhashed UPNs\r\n",
        "dfInsights_aaduser_np_ = dfInsights_aaduser_np.select('UserPrincipalName', 'UserPrincipalName_pseudonym').withColumnRenamed('UserPrincipalName_pseudonym', 'UPN_pseudo')\r\n",
        "dfStudent_lookup = dfStudent_lookup.join(dfInsights_aaduser_np_, dfStudent_lookup.UserPrincipalName_pseudonym == dfInsights_aaduser_np_.UPN_pseudo, how='inner').drop('UPN_pseudo')\r\n",
        "display(dfStudent_lookup.limit(10))"
      ],
      "outputs": [
        {
          "output_type": "display_data",
          "data": {
            "application/vnd.livy.statement-meta+json": {
              "spark_pool": "spark3p2med",
              "session_id": "58",
              "statement_id": 16,
              "state": "finished",
              "livy_statement_state": "available",
              "queued_time": "2023-01-11T18:11:20.3892032Z",
              "session_start_time": null,
              "execution_start_time": "2023-01-11T18:11:20.4989114Z",
              "execution_finish_time": "2023-01-11T18:11:24.477678Z",
              "spark_jobs": null
            },
            "text/plain": "StatementMeta(spark3p2med, 58, 16, Finished, Available)"
          },
          "metadata": {}
        },
        {
          "output_type": "display_data",
          "data": {
            "application/vnd.synapse.widget-view+json": {
              "widget_id": "9e25ee00-da5a-4a46-97de-0abfeab26a03",
              "widget_type": "Synapse.DataFrame"
            },
            "text/plain": "SynapseWidget(Synapse.DataFrame, 9e25ee00-da5a-4a46-97de-0abfeab26a03)"
          },
          "metadata": {}
        }
      ],
      "execution_count": 16,
      "metadata": {
        "jupyter": {
          "source_hidden": false,
          "outputs_hidden": false
        },
        "nteract": {
          "transient": {
            "deleting": false
          }
        },
        "collapsed": false
      }
    },
    {
      "cell_type": "markdown",
      "source": [
        "### Write to Stage 3"
      ],
      "metadata": {
        "nteract": {
          "transient": {
            "deleting": false
          }
        }
      }
    },
    {
      "cell_type": "code",
      "source": [
        "publish(dfStudent_lookup, 'stage2/Enriched/learning_analytics/v1.0/sensitive/dim_Student_lookup', 'stage3/Published/learning_analytics/v1.0/sensitive/dim_Student_lookup', primary_key='StudentId_pseudonym')"
      ],
      "outputs": [
        {
          "output_type": "display_data",
          "data": {
            "application/vnd.livy.statement-meta+json": {
              "spark_pool": "spark3p2med",
              "session_id": "58",
              "statement_id": 17,
              "state": "finished",
              "livy_statement_state": "available",
              "queued_time": "2023-01-11T18:12:47.6838757Z",
              "session_start_time": null,
              "execution_start_time": "2023-01-11T18:12:47.8073835Z",
              "execution_finish_time": "2023-01-11T18:12:58.4520252Z",
              "spark_jobs": null
            },
            "text/plain": "StatementMeta(spark3p2med, 58, 17, Finished, Available)"
          },
          "metadata": {}
        },
        {
          "output_type": "stream",
          "name": "stdout",
          "text": [
            "2023-01-11 18:12:57,409 - OEA - INFO - Number of new inbound rows processed: 600\n"
          ]
        },
        {
          "output_type": "execute_result",
          "execution_count": 37,
          "data": {
            "text/plain": "600"
          },
          "metadata": {}
        }
      ],
      "execution_count": 17,
      "metadata": {
        "jupyter": {
          "source_hidden": false,
          "outputs_hidden": false
        },
        "nteract": {
          "transient": {
            "deleting": false
          }
        }
      }
    },
    {
      "cell_type": "markdown",
      "source": [
        "## 3.) Build dim_Instructor Table\r\n",
        "\r\n",
        "Data aggregations and curation on Insights activity and roster data: activity and Person (as well as others). *Note*: This only grabs the instructors listed in the Insights activity data; update for production purposes.\r\n",
        "\r\n",
        "This table has one row per instructor in the Insights roster data for the education system, with details around:\r\n",
        " - instructor IDs (previously, instructor internal ID or Person ID from the Person table), and\r\n",
        " - instructor names.\r\n",
        "\r\n",
        "This table is then written out to```(stage2 and stage3)/(Enriched and Published)/learning_analytics/v1.0/general/dim_Instructor```."
      ],
      "metadata": {
        "nteract": {
          "transient": {
            "deleting": false
          }
        }
      }
    },
    {
      "cell_type": "code",
      "source": [
        "dfInsights_activity = oea.load('stage2/Refined/M365/v1.14/general/activity')\r\n",
        "dfInsights_aaduser = oea.load('stage2/Refined/M365/v1.14/general/AadUser')\r\n",
        "dfInsights_aaduserpersonmapping = oea.load('stage2/Refined/M365/v1.14/general/AadUserPersonMapping')\r\n",
        "# lookup(s)\r\n",
        "dfInsights_aaduser_np = oea.load('stage2/Refined/M365/v1.14/sensitive/AadUser_lookup')"
      ],
      "outputs": [
        {
          "output_type": "display_data",
          "data": {
            "application/vnd.livy.statement-meta+json": {
              "spark_pool": "spark3p2med",
              "session_id": "58",
              "statement_id": 18,
              "state": "finished",
              "livy_statement_state": "available",
              "queued_time": "2023-01-11T18:13:11.4151254Z",
              "session_start_time": null,
              "execution_start_time": "2023-01-11T18:13:11.5525719Z",
              "execution_finish_time": "2023-01-11T18:13:13.4143521Z",
              "spark_jobs": null
            },
            "text/plain": "StatementMeta(spark3p2med, 58, 18, Finished, Available)"
          },
          "metadata": {}
        }
      ],
      "execution_count": 18,
      "metadata": {
        "jupyter": {
          "source_hidden": false,
          "outputs_hidden": false
        },
        "nteract": {
          "transient": {
            "deleting": false
          }
        }
      }
    },
    {
      "cell_type": "code",
      "source": [
        "# NOTE: Clean up this to only do the processes needed\r\n",
        "\"\"\"CONSIDER CREATING INSTRUCTOR GENERAL vs. LOOKUP\"\"\"\r\n",
        "# extract the classes/instructors initally provided from the Insights Activity test data, and extract the Instructor IDs, number of sections that the instructor currently teaches.\r\n",
        "dfInstructor = dfInsights_activity.filter(dfInsights_activity['ActorRole'] != 'Student')\r\n",
        "dfInstructor = dfInstructor.select('ClassId', 'ActorId_pseudonym', 'ActorRole')\r\n",
        "dfInstructor = dfInstructor.distinct()\r\n",
        "dfInstructor = dfInstructor.groupBy('ActorId_pseudonym').count()\r\n",
        "dfInstructor = dfInstructor.withColumnRenamed('ActorId_pseudonym', 'InstructorId_external_pseudonym').withColumnRenamed('count', 'NumSectionsCurrentlyInstructed')\r\n",
        "# use the AADUser_pseudo table to get the AAD User Object ID of each professor (to get their name)\r\n",
        "df_metadata = dfInsights_aaduser.filter(dfInsights_aaduser['Role'] != 'student')\r\n",
        "df_metadata = df_metadata.select('ObjectId_pseudonym', 'TeacherId_pseudonym', 'Role')\r\n",
        "dfInstructor = dfInstructor.join(df_metadata, dfInstructor.InstructorId_external_pseudonym == df_metadata.TeacherId_pseudonym, how='left')\r\n",
        "dfInstructor = dfInstructor.drop('TeacherId_pseudonym').withColumnRenamed('Role', 'InstructorRole')\r\n",
        "# use the AADUser_lookup table to get each professor's name\r\n",
        "df_metadata2 = dfInsights_aaduser_np.select('UserPrincipalName', 'ObjectId_pseudonym').withColumnRenamed('ObjectId_pseudonym', 'id')\r\n",
        "dfInstructor = dfInstructor.join(df_metadata2, dfInstructor.ObjectId_pseudonym == df_metadata2.id, how='inner')\r\n",
        "dfInstructor = dfInstructor.drop('id').withColumnRenamed('UserPrincipalName', 'InstructorName')\r\n",
        "# add each instructor's hashed internal ID (i.e. ID from Insights Person table)\r\n",
        "df_metadata = dfInsights_aaduserpersonmapping.select('ObjectId_pseudonym', 'PersonId_pseudonym').withColumnRenamed('ObjectId_pseudonym', 'id')\r\n",
        "dfInstructor = dfInstructor.join(df_metadata, dfInstructor.ObjectId_pseudonym == df_metadata.id, how='inner')\r\n",
        "dfInstructor = dfInstructor.withColumnRenamed('PersonId_pseudonym', 'InstructorId_internal_pseudonym')\r\n",
        "dfInstructor = dfInstructor.select('InstructorId_external_pseudonym', 'InstructorId_internal_pseudonym', 'InstructorRole', 'InstructorName', 'NumSectionsCurrentlyInstructed')\r\n",
        "display(dfInstructor.limit(10))"
      ],
      "outputs": [
        {
          "output_type": "display_data",
          "data": {
            "application/vnd.livy.statement-meta+json": {
              "spark_pool": "spark3p2med",
              "session_id": "58",
              "statement_id": 19,
              "state": "finished",
              "livy_statement_state": "available",
              "queued_time": "2023-01-11T18:14:05.8744564Z",
              "session_start_time": null,
              "execution_start_time": "2023-01-11T18:14:05.9933819Z",
              "execution_finish_time": "2023-01-11T18:14:11.4261022Z",
              "spark_jobs": null
            },
            "text/plain": "StatementMeta(spark3p2med, 58, 19, Finished, Available)"
          },
          "metadata": {}
        },
        {
          "output_type": "display_data",
          "data": {
            "application/vnd.synapse.widget-view+json": {
              "widget_id": "b098aa1a-8ec1-4b5a-bc07-9b2afa12f79d",
              "widget_type": "Synapse.DataFrame"
            },
            "text/plain": "SynapseWidget(Synapse.DataFrame, b098aa1a-8ec1-4b5a-bc07-9b2afa12f79d)"
          },
          "metadata": {}
        }
      ],
      "execution_count": 19,
      "metadata": {
        "jupyter": {
          "source_hidden": false,
          "outputs_hidden": false
        },
        "nteract": {
          "transient": {
            "deleting": false
          }
        },
        "collapsed": false
      }
    },
    {
      "cell_type": "code",
      "source": [
        "# ad hoc - remove unused columns\r\n",
        "dfInstructor = dfInstructor.select('InstructorId_internal_pseudonym', 'InstructorName').withColumnRenamed('InstructorId_internal_pseudonym', 'InstructorId_pseudonym')\r\n",
        "display(dfInstructor.limit(10))"
      ],
      "outputs": [
        {
          "output_type": "display_data",
          "data": {
            "application/vnd.livy.statement-meta+json": {
              "spark_pool": "spark3p2med",
              "session_id": "58",
              "statement_id": 20,
              "state": "finished",
              "livy_statement_state": "available",
              "queued_time": "2023-01-11T18:14:55.8178569Z",
              "session_start_time": null,
              "execution_start_time": "2023-01-11T18:14:55.9334907Z",
              "execution_finish_time": "2023-01-11T18:14:57.784717Z",
              "spark_jobs": null
            },
            "text/plain": "StatementMeta(spark3p2med, 58, 20, Finished, Available)"
          },
          "metadata": {}
        },
        {
          "output_type": "display_data",
          "data": {
            "application/vnd.synapse.widget-view+json": {
              "widget_id": "50982658-a53f-46c3-a681-b25810a23887",
              "widget_type": "Synapse.DataFrame"
            },
            "text/plain": "SynapseWidget(Synapse.DataFrame, 50982658-a53f-46c3-a681-b25810a23887)"
          },
          "metadata": {}
        }
      ],
      "execution_count": 20,
      "metadata": {
        "jupyter": {
          "source_hidden": false,
          "outputs_hidden": false
        },
        "nteract": {
          "transient": {
            "deleting": false
          }
        },
        "collapsed": false
      }
    },
    {
      "cell_type": "markdown",
      "source": [
        "### Write to Stage 3"
      ],
      "metadata": {
        "nteract": {
          "transient": {
            "deleting": false
          }
        }
      }
    },
    {
      "cell_type": "code",
      "source": [
        "publish(dfInstructor, 'stage2/Enriched/learning_analytics/v1.0/general/dim_Instructor', 'stage3/Published/learning_analytics/v1.0/general/dim_Instructor', primary_key='InstructorId_pseudonym')"
      ],
      "outputs": [
        {
          "output_type": "display_data",
          "data": {
            "application/vnd.livy.statement-meta+json": {
              "spark_pool": "spark3p2med",
              "session_id": "58",
              "statement_id": 21,
              "state": "finished",
              "livy_statement_state": "available",
              "queued_time": "2023-01-11T18:16:01.0414767Z",
              "session_start_time": null,
              "execution_start_time": "2023-01-11T18:16:01.1697754Z",
              "execution_finish_time": "2023-01-11T18:16:08.0725671Z",
              "spark_jobs": null
            },
            "text/plain": "StatementMeta(spark3p2med, 58, 21, Finished, Available)"
          },
          "metadata": {}
        },
        {
          "output_type": "stream",
          "name": "stdout",
          "text": [
            "2023-01-11 18:16:07,628 - OEA - INFO - Number of new inbound rows processed: 40\n"
          ]
        },
        {
          "output_type": "execute_result",
          "execution_count": 45,
          "data": {
            "text/plain": "40"
          },
          "metadata": {}
        }
      ],
      "execution_count": 21,
      "metadata": {
        "jupyter": {
          "source_hidden": false,
          "outputs_hidden": false
        },
        "nteract": {
          "transient": {
            "deleting": false
          }
        }
      }
    },
    {
      "cell_type": "markdown",
      "source": [
        "## 4.) Build dim_Section Table\r\n",
        "\r\n",
        "Data aggregations and curation on Insights roster data: Section and SectionSession (and others). \r\n",
        "\r\n",
        "This table has one row per section/class in the Insights Section table, with details around:\r\n",
        " - section ID, \r\n",
        " - section name,\r\n",
        " - section start & end date, and\r\n",
        " - calendar cycle that this particular section belongs to.\r\n",
        "\r\n",
        "This table is then written out to```(stage2 and stage3)/(Enriched and Published)/learning_analytics/v1.0/general/dim_Section```."
      ],
      "metadata": {
        "nteract": {
          "transient": {
            "deleting": false
          }
        }
      }
    },
    {
      "cell_type": "code",
      "source": [
        "dfInsights_activity = oea.load('stage2/Refined/M365/v1.14/general/activity')\r\n",
        "dfInsights_aadgroup = oea.load('stage2/Refined/M365/v1.14/general/AadGroup')\r\n",
        "#dfInsights_aadgroupmembership = oea.load('stage2/Refined/M365/v1.14/general/AadGroupMembership')\r\n",
        "dfInsights_aaduserpersonmapping = oea.load('stage2/Refined/M365/v1.14/general/AadUserPersonMapping')\r\n",
        "dfInsights_enrollment = oea.load('stage2/Refined/M365/v1.14/general/Enrollment')\r\n",
        "dfInsights_section = oea.load('stage2/Refined/M365/v1.14/general/Section')\r\n",
        "dfInsights_sectionsession = oea.load('stage2/Refined/M365/v1.14/general/SectionSession')\r\n",
        "dfInsights_session = oea.load('stage2/Refined/M365/v1.14/general/Session')\r\n",
        "# lookup(s)\r\n",
        "dfInsights_aadgroup_np = oea.load('stage2/Refined/M365/v1.14/sensitive/AadGroup_lookup')"
      ],
      "outputs": [
        {
          "output_type": "display_data",
          "data": {
            "application/vnd.livy.statement-meta+json": {
              "spark_pool": "spark3p2med",
              "session_id": "58",
              "statement_id": 22,
              "state": "finished",
              "livy_statement_state": "available",
              "queued_time": "2023-01-11T18:16:39.8833434Z",
              "session_start_time": null,
              "execution_start_time": "2023-01-11T18:16:40.0119189Z",
              "execution_finish_time": "2023-01-11T18:16:45.3969437Z",
              "spark_jobs": null
            },
            "text/plain": "StatementMeta(spark3p2med, 58, 22, Finished, Available)"
          },
          "metadata": {}
        }
      ],
      "execution_count": 22,
      "metadata": {
        "jupyter": {
          "source_hidden": false,
          "outputs_hidden": false
        },
        "nteract": {
          "transient": {
            "deleting": false
          }
        }
      }
    },
    {
      "cell_type": "code",
      "source": [
        "# NOTE: Clean up this to only do the processes needed\r\n",
        "# extract the classes initally provided from the Insights Activity test data, and extract the Teacher IDs \r\n",
        "dfClass = dfInsights_activity.filter(dfInsights_activity['ActorRole'] != 'Student')\r\n",
        "dfClass = dfClass.filter(dfClass['ActorRole'] != 'ActorRole')\r\n",
        "dfClass = dfClass.select('ClassId', 'ActorId_pseudonym', 'ActorRole')\r\n",
        "dfClass = dfClass.groupBy('ClassId', 'ActorId_pseudonym', 'ActorRole').count()\r\n",
        "dfClass = dfClass.withColumnRenamed('ClassId', 'AADGroup_ClassId').withColumnRenamed('ActorId_pseudonym', 'InstructorId_external_pseudonym').withColumnRenamed('ActorRole', 'PersonRole')\r\n",
        "dfClass = dfClass.drop('count')\r\n",
        "# join the Insights AADGroup_pseudo and _lookup table to the dfClass table, to provide mapping of the hashed and non-hashed AADGroup Class IDs\r\n",
        "dfInsights_aadgroup_np_ = dfInsights_aadgroup_np.select('ObjectId', 'DisplayName', 'ObjectId_pseudonym').withColumnRenamed('ObjectId', 'Id').withColumnRenamed('ObjectId_pseudonym', 'AADGroup_ClassId_pseudonym')\r\n",
        "dfClass = dfClass.join(dfInsights_aadgroup_np_, dfClass.AADGroup_ClassId == dfInsights_aadgroup_np_.Id, how='inner')\r\n",
        "dfClass = dfClass.drop('Id')\r\n",
        "dfInsights_aadgroup_ = dfInsights_aadgroup.select('ObjectId_pseudonym', 'SectionId')\r\n",
        "dfClass = dfClass.join(dfInsights_aadgroup_, dfClass.AADGroup_ClassId_pseudonym == dfInsights_aadgroup_.ObjectId_pseudonym, how='inner')\r\n",
        "dfClass = dfClass.drop('ObjectId_pseudonym', 'PersonRole').withColumnRenamed('DisplayName', 'SectionName')\r\n",
        "# then, use the Enrollment table to group by class/Section and count the number of students enrolled within each class\r\n",
        "df_metadata = dfInsights_enrollment.select('PersonId_pseudonym', 'SectionId', 'RefSectionRoleId').withColumnRenamed('SectionId', 'id')\r\n",
        "df_metadata = df_metadata.filter(df_metadata['RefSectionRoleId'] == 'Student')\r\n",
        "df_metadata = df_metadata.groupBy('id').count()\r\n",
        "df_metadata = df_metadata.withColumnRenamed('count', 'NumStudentsEnrolledInSection')\r\n",
        "dfClass = dfClass.join(df_metadata, dfClass.SectionId == df_metadata.id, how='inner')\r\n",
        "dfClass = dfClass.select('SectionId', 'SectionName', 'InstructorId_external_pseudonym', 'NumStudentsEnrolledInSection')\r\n",
        "display(dfClass.limit(10))"
      ],
      "outputs": [
        {
          "output_type": "display_data",
          "data": {
            "application/vnd.livy.statement-meta+json": {
              "spark_pool": "spark3p2med",
              "session_id": "58",
              "statement_id": 23,
              "state": "finished",
              "livy_statement_state": "available",
              "queued_time": "2023-01-11T18:16:56.4849025Z",
              "session_start_time": null,
              "execution_start_time": "2023-01-11T18:16:56.6693912Z",
              "execution_finish_time": "2023-01-11T18:16:59.5920015Z",
              "spark_jobs": null
            },
            "text/plain": "StatementMeta(spark3p2med, 58, 23, Finished, Available)"
          },
          "metadata": {}
        },
        {
          "output_type": "display_data",
          "data": {
            "application/vnd.synapse.widget-view+json": {
              "widget_id": "31bbb1f5-8bd1-4135-abc9-f81c87a083e6",
              "widget_type": "Synapse.DataFrame"
            },
            "text/plain": "SynapseWidget(Synapse.DataFrame, 31bbb1f5-8bd1-4135-abc9-f81c87a083e6)"
          },
          "metadata": {}
        }
      ],
      "execution_count": 23,
      "metadata": {
        "jupyter": {
          "source_hidden": false,
          "outputs_hidden": false
        },
        "nteract": {
          "transient": {
            "deleting": false
          }
        },
        "collapsed": false
      }
    },
    {
      "cell_type": "code",
      "source": [
        "# ad hoc - drop now-unused columns and join with SectionSession data\r\n",
        "dfSection = dfClass.select('SectionId', 'SectionName')\r\n",
        "df_metadata1 = dfInsights_sectionsession.select('SectionId', 'SessionId').withColumnRenamed('SectionId', 'id')\r\n",
        "dfSection = dfSection.join(df_metadata1, dfSection.SectionId == df_metadata1.id, how='inner').drop('id')\r\n",
        "df_metadata2 = dfInsights_session.select('Id', 'Name', 'StartDate', 'EndDate')\r\n",
        "dfSection = dfSection.join(df_metadata2, dfSection.SessionId == df_metadata2.Id, how='inner').drop('SessionId', 'Id')\r\n",
        "dfSection = dfSection.select('SectionId', 'SectionName', 'StartDate', 'EndDate', 'Name').withColumnRenamed('StartDate', 'SectionStartDate').withColumnRenamed('EndDate', 'SectionEndDate').withColumnRenamed('Name', 'CalendarCycle')\r\n",
        "display(dfSection.limit(10))"
      ],
      "outputs": [
        {
          "output_type": "display_data",
          "data": {
            "application/vnd.livy.statement-meta+json": {
              "spark_pool": "spark3p2med",
              "session_id": "58",
              "statement_id": 24,
              "state": "finished",
              "livy_statement_state": "available",
              "queued_time": "2023-01-11T18:17:05.1539985Z",
              "session_start_time": null,
              "execution_start_time": "2023-01-11T18:17:05.2603049Z",
              "execution_finish_time": "2023-01-11T18:17:09.2041062Z",
              "spark_jobs": null
            },
            "text/plain": "StatementMeta(spark3p2med, 58, 24, Finished, Available)"
          },
          "metadata": {}
        },
        {
          "output_type": "display_data",
          "data": {
            "application/vnd.synapse.widget-view+json": {
              "widget_id": "982736f4-7e65-4989-b373-d870ab4fc78e",
              "widget_type": "Synapse.DataFrame"
            },
            "text/plain": "SynapseWidget(Synapse.DataFrame, 982736f4-7e65-4989-b373-d870ab4fc78e)"
          },
          "metadata": {}
        }
      ],
      "execution_count": 24,
      "metadata": {
        "jupyter": {
          "source_hidden": false,
          "outputs_hidden": false
        },
        "nteract": {
          "transient": {
            "deleting": false
          }
        },
        "collapsed": false
      }
    },
    {
      "cell_type": "markdown",
      "source": [
        "### Write to Stage 3"
      ],
      "metadata": {
        "nteract": {
          "transient": {
            "deleting": false
          }
        }
      }
    },
    {
      "cell_type": "code",
      "source": [
        "publish(dfSection, 'stage2/Enriched/learning_analytics/v1.0/general/dim_Section', 'stage3/Published/learning_analytics/v1.0/general/dim_Section', primary_key='SectionId')"
      ],
      "outputs": [
        {
          "output_type": "display_data",
          "data": {
            "application/vnd.livy.statement-meta+json": {
              "spark_pool": "spark3p2med",
              "session_id": "58",
              "statement_id": 25,
              "state": "finished",
              "livy_statement_state": "available",
              "queued_time": "2023-01-11T18:18:30.7036186Z",
              "session_start_time": null,
              "execution_start_time": "2023-01-11T18:18:30.8510335Z",
              "execution_finish_time": "2023-01-11T18:18:39.6738794Z",
              "spark_jobs": null
            },
            "text/plain": "StatementMeta(spark3p2med, 58, 25, Finished, Available)"
          },
          "metadata": {}
        },
        {
          "output_type": "stream",
          "name": "stdout",
          "text": [
            "2023-01-11 18:18:39,226 - OEA - INFO - Number of new inbound rows processed: 87\n"
          ]
        },
        {
          "output_type": "execute_result",
          "execution_count": 53,
          "data": {
            "text/plain": "87"
          },
          "metadata": {}
        }
      ],
      "execution_count": 25,
      "metadata": {
        "jupyter": {
          "source_hidden": false,
          "outputs_hidden": false
        },
        "nteract": {
          "transient": {
            "deleting": false
          }
        }
      }
    },
    {
      "cell_type": "markdown",
      "source": [
        "## 5.) Build dim_Course Table\r\n",
        "\r\n",
        "Data aggregations and curation on Insights roster data: Course and CourseGradeLevel (and others). \r\n",
        "\r\n",
        "This table has one row per course in the Insights Course table, with details around:\r\n",
        " - course ID, \r\n",
        " - course name,\r\n",
        " - course grade level, and\r\n",
        " - the number of students enrolled in each course.\r\n",
        "\r\n",
        "This table is then written out to```(stage2 and stage3)/(Enriched and Published)/learning_analytics/v1.0/general/dim_Course```."
      ],
      "metadata": {
        "nteract": {
          "transient": {
            "deleting": false
          }
        }
      }
    },
    {
      "cell_type": "code",
      "source": [
        "dfInsights_course = oea.load('stage2/Refined/M365/v1.14/general/Course')\r\n",
        "dfInsights_coursegradelevel = oea.load('stage2/Refined/M365/v1.14/general/CourseGradeLevel')\r\n",
        "dfInsights_enrollment = oea.load('stage2/Refined/M365/v1.14/general/Enrollment')\r\n",
        "dfInsights_refdefinition = oea.load('stage2/Refined/M365/v1.14/general/RefDefinition')\r\n",
        "dfInsights_section = oea.load('stage2/Refined/M365/v1.14/general/Section')"
      ],
      "outputs": [
        {
          "output_type": "display_data",
          "data": {
            "application/vnd.livy.statement-meta+json": {
              "spark_pool": "spark3p2med",
              "session_id": "58",
              "statement_id": 29,
              "state": "finished",
              "livy_statement_state": "available",
              "queued_time": "2023-01-11T18:30:33.7030433Z",
              "session_start_time": null,
              "execution_start_time": "2023-01-11T18:30:33.8175526Z",
              "execution_finish_time": "2023-01-11T18:30:34.3431388Z",
              "spark_jobs": null
            },
            "text/plain": "StatementMeta(spark3p2med, 58, 29, Finished, Available)"
          },
          "metadata": {}
        }
      ],
      "execution_count": 29,
      "metadata": {
        "jupyter": {
          "source_hidden": false,
          "outputs_hidden": false
        },
        "nteract": {
          "transient": {
            "deleting": false
          }
        }
      }
    },
    {
      "cell_type": "code",
      "source": [
        "# NOTE: Clean up this to only do the processes needed; CourseGradeLevel bug.\r\n",
        "# grab each course's ID and name, and RefGradeLevelId\r\n",
        "dfCourse = dfInsights_course.select('Id', 'Name')\r\n",
        "df_metadata = dfInsights_coursegradelevel.select('CourseId', 'RefGradeLevelId')\r\n",
        "df_metadata = df_metadata.filter(df_metadata['CourseId'] != 'CourseId')\r\n",
        "dfCourse = dfCourse.join(df_metadata, dfCourse.Id == df_metadata.CourseId, how='inner').drop('CourseId')\r\n",
        "# join class table with RefDefinition table to get the grade level of each course\r\n",
        "df_metadata = dfInsights_refdefinition.select('Id', 'Code').withColumnRenamed('Id', 'refId')\r\n",
        "dfCourse = dfCourse.join(df_metadata, dfCourse.RefGradeLevelId == df_metadata.refId, how='inner').drop('refId', 'RefGradeLevelId')\r\n",
        "dfCourse = dfCourse.withColumnRenamed('Id', 'CourseId').withColumnRenamed('Name', 'CourseName').withColumnRenamed('Code', 'CourseGradeLevel')\r\n",
        "display(dfCourse.limit(10))"
      ],
      "outputs": [
        {
          "output_type": "display_data",
          "data": {
            "application/vnd.livy.statement-meta+json": {
              "spark_pool": "spark3p2med",
              "session_id": "58",
              "statement_id": 27,
              "state": "finished",
              "livy_statement_state": "available",
              "queued_time": "2023-01-11T18:19:53.559018Z",
              "session_start_time": null,
              "execution_start_time": "2023-01-11T18:19:53.6881386Z",
              "execution_finish_time": "2023-01-11T18:19:56.513875Z",
              "spark_jobs": null
            },
            "text/plain": "StatementMeta(spark3p2med, 58, 27, Finished, Available)"
          },
          "metadata": {}
        },
        {
          "output_type": "display_data",
          "data": {
            "application/vnd.synapse.widget-view+json": {
              "widget_id": "f02f70c3-f58f-4b11-b22c-e7fb58d51137",
              "widget_type": "Synapse.DataFrame"
            },
            "text/plain": "SynapseWidget(Synapse.DataFrame, f02f70c3-f58f-4b11-b22c-e7fb58d51137)"
          },
          "metadata": {}
        }
      ],
      "execution_count": 27,
      "metadata": {
        "jupyter": {
          "source_hidden": false,
          "outputs_hidden": false
        },
        "nteract": {
          "transient": {
            "deleting": false
          }
        },
        "collapsed": false
      }
    },
    {
      "cell_type": "code",
      "source": [
        "# NOTE: This will need to be updated for production purposes.\r\n",
        "# add a column for the number of enrolled students - found through using the Insights Enrollment and Section tables\r\n",
        "df_metadata = dfInsights_enrollment.select('PersonId_pseudonym', 'SectionId', 'RefSectionRoleId')\r\n",
        "df_metadata = df_metadata.filter(df_metadata['RefSectionRoleId'] == 'Student')\r\n",
        "df_metadata2 = dfInsights_section.select('Id', 'CourseId')\r\n",
        "df_metadata = df_metadata.join(df_metadata2, df_metadata.SectionId == df_metadata2.Id, how='inner').drop('SectionId', 'Id')\r\n",
        "df_metadata = df_metadata.withColumnRenamed('CourseId', 'id')\r\n",
        "df_metadata = df_metadata.groupBy('id').count()\r\n",
        "df_metadata = df_metadata.withColumnRenamed('count', 'EnrolledStudents')\r\n",
        "dfCourse = dfCourse.join(df_metadata, dfCourse.CourseId == df_metadata.id, how='inner').drop('id')\r\n",
        "print('Number of Courses (should be 87):')\r\n",
        "print(dfCourse.count())\r\n",
        "display(dfCourse.limit(10))"
      ],
      "outputs": [
        {
          "output_type": "display_data",
          "data": {
            "application/vnd.livy.statement-meta+json": {
              "spark_pool": "spark3p2med",
              "session_id": "58",
              "statement_id": 30,
              "state": "finished",
              "livy_statement_state": "available",
              "queued_time": "2023-01-11T18:30:56.0337517Z",
              "session_start_time": null,
              "execution_start_time": "2023-01-11T18:30:56.1478908Z",
              "execution_finish_time": "2023-01-11T18:31:01.5134673Z",
              "spark_jobs": null
            },
            "text/plain": "StatementMeta(spark3p2med, 58, 30, Finished, Available)"
          },
          "metadata": {}
        },
        {
          "output_type": "stream",
          "name": "stdout",
          "text": [
            "Number of Courses (should be 87):\n87\n"
          ]
        },
        {
          "output_type": "display_data",
          "data": {
            "application/vnd.synapse.widget-view+json": {
              "widget_id": "9dba11c3-5f29-4c8c-b699-c972ad858b07",
              "widget_type": "Synapse.DataFrame"
            },
            "text/plain": "SynapseWidget(Synapse.DataFrame, 9dba11c3-5f29-4c8c-b699-c972ad858b07)"
          },
          "metadata": {}
        }
      ],
      "execution_count": 30,
      "metadata": {
        "jupyter": {
          "source_hidden": false,
          "outputs_hidden": false
        },
        "nteract": {
          "transient": {
            "deleting": false
          }
        },
        "collapsed": false
      }
    },
    {
      "cell_type": "markdown",
      "source": [
        "### Write to Stage 3"
      ],
      "metadata": {
        "nteract": {
          "transient": {
            "deleting": false
          }
        }
      }
    },
    {
      "cell_type": "code",
      "source": [
        "publish(dfCourse, 'stage2/Enriched/learning_analytics/v1.0/general/dim_Course', 'stage3/Published/learning_analytics/v1.0/general/dim_Course', primary_key='CourseId')"
      ],
      "outputs": [
        {
          "output_type": "display_data",
          "data": {
            "application/vnd.livy.statement-meta+json": {
              "spark_pool": "spark3p2med",
              "session_id": "58",
              "statement_id": 31,
              "state": "finished",
              "livy_statement_state": "available",
              "queued_time": "2023-01-11T18:33:11.7672537Z",
              "session_start_time": null,
              "execution_start_time": "2023-01-11T18:33:11.872578Z",
              "execution_finish_time": "2023-01-11T18:33:20.6358871Z",
              "spark_jobs": null
            },
            "text/plain": "StatementMeta(spark3p2med, 58, 31, Finished, Available)"
          },
          "metadata": {}
        },
        {
          "output_type": "stream",
          "name": "stdout",
          "text": [
            "2023-01-11 18:33:19,158 - OEA - INFO - Number of new inbound rows processed: 87\n"
          ]
        },
        {
          "output_type": "execute_result",
          "execution_count": 65,
          "data": {
            "text/plain": "87"
          },
          "metadata": {}
        }
      ],
      "execution_count": 31,
      "metadata": {
        "jupyter": {
          "source_hidden": false,
          "outputs_hidden": false
        },
        "nteract": {
          "transient": {
            "deleting": false
          }
        }
      }
    },
    {
      "cell_type": "markdown",
      "source": [
        "## 6.) Build dim_School Table\r\n",
        "\r\n",
        "Data aggregations and curation on Insights roster data: Organization. \r\n",
        "\r\n",
        "This table has one row per school in the Insights Organization table, with details around:\r\n",
        " - school ID, \r\n",
        " - school name,\r\n",
        " - country of location, and\r\n",
        " - latitude & longitude coordinates of school location.\r\n",
        "\r\n",
        "This table is then written out to```(stage2 and stage3)/(Enriched and Published)/learning_analytics/v1.0/general/dim_School```."
      ],
      "metadata": {
        "nteract": {
          "transient": {
            "deleting": false
          }
        }
      }
    },
    {
      "cell_type": "code",
      "source": [
        "dfInsights_org = oea.load('stage2/Refined/M365/v1.14/general/Organization')"
      ],
      "outputs": [
        {
          "output_type": "display_data",
          "data": {
            "application/vnd.livy.statement-meta+json": {
              "spark_pool": "spark3p2med",
              "session_id": "58",
              "statement_id": 32,
              "state": "finished",
              "livy_statement_state": "available",
              "queued_time": "2023-01-11T18:33:26.9802118Z",
              "session_start_time": null,
              "execution_start_time": "2023-01-11T18:33:27.0870257Z",
              "execution_finish_time": "2023-01-11T18:33:28.2146896Z",
              "spark_jobs": null
            },
            "text/plain": "StatementMeta(spark3p2med, 58, 32, Finished, Available)"
          },
          "metadata": {}
        }
      ],
      "execution_count": 32,
      "metadata": {
        "jupyter": {
          "source_hidden": false,
          "outputs_hidden": false
        },
        "nteract": {
          "transient": {
            "deleting": false
          }
        }
      }
    },
    {
      "cell_type": "code",
      "source": [
        "# isolate the relevant columns from the Organization table\r\n",
        "dfSchool = dfInsights_org.select('Id', 'Name')\r\n",
        "dfSchool = dfSchool.withColumnRenamed('Id', 'SchoolId').withColumnRenamed('Name', 'SchoolName')\r\n",
        "# fill in US for country of location, temporarily - and add additional columns as placeholders for now\r\n",
        "dfSchool = dfSchool.withColumn('Country', F.lit('United States of America')).withColumn('Latitude', F.lit('')).withColumn('Longitude', F.lit(''))\r\n",
        "display(dfSchool)"
      ],
      "outputs": [
        {
          "output_type": "display_data",
          "data": {
            "application/vnd.livy.statement-meta+json": {
              "spark_pool": "spark3p2med",
              "session_id": "58",
              "statement_id": 33,
              "state": "finished",
              "livy_statement_state": "available",
              "queued_time": "2023-01-11T18:33:30.0501108Z",
              "session_start_time": null,
              "execution_start_time": "2023-01-11T18:33:30.1578528Z",
              "execution_finish_time": "2023-01-11T18:33:30.6828889Z",
              "spark_jobs": null
            },
            "text/plain": "StatementMeta(spark3p2med, 58, 33, Finished, Available)"
          },
          "metadata": {}
        },
        {
          "output_type": "display_data",
          "data": {
            "application/vnd.synapse.widget-view+json": {
              "widget_id": "2c8a6f08-c3b4-41af-babb-470dc7e342c5",
              "widget_type": "Synapse.DataFrame"
            },
            "text/plain": "SynapseWidget(Synapse.DataFrame, 2c8a6f08-c3b4-41af-babb-470dc7e342c5)"
          },
          "metadata": {}
        }
      ],
      "execution_count": 33,
      "metadata": {
        "jupyter": {
          "source_hidden": false,
          "outputs_hidden": false
        },
        "nteract": {
          "transient": {
            "deleting": false
          }
        },
        "collapsed": false
      }
    },
    {
      "cell_type": "markdown",
      "source": [
        "### Write to Stage 3"
      ],
      "metadata": {
        "nteract": {
          "transient": {
            "deleting": false
          }
        }
      }
    },
    {
      "cell_type": "code",
      "source": [
        "publish(dfSchool, 'stage2/Enriched/learning_analytics/v1.0/general/dim_School', 'stage3/Published/learning_analytics/v1.0/general/dim_School', primary_key='SchoolId')"
      ],
      "outputs": [
        {
          "output_type": "display_data",
          "data": {
            "application/vnd.livy.statement-meta+json": {
              "spark_pool": "spark3p2med",
              "session_id": "58",
              "statement_id": 34,
              "state": "finished",
              "livy_statement_state": "available",
              "queued_time": "2023-01-11T18:34:05.7451868Z",
              "session_start_time": null,
              "execution_start_time": "2023-01-11T18:34:05.8525779Z",
              "execution_finish_time": "2023-01-11T18:34:11.2772262Z",
              "spark_jobs": null
            },
            "text/plain": "StatementMeta(spark3p2med, 58, 34, Finished, Available)"
          },
          "metadata": {}
        },
        {
          "output_type": "stream",
          "name": "stdout",
          "text": [
            "2023-01-11 18:34:10,951 - OEA - INFO - Number of new inbound rows processed: 5\n"
          ]
        },
        {
          "output_type": "execute_result",
          "execution_count": 71,
          "data": {
            "text/plain": "5"
          },
          "metadata": {}
        }
      ],
      "execution_count": 34,
      "metadata": {
        "jupyter": {
          "source_hidden": false,
          "outputs_hidden": false
        },
        "nteract": {
          "transient": {
            "deleting": false
          }
        }
      }
    },
    {
      "cell_type": "markdown",
      "source": [
        "## 7.) Build dim_Meeting Table\r\n",
        "\r\n",
        "Data aggregations and curation on Insights activity data and Graph meeting_attendance_report pertaining to meetings. \r\n",
        "\r\n",
        "This table has one row per meeting recorded in both Insights and from the Graph query, with details around:\r\n",
        " - meeting ID,\r\n",
        " - date of the meeting,\r\n",
        " - meeting start time,\r\n",
        " - meeting end time, and\r\n",
        " - type of meeting.\r\n",
        "\r\n",
        "This table is then written out to```(stage2 and stage3)/(Enriched and Published)/learning_analytics/v1.0/general/dim_Meeting```."
      ],
      "metadata": {
        "nteract": {
          "transient": {
            "deleting": false
          }
        }
      }
    },
    {
      "cell_type": "code",
      "source": [
        "dfInsights_activity = oea.load('stage2/Refined/M365/v1.14/general/activity')\r\n",
        "dfGraph_meetingAtten = oea.load('stage2/Refined/graph_api/v1.0/general/meeting_attendance_report')"
      ],
      "outputs": [
        {
          "output_type": "display_data",
          "data": {
            "application/vnd.livy.statement-meta+json": {
              "spark_pool": "spark3p2med",
              "session_id": "58",
              "statement_id": 35,
              "state": "finished",
              "livy_statement_state": "available",
              "queued_time": "2023-01-11T18:38:28.2697807Z",
              "session_start_time": null,
              "execution_start_time": "2023-01-11T18:38:28.3977086Z",
              "execution_finish_time": "2023-01-11T18:38:30.2326893Z",
              "spark_jobs": null
            },
            "text/plain": "StatementMeta(spark3p2med, 58, 35, Finished, Available)"
          },
          "metadata": {}
        }
      ],
      "execution_count": 35,
      "metadata": {
        "jupyter": {
          "source_hidden": false,
          "outputs_hidden": false
        },
        "nteract": {
          "transient": {
            "deleting": false
          }
        }
      }
    },
    {
      "cell_type": "code",
      "source": [
        "# grab only the relevant data for the Meeting dimension table from Graph\r\n",
        "dfMeeting = dfGraph_meetingAtten.select('meetingId', 'meetingStartDateTime', 'meetingEndDateTime')\r\n",
        "dfMeeting = dfMeeting.groupBy('meetingId', 'meetingStartDateTime', 'meetingEndDateTime').count()\r\n",
        "dfMeeting = dfMeeting.drop('count')\r\n",
        "# grab only the relevant data for the Meeting table from Insights activity, and join the meeting type to the dfMeeting table\r\n",
        "df_metadata = dfInsights_activity.select('MeetingSessionId', 'MeetingType')\r\n",
        "df_metadata = df_metadata.groupBy('MeetingSessionId', 'MeetingType').count()\r\n",
        "df_metadata = df_metadata.drop('count')\r\n",
        "dfMeeting = dfMeeting.join(df_metadata, dfMeeting.meetingId == df_metadata.MeetingSessionId, how='inner').drop('MeetingSessionId')\r\n",
        "dfMeeting = dfMeeting.withColumnRenamed('meetingId', 'MeetingId').withColumnRenamed('meetingStartDateTime', 'StartTime').withColumnRenamed('meetingEndDateTime', 'EndTime')\r\n",
        "# add an additional column for the date of the meeting, and make the time columns only contain the times, without dates\r\n",
        "dfMeeting = dfMeeting.withColumn('MeetingDate', F.to_date(F.col('StartTime')))\r\n",
        "dfMeeting = dfMeeting.withColumn('STime', F.date_format('StartTime', 'HH:mm:ss')).withColumn('ETime', F.date_format('EndTime', 'HH:mm:ss')).drop('StartTime', 'EndTime')\r\n",
        "dfMeeting = dfMeeting.withColumnRenamed('STime', 'StartTime').withColumnRenamed('ETime', 'EndTime')\r\n",
        "dfMeeting = dfMeeting.select('MeetingId', 'MeetingDate', 'StartTime', 'EndTime', 'MeetingType')\r\n",
        "display(dfMeeting.limit(10))"
      ],
      "outputs": [
        {
          "output_type": "display_data",
          "data": {
            "application/vnd.livy.statement-meta+json": {
              "spark_pool": "spark3p2med",
              "session_id": "58",
              "statement_id": 36,
              "state": "finished",
              "livy_statement_state": "available",
              "queued_time": "2023-01-11T18:38:35.0989628Z",
              "session_start_time": null,
              "execution_start_time": "2023-01-11T18:38:35.2679008Z",
              "execution_finish_time": "2023-01-11T18:38:37.1071033Z",
              "spark_jobs": null
            },
            "text/plain": "StatementMeta(spark3p2med, 58, 36, Finished, Available)"
          },
          "metadata": {}
        },
        {
          "output_type": "display_data",
          "data": {
            "application/vnd.synapse.widget-view+json": {
              "widget_id": "aaf219c2-b679-4cb4-add9-d8cebe2f8722",
              "widget_type": "Synapse.DataFrame"
            },
            "text/plain": "SynapseWidget(Synapse.DataFrame, aaf219c2-b679-4cb4-add9-d8cebe2f8722)"
          },
          "metadata": {}
        }
      ],
      "execution_count": 36,
      "metadata": {
        "jupyter": {
          "source_hidden": false,
          "outputs_hidden": false
        },
        "nteract": {
          "transient": {
            "deleting": false
          }
        },
        "collapsed": false
      }
    },
    {
      "cell_type": "markdown",
      "source": [
        "### Write to Stage 3"
      ],
      "metadata": {
        "nteract": {
          "transient": {
            "deleting": false
          }
        }
      }
    },
    {
      "cell_type": "code",
      "source": [
        "publish(dfMeeting, 'stage2/Enriched/learning_analytics/v1.0/general/dim_Meeting', 'stage3/Published/learning_analytics/v1.0/general/dim_Meeting', primary_key='MeetingId')"
      ],
      "outputs": [
        {
          "output_type": "display_data",
          "data": {
            "application/vnd.livy.statement-meta+json": {
              "spark_pool": "spark3p2med",
              "session_id": "58",
              "statement_id": 37,
              "state": "finished",
              "livy_statement_state": "available",
              "queued_time": "2023-01-11T18:39:30.1549355Z",
              "session_start_time": null,
              "execution_start_time": "2023-01-11T18:39:30.2643382Z",
              "execution_finish_time": "2023-01-11T18:39:37.3412897Z",
              "spark_jobs": null
            },
            "text/plain": "StatementMeta(spark3p2med, 58, 37, Finished, Available)"
          },
          "metadata": {}
        },
        {
          "output_type": "stream",
          "name": "stdout",
          "text": [
            "2023-01-11 18:39:35,853 - OEA - INFO - Number of new inbound rows processed: 261\n"
          ]
        },
        {
          "output_type": "execute_result",
          "execution_count": 77,
          "data": {
            "text/plain": "261"
          },
          "metadata": {}
        }
      ],
      "execution_count": 37,
      "metadata": {
        "jupyter": {
          "source_hidden": false,
          "outputs_hidden": false
        },
        "nteract": {
          "transient": {
            "deleting": false
          }
        }
      }
    },
    {
      "cell_type": "markdown",
      "source": [
        "## 8.) Build dim_AssignmentStatus Table\r\n",
        "\r\n",
        "Data aggregations and curation on Insights activity data pertaining to the 4 possible assignment status's seen from the Insights activity table.\r\n",
        "\r\n",
        "This table has one row per assignment status from the activity table, with details on what the encoded AssignmentStatusId represents.\r\n",
        "\r\n",
        "This table is then written out to```(stage2 and stage3)/(Enriched and Published)/learning_analytics/v1.0/general/dim_AssignmentStatus```."
      ],
      "metadata": {
        "nteract": {
          "transient": {
            "deleting": false
          }
        }
      }
    },
    {
      "cell_type": "code",
      "source": [
        "dfInsights_activity = oea.load('stage2/Refined/M365/v1.14/general/activity')"
      ],
      "outputs": [
        {
          "output_type": "display_data",
          "data": {
            "application/vnd.livy.statement-meta+json": {
              "spark_pool": "spark3p2med",
              "session_id": "58",
              "statement_id": 38,
              "state": "finished",
              "livy_statement_state": "available",
              "queued_time": "2023-01-11T18:40:29.1623166Z",
              "session_start_time": null,
              "execution_start_time": "2023-01-11T18:40:29.3216987Z",
              "execution_finish_time": "2023-01-11T18:40:29.4950172Z",
              "spark_jobs": null
            },
            "text/plain": "StatementMeta(spark3p2med, 58, 38, Finished, Available)"
          },
          "metadata": {}
        }
      ],
      "execution_count": 38,
      "metadata": {
        "jupyter": {
          "source_hidden": false,
          "outputs_hidden": false
        },
        "nteract": {
          "transient": {
            "deleting": false
          }
        }
      }
    },
    {
      "cell_type": "code",
      "source": [
        "# build assignment status table, based on the possible assignment actions from the Insights activity table\r\n",
        "dfAssignStatus = dfInsights_activity.select('AppName', 'Action')\r\n",
        "dfAssignStatus = dfAssignStatus.filter(dfAssignStatus['AppName'] == 'Assignments')\r\n",
        "dfAssignStatus = dfAssignStatus.groupBy('Action').count()\r\n",
        "dfAssignStatus = dfAssignStatus.withColumn('AssignmentStatusId', F.when(F.col('Action') == 'Assigned', '1').otherwise(F.when(F.col('Action') == 'Visited', '2').otherwise(F.when(F.col('Action') == 'Submitted', '3').otherwise(F.when(F.col('Action') == 'Returned', '4')))))\r\n",
        "dfAssignStatus = dfAssignStatus.drop('count').withColumnRenamed('Action', 'AssignmentStatus')\r\n",
        "display(dfAssignStatus.limit(10))"
      ],
      "outputs": [
        {
          "output_type": "display_data",
          "data": {
            "application/vnd.livy.statement-meta+json": {
              "spark_pool": "spark3p2med",
              "session_id": "58",
              "statement_id": 39,
              "state": "finished",
              "livy_statement_state": "available",
              "queued_time": "2023-01-11T18:40:33.6720241Z",
              "session_start_time": null,
              "execution_start_time": "2023-01-11T18:40:33.8068213Z",
              "execution_finish_time": "2023-01-11T18:40:34.9406229Z",
              "spark_jobs": null
            },
            "text/plain": "StatementMeta(spark3p2med, 58, 39, Finished, Available)"
          },
          "metadata": {}
        },
        {
          "output_type": "display_data",
          "data": {
            "application/vnd.synapse.widget-view+json": {
              "widget_id": "eae073d2-6fda-4d00-8418-9cc3c6acf63b",
              "widget_type": "Synapse.DataFrame"
            },
            "text/plain": "SynapseWidget(Synapse.DataFrame, eae073d2-6fda-4d00-8418-9cc3c6acf63b)"
          },
          "metadata": {}
        }
      ],
      "execution_count": 39,
      "metadata": {
        "jupyter": {
          "source_hidden": false,
          "outputs_hidden": false
        },
        "nteract": {
          "transient": {
            "deleting": false
          }
        },
        "collapsed": false
      }
    },
    {
      "cell_type": "markdown",
      "source": [
        "### Write to Stage 3"
      ],
      "metadata": {
        "nteract": {
          "transient": {
            "deleting": false
          }
        }
      }
    },
    {
      "cell_type": "code",
      "source": [
        "publish(dfAssignStatus, 'stage2/Enriched/learning_analytics/v1.0/general/dim_AssignmentStatus', 'stage3/Published/learning_analytics/v1.0/general/dim_AssignmentStatus', primary_key='AssignmentStatusId')"
      ],
      "outputs": [
        {
          "output_type": "display_data",
          "data": {
            "application/vnd.livy.statement-meta+json": {
              "spark_pool": "spark3p2med",
              "session_id": "58",
              "statement_id": 40,
              "state": "finished",
              "livy_statement_state": "available",
              "queued_time": "2023-01-11T18:41:57.3351772Z",
              "session_start_time": null,
              "execution_start_time": "2023-01-11T18:41:57.632421Z",
              "execution_finish_time": "2023-01-11T18:42:02.9588647Z",
              "spark_jobs": null
            },
            "text/plain": "StatementMeta(spark3p2med, 58, 40, Finished, Available)"
          },
          "metadata": {}
        },
        {
          "output_type": "stream",
          "name": "stdout",
          "text": [
            "2023-01-11 18:42:02,894 - OEA - INFO - Number of new inbound rows processed: 4\n"
          ]
        },
        {
          "output_type": "execute_result",
          "execution_count": 83,
          "data": {
            "text/plain": "4"
          },
          "metadata": {}
        }
      ],
      "execution_count": 40,
      "metadata": {
        "jupyter": {
          "source_hidden": false,
          "outputs_hidden": false
        },
        "nteract": {
          "transient": {
            "deleting": false
          }
        }
      }
    },
    {
      "cell_type": "markdown",
      "source": [
        "## 9.) Build dim_Assignment Table\r\n",
        "Data aggregations and curation on Insights activity data pertaining to assignments. \r\n",
        "\r\n",
        "This table has one row per assignments from the Insights activity data, with details around the assigned and due dates.\r\n",
        "\r\n",
        "This table is then written out to```(stage2 and stage3)/(Enriched and Published)/learning_analytics/v1.0/general/dim_Assignment```."
      ],
      "metadata": {
        "nteract": {
          "transient": {
            "deleting": false
          }
        }
      }
    },
    {
      "cell_type": "code",
      "source": [
        "dfInsights_activity = oea.load('stage2/Refined/M365/v1.14/general/activity')"
      ],
      "outputs": [],
      "execution_count": null,
      "metadata": {
        "jupyter": {
          "source_hidden": false,
          "outputs_hidden": false
        },
        "nteract": {
          "transient": {
            "deleting": false
          }
        }
      }
    },
    {
      "cell_type": "code",
      "source": [
        "dfAssign = dfInsights_activity.filter(dfInsights_activity['Action'] == 'Assigned')\r\n",
        "dfAssign = dfAssign.groupBy('AssignmentId', 'DueDate', 'StartTime').count()\r\n",
        "dfAssign = dfAssign.drop('count').withColumn('AssignedDate', F.to_date(F.col('StartTime'))).withColumn('DueDate', F.to_date(F.col('DueDate'))).drop('StartTime')\r\n",
        "print('Number of Assignments Recorded:')\r\n",
        "print(dfAssign.count())\r\n",
        "display(dfAssign.limit(10))"
      ],
      "outputs": [],
      "execution_count": null,
      "metadata": {
        "jupyter": {
          "source_hidden": false,
          "outputs_hidden": false
        },
        "nteract": {
          "transient": {
            "deleting": false
          }
        }
      }
    },
    {
      "cell_type": "code",
      "source": [
        "dfTest = dfInsights_activity.groupBy('AssignmentId').count()\r\n",
        "print(dfTest.count())"
      ],
      "outputs": [],
      "execution_count": null,
      "metadata": {
        "jupyter": {
          "source_hidden": false,
          "outputs_hidden": false
        },
        "nteract": {
          "transient": {
            "deleting": false
          }
        }
      }
    },
    {
      "cell_type": "markdown",
      "source": [
        "### Write to Stage 3"
      ],
      "metadata": {
        "nteract": {
          "transient": {
            "deleting": false
          }
        }
      }
    },
    {
      "cell_type": "code",
      "source": [
        "publish(dfAssign, 'stage2/Enriched/learning_analytics/v1.0/general/dim_Assignment', 'stage3/Published/learning_analytics/v1.0/general/dim_Assignment', primary_key='AssignmentId')"
      ],
      "outputs": [],
      "execution_count": null,
      "metadata": {
        "jupyter": {
          "source_hidden": false,
          "outputs_hidden": false
        },
        "nteract": {
          "transient": {
            "deleting": false
          }
        }
      }
    },
    {
      "cell_type": "markdown",
      "source": [
        "## 10.) Build dim_SignalType Table\r\n",
        "\r\n",
        "Data aggregations and curation on Insights activity data pertaining to the various Insights activity SignalTypes. \r\n",
        "\r\n",
        "This table has one row per Insights SignalType from within the Activity data, with details and categorization of the SignalType.\r\n",
        "\r\n",
        "This table is then written out to```(stage2 and stage3)/(Enriched and Published)/learning_analytics/v1.0/general/dim_SignalType```."
      ],
      "metadata": {
        "nteract": {
          "transient": {
            "deleting": false
          }
        }
      }
    },
    {
      "cell_type": "code",
      "source": [
        "dfInsights_activity = oea.load('stage2/Refined/M365/v1.14/general/activity')"
      ],
      "outputs": [
        {
          "output_type": "display_data",
          "data": {
            "application/vnd.livy.statement-meta+json": {
              "spark_pool": "spark3p2med",
              "session_id": "58",
              "statement_id": 41,
              "state": "finished",
              "livy_statement_state": "available",
              "queued_time": "2023-01-11T18:42:07.7943482Z",
              "session_start_time": null,
              "execution_start_time": "2023-01-11T18:42:07.9052063Z",
              "execution_finish_time": "2023-01-11T18:42:08.0679867Z",
              "spark_jobs": null
            },
            "text/plain": "StatementMeta(spark3p2med, 58, 41, Finished, Available)"
          },
          "metadata": {}
        }
      ],
      "execution_count": 41,
      "metadata": {
        "jupyter": {
          "source_hidden": false,
          "outputs_hidden": false
        },
        "nteract": {
          "transient": {
            "deleting": false
          }
        }
      }
    },
    {
      "cell_type": "code",
      "source": [
        "# NOTE: Clean encoding process.\r\n",
        "# build signal type table, based on the possible signal types from the Insights activity table\r\n",
        "dfSignalType = dfInsights_activity.select('SignalType', 'AppName')\r\n",
        "dfSignalType = dfSignalType.groupBy('SignalType').count()\r\n",
        "# create a new column for categorizing the signals\r\n",
        "def SignalCat(SignalType):\r\n",
        "    if SignalType == 'PostChannelMessage':\r\n",
        "        res = 'Messaging'\r\n",
        "    elif SignalType == 'ReplyChannelMessage':\r\n",
        "        res = 'Messaging'\r\n",
        "    elif SignalType == 'VisitTeamChannel':\r\n",
        "        res = 'Messaging'\r\n",
        "    elif SignalType == 'ExpandChannelMessage':\r\n",
        "        res = 'Messaging'\r\n",
        "    elif SignalType == 'ReactedWithEmoji':\r\n",
        "        res = 'Messaging'\r\n",
        "    elif SignalType == 'Like':\r\n",
        "        res = 'Files'\r\n",
        "    elif SignalType == 'Unlike':\r\n",
        "        res = 'Files'\r\n",
        "    elif SignalType == 'FileAccessed':\r\n",
        "        res = 'Files'\r\n",
        "    elif SignalType == 'FileModified':\r\n",
        "        res = 'Files'\r\n",
        "    elif SignalType == 'FileDownloaded':\r\n",
        "        res = 'Files'\r\n",
        "    elif SignalType == 'FileUploaded':\r\n",
        "        res = 'Files'\r\n",
        "    elif SignalType == 'ShareNotificationRequested':\r\n",
        "        res = 'Files'\r\n",
        "    elif SignalType == 'AddedToSharedWithMe':\r\n",
        "        res = 'Files'\r\n",
        "    elif SignalType == 'CommentCreated':\r\n",
        "        res = 'Files'\r\n",
        "    elif SignalType == 'CommentDeleted':\r\n",
        "        res = 'Files'\r\n",
        "    elif SignalType == 'UserAtMentioned':\r\n",
        "        res = 'Files'\r\n",
        "    elif SignalType == 'Reflect':\r\n",
        "        res = 'Reflect'\r\n",
        "    elif SignalType == 'OneNotePageChanged':\r\n",
        "        res = 'Notebook'\r\n",
        "    elif SignalType == 'SubmissionEvent':\r\n",
        "        res = 'Assignments'\r\n",
        "    elif SignalType == 'AssignmentEvent':\r\n",
        "        res = 'Assignments'\r\n",
        "    elif SignalType == 'CallRecordSummarized':\r\n",
        "        res = 'TeamsMeeting'\r\n",
        "    else:\r\n",
        "        res = ''\r\n",
        "    return res\r\n",
        "\r\n",
        "def SignalTypeId(SignalType):\r\n",
        "    if SignalType == 'PostChannelMessage':\r\n",
        "        res = '000001'\r\n",
        "    elif SignalType == 'ReplyChannelMessage':\r\n",
        "        res = '000002'\r\n",
        "    elif SignalType == 'VisitTeamChannel':\r\n",
        "        res = '000003'\r\n",
        "    elif SignalType == 'ExpandChannelMessage':\r\n",
        "        res = '000004'\r\n",
        "    elif SignalType == 'ReactedWithEmoji':\r\n",
        "        res = '000005'\r\n",
        "    elif SignalType == 'Like':\r\n",
        "        res = '000010'\r\n",
        "    elif SignalType == 'Unlike':\r\n",
        "        res = '000011'\r\n",
        "    elif SignalType == 'FileAccessed':\r\n",
        "        res = '000020'\r\n",
        "    elif SignalType == 'FileModified':\r\n",
        "        res = '000021'\r\n",
        "    elif SignalType == 'FileDownloaded':\r\n",
        "        res = '000022'\r\n",
        "    elif SignalType == 'FileUploaded':\r\n",
        "        res = '000023'\r\n",
        "    elif SignalType == 'ShareNotificationRequested':\r\n",
        "        res = '000030'\r\n",
        "    elif SignalType == 'AddedToSharedWithMe':\r\n",
        "        res = '000040'\r\n",
        "    elif SignalType == 'CommentCreated':\r\n",
        "        res = '000050'\r\n",
        "    elif SignalType == 'CommentDeleted':\r\n",
        "        res = '000051'\r\n",
        "    elif SignalType == 'UserAtMentioned':\r\n",
        "        res = '000060'\r\n",
        "    elif SignalType == 'Reflect':\r\n",
        "        res = '000100'\r\n",
        "    elif SignalType == 'OneNotePageChanged':\r\n",
        "        res = '001000'\r\n",
        "    elif SignalType == 'SubmissionEvent':\r\n",
        "        res = '020000'\r\n",
        "    elif SignalType == 'AssignmentEvent':\r\n",
        "        res = '010000'\r\n",
        "    elif SignalType == 'CallRecordSummarized':\r\n",
        "        res = '100000'\r\n",
        "    else:\r\n",
        "        res = ''\r\n",
        "    return res\r\n",
        "# define the function/dataType\r\n",
        "new_f = F.udf(SignalCat, StringType())\r\n",
        "new_f2 = F.udf(SignalTypeId, StringType())\r\n",
        "  \r\n",
        "# add the new column\r\n",
        "dfSignalType = dfSignalType.withColumn(\"SignalCategory\", new_f('SignalType'))\r\n",
        "dfSignalType = dfSignalType.withColumn('SignalTypeId', new_f2('SignalType'))\r\n",
        "dfSignalType = dfSignalType.drop('count')\r\n",
        "display(dfSignalType)"
      ],
      "outputs": [
        {
          "output_type": "display_data",
          "data": {
            "application/vnd.livy.statement-meta+json": {
              "spark_pool": "spark3p2med",
              "session_id": "58",
              "statement_id": 42,
              "state": "finished",
              "livy_statement_state": "available",
              "queued_time": "2023-01-11T18:42:16.6760106Z",
              "session_start_time": null,
              "execution_start_time": "2023-01-11T18:42:16.7989789Z",
              "execution_finish_time": "2023-01-11T18:42:23.6890996Z",
              "spark_jobs": null
            },
            "text/plain": "StatementMeta(spark3p2med, 58, 42, Finished, Available)"
          },
          "metadata": {}
        },
        {
          "output_type": "display_data",
          "data": {
            "application/vnd.synapse.widget-view+json": {
              "widget_id": "27a7502d-cd08-4acc-bb9c-1d34fd86912a",
              "widget_type": "Synapse.DataFrame"
            },
            "text/plain": "SynapseWidget(Synapse.DataFrame, 27a7502d-cd08-4acc-bb9c-1d34fd86912a)"
          },
          "metadata": {}
        }
      ],
      "execution_count": 42,
      "metadata": {
        "jupyter": {
          "source_hidden": false,
          "outputs_hidden": false
        },
        "nteract": {
          "transient": {
            "deleting": false
          }
        },
        "collapsed": false
      }
    },
    {
      "cell_type": "markdown",
      "source": [
        "### Write to Stage 3"
      ],
      "metadata": {
        "nteract": {
          "transient": {
            "deleting": false
          }
        }
      }
    },
    {
      "cell_type": "code",
      "source": [
        "publish(dfSignalType, 'stage2/Enriched/learning_analytics/v1.0/general/dim_SignalType', 'stage3/Published/learning_analytics/v1.0/general/dim_SignalType', primary_key='SignalTypeId')"
      ],
      "outputs": [
        {
          "output_type": "display_data",
          "data": {
            "application/vnd.livy.statement-meta+json": {
              "spark_pool": "spark3p2med",
              "session_id": "58",
              "statement_id": 43,
              "state": "finished",
              "livy_statement_state": "available",
              "queued_time": "2023-01-11T18:43:18.7966597Z",
              "session_start_time": null,
              "execution_start_time": "2023-01-11T18:43:18.9758505Z",
              "execution_finish_time": "2023-01-11T18:43:26.0038249Z",
              "spark_jobs": null
            },
            "text/plain": "StatementMeta(spark3p2med, 58, 43, Finished, Available)"
          },
          "metadata": {}
        },
        {
          "output_type": "stream",
          "name": "stdout",
          "text": [
            "2023-01-11 18:43:24,564 - OEA - INFO - Number of new inbound rows processed: 21\n"
          ]
        },
        {
          "output_type": "execute_result",
          "execution_count": 89,
          "data": {
            "text/plain": "21"
          },
          "metadata": {}
        }
      ],
      "execution_count": 43,
      "metadata": {
        "jupyter": {
          "source_hidden": false,
          "outputs_hidden": false
        },
        "nteract": {
          "transient": {
            "deleting": false
          }
        }
      }
    },
    {
      "cell_type": "markdown",
      "source": [
        "## 11.) Build dim_Date Table\r\n",
        "\r\n",
        "Data aggregations and curation on Insights activity data pertaining to the various dates seen from activity. This table is used in the Power BI data model to connect dates seen tables, for filters in the dashboard.\r\n",
        "\r\n",
        "This table has one row per date seen from the activity data used, with details on that particular date.\r\n",
        "\r\n",
        "This table is then written out to```(stage2 and stage3)/(Enriched and Published)/learning_analytics/v1.0/general/dim_Date```."
      ],
      "metadata": {
        "nteract": {
          "transient": {
            "deleting": false
          }
        }
      }
    },
    {
      "cell_type": "code",
      "source": [
        "dfInsights_activity = oea.load('stage2/Refined/M365/v1.14/general/activity')\r\n",
        "dfInsights_session = oea.load('stage2/Refined/M365/v1.14/general/Session')"
      ],
      "outputs": [
        {
          "output_type": "display_data",
          "data": {
            "application/vnd.livy.statement-meta+json": {
              "spark_pool": "spark3p2med",
              "session_id": "58",
              "statement_id": 44,
              "state": "finished",
              "livy_statement_state": "available",
              "queued_time": "2023-01-11T18:44:13.4349506Z",
              "session_start_time": null,
              "execution_start_time": "2023-01-11T18:44:13.5752226Z",
              "execution_finish_time": "2023-01-11T18:44:13.7307242Z",
              "spark_jobs": null
            },
            "text/plain": "StatementMeta(spark3p2med, 58, 44, Finished, Available)"
          },
          "metadata": {}
        }
      ],
      "execution_count": 44,
      "metadata": {
        "jupyter": {
          "source_hidden": false,
          "outputs_hidden": false
        },
        "nteract": {
          "transient": {
            "deleting": false
          }
        }
      }
    },
    {
      "cell_type": "code",
      "source": [
        "# NOTE: Double-check that all columns are relevant and used in the dashboard.\r\n",
        "# extract dates to create Date table from Insights activity data\r\n",
        "dfDate = dfInsights_activity.select('StartTime')\r\n",
        "dfDate = dfDate.withColumn('Date', F.to_date(F.col('StartTime')))\r\n",
        "dfDate = dfDate.groupBy('Date').count()\r\n",
        "dfDate = dfDate.orderBy('Date')\r\n",
        "dfDate = dfDate.drop('count').withColumn('Year', F.year(F.col('Date'))).withColumn('Month', F.month(F.col('Date')))\r\n",
        "# extract the start date of the school year from the Insights Session table; in this case filter the table to get the start date of the school year\r\n",
        "list_of_schoolStartDate = dfInsights_session.filter(dfInsights_session['Name'] == '2021-2022').select('StartDate').collect()\r\n",
        "dfDate = dfDate.withColumn('SchoolYearStartDate', F.lit(list_of_schoolStartDate[0][0]))\r\n",
        "dfDate = dfDate.withColumn('SchoolYearStartDate', F.to_date(F.col('SchoolYearStartDate')))\r\n",
        "# calculate the number of months between activity date and the start date of the school year - then add 1 month of the floor to get the month of the school year\r\n",
        "dfDate = dfDate.withColumn('MonthOfSchoolYear', F.months_between(F.col('Date'), F.col('SchoolYearStartDate')))\r\n",
        "dfDate = dfDate.withColumn('MonthOfSchoolYear', F.floor(F.col('MonthOfSchoolYear'))).withColumn('MonthOfSchoolYear', F.col('MonthOfSchoolYear') + 1)\r\n",
        "# calculate the number of days between date and start of school year - then take the floor of the number of weeks (add 1 week) to get the week number of the school year\r\n",
        "dfDate = dfDate.withColumn('WeekOfSchoolYear', F.datediff(F.col('Date'), F.col('SchoolYearStartDate'))/7)\r\n",
        "dfDate = dfDate.withColumn('WeekOfSchoolYear', F.floor(F.col('WeekOfSchoolYear'))).withColumn('WeekOfSchoolYear', F.col('WeekOfSchoolYear') + 1)\r\n",
        "display(dfDate.limit(10))"
      ],
      "outputs": [
        {
          "output_type": "display_data",
          "data": {
            "application/vnd.livy.statement-meta+json": {
              "spark_pool": "spark3p2med",
              "session_id": "58",
              "statement_id": 45,
              "state": "finished",
              "livy_statement_state": "available",
              "queued_time": "2023-01-11T18:44:18.2322449Z",
              "session_start_time": null,
              "execution_start_time": "2023-01-11T18:44:18.3630636Z",
              "execution_finish_time": "2023-01-11T18:44:20.1895561Z",
              "spark_jobs": null
            },
            "text/plain": "StatementMeta(spark3p2med, 58, 45, Finished, Available)"
          },
          "metadata": {}
        },
        {
          "output_type": "display_data",
          "data": {
            "application/vnd.synapse.widget-view+json": {
              "widget_id": "04f636ed-316a-4a5e-a5d7-c9b4a4433db7",
              "widget_type": "Synapse.DataFrame"
            },
            "text/plain": "SynapseWidget(Synapse.DataFrame, 04f636ed-316a-4a5e-a5d7-c9b4a4433db7)"
          },
          "metadata": {}
        }
      ],
      "execution_count": 45,
      "metadata": {
        "jupyter": {
          "source_hidden": false,
          "outputs_hidden": false
        },
        "nteract": {
          "transient": {
            "deleting": false
          }
        },
        "collapsed": false
      }
    },
    {
      "cell_type": "code",
      "source": [
        "# find the start date of the semester\r\n",
        "list_of_semesterStartDate = dfInsights_session.filter(dfInsights_session['Name'] == 'Spring2022').select('StartDate').collect()\r\n",
        "dfDate = dfDate.withColumn('SemesterStartDate', F.lit(list_of_semesterStartDate[0][0]))\r\n",
        "# calculate the number of months between activity date and the start date of the semester - then add 1 month of the floor to get the month of the semester\r\n",
        "dfDate = dfDate.withColumn('MonthOfSemester', F.months_between(F.col('Date'), F.col('SemesterStartDate')))\r\n",
        "dfDate = dfDate.withColumn('MonthOfSemester', F.floor(F.col('MonthOfSemester'))).withColumn('MonthOfSemester', F.col('MonthOfSemester') + 1)\r\n",
        "# calculate the number of days between date and start of semester - then take the floor of the number of weeks (add 1 week) to get the week number of the semester\r\n",
        "dfDate = dfDate.withColumn('WeekOfSemester', F.datediff(F.col('Date'), F.col('SemesterStartDate'))/7)\r\n",
        "dfDate = dfDate.withColumn('WeekOfSemester', F.floor(F.col('WeekOfSemester'))).withColumn('WeekOfSemester', F.col('WeekOfSemester') + 1)\r\n",
        "display(dfDate.limit(10))"
      ],
      "outputs": [
        {
          "output_type": "display_data",
          "data": {
            "application/vnd.livy.statement-meta+json": {
              "spark_pool": "spark3p2med",
              "session_id": "58",
              "statement_id": 46,
              "state": "finished",
              "livy_statement_state": "available",
              "queued_time": "2023-01-11T18:44:24.2224245Z",
              "session_start_time": null,
              "execution_start_time": "2023-01-11T18:44:24.355021Z",
              "execution_finish_time": "2023-01-11T18:44:26.1779532Z",
              "spark_jobs": null
            },
            "text/plain": "StatementMeta(spark3p2med, 58, 46, Finished, Available)"
          },
          "metadata": {}
        },
        {
          "output_type": "display_data",
          "data": {
            "application/vnd.synapse.widget-view+json": {
              "widget_id": "da904f7c-2d2f-462e-9a1b-8b4c72817a41",
              "widget_type": "Synapse.DataFrame"
            },
            "text/plain": "SynapseWidget(Synapse.DataFrame, da904f7c-2d2f-462e-9a1b-8b4c72817a41)"
          },
          "metadata": {}
        }
      ],
      "execution_count": 46,
      "metadata": {
        "jupyter": {
          "source_hidden": false,
          "outputs_hidden": false
        },
        "nteract": {
          "transient": {
            "deleting": false
          }
        },
        "collapsed": false
      }
    },
    {
      "cell_type": "markdown",
      "source": [
        "### Write to Stage 3"
      ],
      "metadata": {
        "nteract": {
          "transient": {
            "deleting": false
          }
        }
      }
    },
    {
      "cell_type": "code",
      "source": [
        "publish(dfDate, 'stage2/Enriched/learning_analytics/v1.0/general/dim_Date', 'stage3/Published/learning_analytics/v1.0/general/dim_Date', primary_key='Date')"
      ],
      "outputs": [
        {
          "output_type": "display_data",
          "data": {
            "application/vnd.livy.statement-meta+json": {
              "spark_pool": "spark3p2med",
              "session_id": "58",
              "statement_id": 47,
              "state": "finished",
              "livy_statement_state": "available",
              "queued_time": "2023-01-11T18:45:31.8228336Z",
              "session_start_time": null,
              "execution_start_time": "2023-01-11T18:45:31.9393446Z",
              "execution_finish_time": "2023-01-11T18:45:38.8472943Z",
              "spark_jobs": null
            },
            "text/plain": "StatementMeta(spark3p2med, 58, 47, Finished, Available)"
          },
          "metadata": {}
        },
        {
          "output_type": "stream",
          "name": "stdout",
          "text": [
            "2023-01-11 18:45:37,705 - OEA - INFO - Number of new inbound rows processed: 34\n"
          ]
        },
        {
          "output_type": "execute_result",
          "execution_count": 97,
          "data": {
            "text/plain": "34"
          },
          "metadata": {}
        }
      ],
      "execution_count": 47,
      "metadata": {
        "jupyter": {
          "source_hidden": false,
          "outputs_hidden": false
        },
        "nteract": {
          "transient": {
            "deleting": false
          }
        }
      }
    }
  ],
  "metadata": {
    "kernelspec": {
      "name": "synapse_pyspark",
      "display_name": "Synapse PySpark"
    },
    "language_info": {
      "name": "python"
    },
    "description": null,
    "save_output": true,
    "synapse_widget": {
      "version": "0.1",
      "state": {
        "389813b4-c8d4-4382-bdea-a2690818eedc": {
          "type": "Synapse.DataFrame",
          "sync_state": {
            "table": {
              "rows": [
                {
                  "0": "69a08bfa71baf240cf8436cc4a3ceec7b6779d329707aa132f36cdc8f95cb212",
                  "1": "*",
                  "2": "*",
                  "3": "*",
                  "4": "undergraduate",
                  "5": "869898962820c03120a556abfae160d66e6cd69054ad57297647b25129b43a23",
                  "6": "4/29/2005",
                  "7": "Baltimore",
                  "8": "MD"
                },
                {
                  "0": "1d4060879ab0b658644f14271aded9f5e0ee0a1a76b5f90607ac4a524019d484",
                  "1": "*",
                  "2": "*",
                  "3": "*",
                  "4": "undergraduate",
                  "5": "665244d494f937f9aadcbc94f70c834ae0847b6e5687790b1ac7f44670d19401",
                  "6": "9/6/2003",
                  "7": "San Marcos",
                  "8": "TX"
                },
                {
                  "0": "a20d932bf51c2527af0f9bb00a413a94484907119e15e9b838d16fd35304fc0b",
                  "1": "*",
                  "2": "*",
                  "3": "*",
                  "4": "undergraduate",
                  "5": "7f49e59abcc02c1fbf48d2b955bbc69d76845614ee93c0cf261556e3bb859871",
                  "6": "12/4/2002",
                  "7": "Saginaw",
                  "8": "MI"
                },
                {
                  "0": "4c8a36881cccc9f1fae4872aca29e85d97cd68ffff5ff568d15654b50b181545",
                  "1": "*",
                  "2": "*",
                  "3": "*",
                  "4": "undergraduate",
                  "5": "a7dec7b57283bbd7a72ae9846e43f00bd7e31cb854b0448ce6fb094b92e23c8a",
                  "6": "12/23/2005",
                  "7": "Kansas City",
                  "8": "MO"
                },
                {
                  "0": "525a9ce10c0713ed37ae550c3e05f1fbb9dacd806254130981503b7494ecaeed",
                  "1": "*",
                  "2": "*",
                  "3": "*",
                  "4": "undergraduate",
                  "5": "470154c1c9c4112cfeb187e2611de843aed4d46bb3cb11467847727aad993776",
                  "6": "4/20/2004",
                  "7": "Los Angeles",
                  "8": "CA"
                },
                {
                  "0": "af4237829772c82ea46a58a710b59399407bcb3ccd2893140f316449832ce52e",
                  "1": "*",
                  "2": "*",
                  "3": "*",
                  "4": "undergraduate",
                  "5": "0c244566694720887f54983d9395bcfbfebe57df978c4c91e68131c30ffb2c91",
                  "6": "7/15/2006",
                  "7": "Milwaukee",
                  "8": "WI"
                },
                {
                  "0": "e029ad413d20ce28d0901cfd0fa8719951ee0fa7697ca85896f0f060a4e2d015",
                  "1": "*",
                  "2": "*",
                  "3": "*",
                  "4": "undergraduate",
                  "5": "6fd07f3f5666e9d90d335bdb184e2b07297431a9130da5da4f28a614350fcb13",
                  "6": "10/3/2004",
                  "7": "Philadelphia",
                  "8": "PA"
                },
                {
                  "0": "92782f93b6584b7a04e0ee5aa76d5fe6126aa6f5fa42a5914c675dccdc5c50b3",
                  "1": "*",
                  "2": "*",
                  "3": "*",
                  "4": "undergraduate",
                  "5": "cb58c5adac2b3dc7f724a875ed079cee30c118d951437ad5cf9468002c0b353a",
                  "6": "11/13/1999",
                  "7": "Seattle",
                  "8": "WA"
                },
                {
                  "0": "1b90ab56e45d92e23c412e1ccd4545f5b6a88782f56b8e1447f3033a2bc0a54a",
                  "1": "*",
                  "2": "*",
                  "3": "*",
                  "4": "undergraduate",
                  "5": "2e46cd9a0a6c125bf7fe00c62925637fcd65059a7e27a79b837be0a17c1c5006",
                  "6": "1/1/2007",
                  "7": "West Palm Beach",
                  "8": "FL"
                },
                {
                  "0": "9dcf883ed6783e6bf5bb20b83a33325d24e5f83bf42efe1de04482c248248a24",
                  "1": "*",
                  "2": "*",
                  "3": "*",
                  "4": "undergraduate",
                  "5": "6bcd9ebdf98a0e77503137ac26885b4979e1919879aba2c8bc9aa6dd3b7ab584",
                  "6": "4/15/2004",
                  "7": "Crater Lake",
                  "8": "OR"
                }
              ],
              "schema": [
                {
                  "key": "0",
                  "name": "StudentId_pseudonym",
                  "type": "string"
                },
                {
                  "key": "1",
                  "name": "Surname",
                  "type": "string"
                },
                {
                  "key": "2",
                  "name": "GivenName",
                  "type": "string"
                },
                {
                  "key": "3",
                  "name": "MiddleName",
                  "type": "string"
                },
                {
                  "key": "4",
                  "name": "StudentGrade",
                  "type": "string"
                },
                {
                  "key": "5",
                  "name": "UserPrincipalName_pseudonym",
                  "type": "string"
                },
                {
                  "key": "6",
                  "name": "BirthDate",
                  "type": "string"
                },
                {
                  "key": "7",
                  "name": "BirthCity",
                  "type": "string"
                },
                {
                  "key": "8",
                  "name": "BirthState",
                  "type": "string"
                }
              ],
              "truncated": false
            },
            "isSummary": false,
            "language": "scala"
          },
          "persist_state": {
            "view": {
              "type": "details",
              "tableOptions": {},
              "chartOptions": {
                "chartType": "bar",
                "aggregationType": "count",
                "categoryFieldKeys": [
                  "0"
                ],
                "seriesFieldKeys": [
                  "0"
                ],
                "isStacked": false
              }
            }
          }
        },
        "9e25ee00-da5a-4a46-97de-0abfeab26a03": {
          "type": "Synapse.DataFrame",
          "sync_state": {
            "table": {
              "rows": [
                {
                  "0": "66ff6a5695d3d479443cf2beb3f79d2556aa616b2bb272fb90f956d1bdbf03e7",
                  "1": "05011c85-7378-4263-b761-c379983bd5c3",
                  "2": "Nault",
                  "3": "Mana",
                  "4": "J",
                  "5": "8dc7f1df43feb5bd8e66a2b978b3c103b0a596534435cb9f64d223ab61dfd874",
                  "6": "Mana Nault"
                },
                {
                  "0": "a6823b199f348d1d295850c09aee7960bfaa858d060679bd53354a96b954185e",
                  "1": "4028d23c-ce7c-4fdc-8bb6-18a85c2a09ec",
                  "2": "Avila",
                  "3": "Jason",
                  "4": "L",
                  "5": "0aa055e938184c19f11746d32468ef312a5ec87d15a194c84c5a7bfd84a301c1",
                  "6": "Jason Avila"
                },
                {
                  "0": "a46b14115b45c59a5b5f87869e69baedd045d621c683208560d3ffb2e4b5afa7",
                  "1": "35150b61-0982-4508-a33d-fd906e5436c5",
                  "2": "Hatcher",
                  "3": "Alyse",
                  "4": "D",
                  "5": "261e4a0e142f589f340a7b77e2a4bcab70a8c52fa37fdec3f65ef8784a7e5deb",
                  "6": "Alyse Hatcher"
                },
                {
                  "0": "87c092b4e82c685d0c9f9120a386fd5dae96aeff0b86a9953b1d8f8152e74596",
                  "1": "7ee0591f-b9a6-4593-a277-f1815231038a",
                  "2": "Gray",
                  "3": "Miriam",
                  "4": "E",
                  "5": "53ff454b17fff59a5e0ebabfc67ddf1b61700b12226e87ea433d8dab835775ce",
                  "6": "Miriam Gray"
                },
                {
                  "0": "121d027111c84f72930bc7465edfc318caa58d291e2552d62fddaa54935865ee",
                  "1": "4de18761-39c3-4a56-8728-2c96ff48dc7d",
                  "2": "Duncan",
                  "3": "Dennis",
                  "4": "A",
                  "5": "39e9596c6030c2a9bafbbc885b8568c6197c015e234cb103570d07ec7dce9284",
                  "6": "Dennis Duncan"
                },
                {
                  "0": "3e57a1b22ecbaf94ee05899066d338b5a7146038a4b3a30e88fa98377e447078",
                  "1": "1e385868-9b50-4708-9fe3-50c02b9cc808",
                  "2": "Denman",
                  "3": "Rebecca",
                  "4": "L",
                  "5": "4673ceb4cb2469104efbbdf8ef11a443d42b76028d78f00c5d38894c41789e75",
                  "6": "Rebecca Denman"
                },
                {
                  "0": "5ddd3855db31b844095c68e2e137d6307d0feeceff7ea4e1399877c2fd406515",
                  "1": "52af5307-cf82-46b6-b76d-0c8b1d4ffdb3",
                  "2": "Kinard",
                  "3": "Harold",
                  "4": "J",
                  "5": "66b3854554706177132b240e8ec8388c02a6f78113b1616e0e14e43b93aefaa0",
                  "6": "Harold Kinard"
                },
                {
                  "0": "f107df5d700f19c16fdc559755a63727ce9ab064236ba2c17b9a5b8e01d527bf",
                  "1": "8a40f25e-0ff8-4d7a-b068-431cefc17cf8",
                  "2": "Childs",
                  "3": "David",
                  "4": "L",
                  "5": "4d9ef2129d9e56b2ff3866838100ef0bf6441f4392b73a5f7d334cfc89060fd5",
                  "6": "David Childs"
                },
                {
                  "0": "8331a6af7632c6c8be966697863e2305bcc922aaa1eeeb61d2573af7193b3dc6",
                  "1": "30d2b13e-7dfe-4d28-be46-9f0c1988dd8f",
                  "2": "Woodhouse",
                  "3": "Frederick",
                  "4": "A",
                  "5": "76b300bd23d5f52e4c7b7e7b06333dbb5f13747ea7398ed742020938092fa846",
                  "6": "Frederick Woodhouse"
                },
                {
                  "0": "388ef2b33179b387dc8721b23242de7908359a33c180f73f17c307d560fe82e7",
                  "1": "077fd517-0b19-444a-b08a-5aaf0e928d4c",
                  "2": "Cox",
                  "3": "David",
                  "4": "I",
                  "5": "a1e9b544de078b008b82f863373fc732d76b68396ccf3783a66e7937704321c8",
                  "6": "David Cox"
                }
              ],
              "schema": [
                {
                  "key": "0",
                  "name": "StudentId_pseudonym",
                  "type": "string"
                },
                {
                  "key": "1",
                  "name": "StudentId",
                  "type": "string"
                },
                {
                  "key": "2",
                  "name": "Surname",
                  "type": "string"
                },
                {
                  "key": "3",
                  "name": "GivenName",
                  "type": "string"
                },
                {
                  "key": "4",
                  "name": "MiddleName",
                  "type": "string"
                },
                {
                  "key": "5",
                  "name": "UserPrincipalName_pseudonym",
                  "type": "string"
                },
                {
                  "key": "6",
                  "name": "UserPrincipalName",
                  "type": "string"
                }
              ],
              "truncated": false
            },
            "isSummary": false,
            "language": "scala"
          },
          "persist_state": {
            "view": {
              "type": "details",
              "tableOptions": {},
              "chartOptions": {
                "chartType": "bar",
                "aggregationType": "count",
                "categoryFieldKeys": [
                  "0"
                ],
                "seriesFieldKeys": [
                  "0"
                ],
                "isStacked": false
              }
            }
          }
        },
        "b098aa1a-8ec1-4b5a-bc07-9b2afa12f79d": {
          "type": "Synapse.DataFrame",
          "sync_state": {
            "table": {
              "rows": [
                {
                  "0": "6ce06102dd996e02ac093d17b596934622cf355d33cbbdaa36148b616acc8701",
                  "1": "6ce06102dd996e02ac093d17b596934622cf355d33cbbdaa36148b616acc8701",
                  "2": "Professor",
                  "3": "Bruce Mitchell",
                  "4": "2"
                },
                {
                  "0": "29c146befe96eec3c5b78f8b4a7f58de9bda3e3ba516135bb2af523288611471",
                  "1": "29c146befe96eec3c5b78f8b4a7f58de9bda3e3ba516135bb2af523288611471",
                  "2": "Professor",
                  "3": "Mariah Romero",
                  "4": "2"
                },
                {
                  "0": "381de63afe3ddd50fc79be3b06a5301f21e5f6c48817e15ffc5f87d906f87288",
                  "1": "381de63afe3ddd50fc79be3b06a5301f21e5f6c48817e15ffc5f87d906f87288",
                  "2": "Professor",
                  "3": "John Morrow",
                  "4": "3"
                },
                {
                  "0": "66dc31eaa6dc8735825ddb4da56ba29429976f0cdcedcfa677ec0f9d581a2213",
                  "1": "66dc31eaa6dc8735825ddb4da56ba29429976f0cdcedcfa677ec0f9d581a2213",
                  "2": "Professor",
                  "3": "Christopher Young",
                  "4": "2"
                },
                {
                  "0": "4656218aa54e1db98f86500e6871b65ed9cc914b288ef5f72a1ae9a1ff3379e2",
                  "1": "4656218aa54e1db98f86500e6871b65ed9cc914b288ef5f72a1ae9a1ff3379e2",
                  "2": "Professor",
                  "3": "Stephen Koch",
                  "4": "2"
                },
                {
                  "0": "c4b3b82f364f94c4d47b93437c709ff3ae36416e088ebdee2a3030140ea3b311",
                  "1": "c4b3b82f364f94c4d47b93437c709ff3ae36416e088ebdee2a3030140ea3b311",
                  "2": "Professor",
                  "3": "Meghan Fitzgerald",
                  "4": "3"
                },
                {
                  "0": "2bb69c5478efd3af0da43c704805b7848ba1cfd154b1292a5de5a5aadcc0887f",
                  "1": "2bb69c5478efd3af0da43c704805b7848ba1cfd154b1292a5de5a5aadcc0887f",
                  "2": "Professor",
                  "3": "Michael Knight",
                  "4": "1"
                },
                {
                  "0": "36e352a07ee6459ebaffd121f3eb14dbe222429354754e87c218a89c397d9ba1",
                  "1": "36e352a07ee6459ebaffd121f3eb14dbe222429354754e87c218a89c397d9ba1",
                  "2": "Professor",
                  "3": "Julie Dunlap",
                  "4": "1"
                },
                {
                  "0": "a03e79e3a0618da3ff07ec8241dcc50d807d81684e0d783c520f70688260140a",
                  "1": "a03e79e3a0618da3ff07ec8241dcc50d807d81684e0d783c520f70688260140a",
                  "2": "Professor",
                  "3": "John Ferrell",
                  "4": "1"
                },
                {
                  "0": "0d6235580ba0014a25ad449846241699e03233d60389a04c8560de4f7daf5a7a",
                  "1": "0d6235580ba0014a25ad449846241699e03233d60389a04c8560de4f7daf5a7a",
                  "2": "Professor",
                  "3": "Michael Weaver",
                  "4": "3"
                }
              ],
              "schema": [
                {
                  "key": "0",
                  "name": "InstructorId_external_pseudonym",
                  "type": "string"
                },
                {
                  "key": "1",
                  "name": "InstructorId_internal_pseudonym",
                  "type": "string"
                },
                {
                  "key": "2",
                  "name": "InstructorRole",
                  "type": "string"
                },
                {
                  "key": "3",
                  "name": "InstructorName",
                  "type": "string"
                },
                {
                  "key": "4",
                  "name": "NumSectionsCurrentlyInstructed",
                  "type": "bigint"
                }
              ],
              "truncated": false
            },
            "isSummary": false,
            "language": "scala"
          },
          "persist_state": {
            "view": {
              "type": "details",
              "tableOptions": {},
              "chartOptions": {
                "chartType": "bar",
                "aggregationType": "sum",
                "categoryFieldKeys": [
                  "0"
                ],
                "seriesFieldKeys": [
                  "4"
                ],
                "isStacked": false
              }
            }
          }
        },
        "50982658-a53f-46c3-a681-b25810a23887": {
          "type": "Synapse.DataFrame",
          "sync_state": {
            "table": {
              "rows": [
                {
                  "0": "6ce06102dd996e02ac093d17b596934622cf355d33cbbdaa36148b616acc8701",
                  "1": "Bruce Mitchell"
                },
                {
                  "0": "29c146befe96eec3c5b78f8b4a7f58de9bda3e3ba516135bb2af523288611471",
                  "1": "Mariah Romero"
                },
                {
                  "0": "381de63afe3ddd50fc79be3b06a5301f21e5f6c48817e15ffc5f87d906f87288",
                  "1": "John Morrow"
                },
                {
                  "0": "66dc31eaa6dc8735825ddb4da56ba29429976f0cdcedcfa677ec0f9d581a2213",
                  "1": "Christopher Young"
                },
                {
                  "0": "4656218aa54e1db98f86500e6871b65ed9cc914b288ef5f72a1ae9a1ff3379e2",
                  "1": "Stephen Koch"
                },
                {
                  "0": "2bb69c5478efd3af0da43c704805b7848ba1cfd154b1292a5de5a5aadcc0887f",
                  "1": "Michael Knight"
                },
                {
                  "0": "c4b3b82f364f94c4d47b93437c709ff3ae36416e088ebdee2a3030140ea3b311",
                  "1": "Meghan Fitzgerald"
                },
                {
                  "0": "36e352a07ee6459ebaffd121f3eb14dbe222429354754e87c218a89c397d9ba1",
                  "1": "Julie Dunlap"
                },
                {
                  "0": "a03e79e3a0618da3ff07ec8241dcc50d807d81684e0d783c520f70688260140a",
                  "1": "John Ferrell"
                },
                {
                  "0": "0d6235580ba0014a25ad449846241699e03233d60389a04c8560de4f7daf5a7a",
                  "1": "Michael Weaver"
                }
              ],
              "schema": [
                {
                  "key": "0",
                  "name": "InstructorId_pseudonym",
                  "type": "string"
                },
                {
                  "key": "1",
                  "name": "InstructorName",
                  "type": "string"
                }
              ],
              "truncated": false
            },
            "isSummary": false,
            "language": "scala"
          },
          "persist_state": {
            "view": {
              "type": "details",
              "tableOptions": {},
              "chartOptions": {
                "chartType": "bar",
                "aggregationType": "count",
                "categoryFieldKeys": [
                  "0"
                ],
                "seriesFieldKeys": [
                  "0"
                ],
                "isStacked": false
              }
            }
          }
        },
        "31bbb1f5-8bd1-4135-abc9-f81c87a083e6": {
          "type": "Synapse.DataFrame",
          "sync_state": {
            "table": {
              "rows": [
                {
                  "0": "4394AC06CD484BCF97BA17DE0076B2A2",
                  "1": "Entrepreneurship",
                  "2": "ccab9558b74d44cdcd77fc715ea17ee69da11505de7785544af970e6f3c5ea8c",
                  "3": "40"
                },
                {
                  "0": "CBA6D54FF6F347B4B0676331FD87295C",
                  "1": "Intro to Transient Analysis",
                  "2": "381de63afe3ddd50fc79be3b06a5301f21e5f6c48817e15ffc5f87d906f87288",
                  "3": "38"
                },
                {
                  "0": "2234ACFD1FE44510B19607B1D31AD714",
                  "1": "Teaching Social Studies",
                  "2": "09f197d24cc2133e0ebd32b15f7ee81340fe73e9eefae6a10751a315a331f5c9",
                  "3": "45"
                },
                {
                  "0": "518053972F9E417990607B6F95279906",
                  "1": "World Art",
                  "2": "2152c51cf37f9a4685aa58fcf25226ee51fffec2830ff3d5dee977a8cd617cac",
                  "3": "41"
                },
                {
                  "0": "FCAE13D8ADD94DB8B1BD65E4607B7DE0",
                  "1": "Intro to Metalsmithing",
                  "2": "18abab7eaac0f429f2cf2afa8ad56f8dc75ccf06d6b53586307e9f3259b578c2",
                  "3": "42"
                },
                {
                  "0": "66D505FBFEC5477684B7DFE66323C8CB",
                  "1": "Computer Architecture",
                  "2": "66dc31eaa6dc8735825ddb4da56ba29429976f0cdcedcfa677ec0f9d581a2213",
                  "3": "29"
                },
                {
                  "0": "D496C7CA2D9F48488AC516ADE41E839D",
                  "1": "Literacy Methods",
                  "2": "09f197d24cc2133e0ebd32b15f7ee81340fe73e9eefae6a10751a315a331f5c9",
                  "3": "52"
                },
                {
                  "0": "78E67CD474B7442A8DA5297A09A558D8",
                  "1": "Creative Arts and Play",
                  "2": "756dfbd4083b98214b762ead80df4f87b58acb7d03720630275aba027b4dfdaf",
                  "3": "58"
                },
                {
                  "0": "C6BFFB2D75F5425EAA743F666C89702B",
                  "1": "Leadership and Team Development",
                  "2": "8e378fde50237859a39c2ff3ff99b9fafac22b1da68f6a90bf44cb7e86b54efd",
                  "3": "38"
                },
                {
                  "0": "8F93CDB9FB7740899247AE8EE1B647AE",
                  "1": "International Management",
                  "2": "0de45dc1efd4f04c39427a519b5a4bae976fc4623c4f6d11f137eb36d3033f1f",
                  "3": "39"
                }
              ],
              "schema": [
                {
                  "key": "0",
                  "name": "SectionId",
                  "type": "string"
                },
                {
                  "key": "1",
                  "name": "SectionName",
                  "type": "string"
                },
                {
                  "key": "2",
                  "name": "InstructorId_external_pseudonym",
                  "type": "string"
                },
                {
                  "key": "3",
                  "name": "NumStudentsEnrolledInSection",
                  "type": "bigint"
                }
              ],
              "truncated": false
            },
            "isSummary": false,
            "language": "scala"
          },
          "persist_state": {
            "view": {
              "type": "details",
              "tableOptions": {},
              "chartOptions": {
                "chartType": "bar",
                "aggregationType": "sum",
                "categoryFieldKeys": [
                  "0"
                ],
                "seriesFieldKeys": [
                  "3"
                ],
                "isStacked": false
              }
            }
          }
        },
        "982736f4-7e65-4989-b373-d870ab4fc78e": {
          "type": "Synapse.DataFrame",
          "sync_state": {
            "table": {
              "rows": [
                {
                  "0": "4394AC06CD484BCF97BA17DE0076B2A2",
                  "1": "Entrepreneurship",
                  "2": "2022-01-01",
                  "3": "2022-06-03",
                  "4": "Spring2022"
                },
                {
                  "0": "CBA6D54FF6F347B4B0676331FD87295C",
                  "1": "Intro to Transient Analysis",
                  "2": "2022-01-01",
                  "3": "2022-06-03",
                  "4": "Spring2022"
                },
                {
                  "0": "2234ACFD1FE44510B19607B1D31AD714",
                  "1": "Teaching Social Studies",
                  "2": "2022-01-01",
                  "3": "2022-06-03",
                  "4": "Spring2022"
                },
                {
                  "0": "518053972F9E417990607B6F95279906",
                  "1": "World Art",
                  "2": "2022-01-01",
                  "3": "2022-06-03",
                  "4": "Spring2022"
                },
                {
                  "0": "FCAE13D8ADD94DB8B1BD65E4607B7DE0",
                  "1": "Intro to Metalsmithing",
                  "2": "2022-01-01",
                  "3": "2022-06-03",
                  "4": "Spring2022"
                },
                {
                  "0": "66D505FBFEC5477684B7DFE66323C8CB",
                  "1": "Computer Architecture",
                  "2": "2022-01-01",
                  "3": "2022-06-03",
                  "4": "Spring2022"
                },
                {
                  "0": "D496C7CA2D9F48488AC516ADE41E839D",
                  "1": "Literacy Methods",
                  "2": "2022-01-01",
                  "3": "2022-06-03",
                  "4": "Spring2022"
                },
                {
                  "0": "78E67CD474B7442A8DA5297A09A558D8",
                  "1": "Creative Arts and Play",
                  "2": "2022-01-01",
                  "3": "2022-06-03",
                  "4": "Spring2022"
                },
                {
                  "0": "C6BFFB2D75F5425EAA743F666C89702B",
                  "1": "Leadership and Team Development",
                  "2": "2022-01-01",
                  "3": "2022-06-03",
                  "4": "Spring2022"
                },
                {
                  "0": "8F93CDB9FB7740899247AE8EE1B647AE",
                  "1": "International Management",
                  "2": "2022-01-01",
                  "3": "2022-06-03",
                  "4": "Spring2022"
                }
              ],
              "schema": [
                {
                  "key": "0",
                  "name": "SectionId",
                  "type": "string"
                },
                {
                  "key": "1",
                  "name": "SectionName",
                  "type": "string"
                },
                {
                  "key": "2",
                  "name": "SectionStartDate",
                  "type": "date"
                },
                {
                  "key": "3",
                  "name": "SectionEndDate",
                  "type": "date"
                },
                {
                  "key": "4",
                  "name": "CalendarCycle",
                  "type": "string"
                }
              ],
              "truncated": false
            },
            "isSummary": false,
            "language": "scala"
          },
          "persist_state": {
            "view": {
              "type": "details",
              "tableOptions": {},
              "chartOptions": {
                "chartType": "bar",
                "aggregationType": "count",
                "categoryFieldKeys": [
                  "0"
                ],
                "seriesFieldKeys": [
                  "0"
                ],
                "isStacked": false
              }
            }
          }
        },
        "f02f70c3-f58f-4b11-b22c-e7fb58d51137": {
          "type": "Synapse.DataFrame",
          "sync_state": {
            "table": {
              "rows": [
                {
                  "0": "e2862679-9971-4829-8656-f838a1837eb2",
                  "1": "Digital Logic",
                  "2": "Engineering and Technology"
                },
                {
                  "0": "6b18f6bc-8791-469f-b1c8-d638f48e1d14",
                  "1": "Intro to Early Childhood Education",
                  "2": "Non-Subject-Specific"
                },
                {
                  "0": "e046d0c6-f6b7-4995-a053-2a2d1d19e589",
                  "1": "Human Resource Management",
                  "2": "Business and Marketing"
                },
                {
                  "0": "64daeeb7-c5f0-4307-b352-473b8076540e",
                  "1": "School Family and Community Partnerships",
                  "2": "Non-Subject-Specific"
                },
                {
                  "0": "5f5bdd2d-4cd0-4ffc-bccd-621b9d7ef359",
                  "1": "Documentary Strategies",
                  "2": "Visual and Performing Arts"
                },
                {
                  "0": "a361f18d-055d-47ba-af57-58f9c4554eec",
                  "1": "Organizational Behavior",
                  "2": "Business and Marketing"
                },
                {
                  "0": "9b62beda-7d06-45cb-bfa8-f4de1d7a8b84",
                  "1": "Engineering Project Management",
                  "2": "Engineering and Technology"
                },
                {
                  "0": "09943b96-9943-4bf9-a8de-259fed54c20e",
                  "1": "Compensation and Benefits Admin",
                  "2": "Business and Marketing"
                },
                {
                  "0": "9e5279b5-33d7-4fdb-bac2-c53785d93ab4",
                  "1": "Production and Operations Management",
                  "2": "Business and Marketing"
                },
                {
                  "0": "6603a758-5121-48de-b415-39f19079dc84",
                  "1": "Advanced Computer Architecture",
                  "2": "Engineering and Technology"
                }
              ],
              "schema": [
                {
                  "key": "0",
                  "name": "CourseId",
                  "type": "string"
                },
                {
                  "key": "1",
                  "name": "CourseName",
                  "type": "string"
                },
                {
                  "key": "2",
                  "name": "CourseGradeLevel",
                  "type": "string"
                }
              ],
              "truncated": false
            },
            "isSummary": false,
            "language": "scala"
          },
          "persist_state": {
            "view": {
              "type": "details",
              "tableOptions": {},
              "chartOptions": {
                "chartType": "bar",
                "aggregationType": "count",
                "categoryFieldKeys": [
                  "0"
                ],
                "seriesFieldKeys": [
                  "0"
                ],
                "isStacked": false
              }
            }
          }
        },
        "9dba11c3-5f29-4c8c-b699-c972ad858b07": {
          "type": "Synapse.DataFrame",
          "sync_state": {
            "table": {
              "rows": [
                {
                  "0": "6603a758-5121-48de-b415-39f19079dc84",
                  "1": "Advanced Computer Architecture",
                  "2": "Engineering and Technology",
                  "3": "44"
                },
                {
                  "0": "16abe8a8-4fb8-4987-9791-2e3cdfcb6db2",
                  "1": "Understanding Human Differences",
                  "2": "Non-Subject-Specific",
                  "3": "45"
                },
                {
                  "0": "1ba47101-4a85-4470-8dc6-870047bfaa14",
                  "1": "Nonverbal Communication",
                  "2": "Social Sciences and History",
                  "3": "51"
                },
                {
                  "0": "a46ee521-4544-4994-870a-f094ea2bedb3",
                  "1": "Theories of Communication",
                  "2": "Social Sciences and History",
                  "3": "45"
                },
                {
                  "0": "a361f18d-055d-47ba-af57-58f9c4554eec",
                  "1": "Organizational Behavior",
                  "2": "Business and Marketing",
                  "3": "30"
                },
                {
                  "0": "34be5f28-8025-4310-9124-bcc0f2516df4",
                  "1": "Creative Arts and Play",
                  "2": "Non-Subject-Specific",
                  "3": "58"
                },
                {
                  "0": "04480303-e381-45f8-82a5-78eedb73e645",
                  "1": "Management Science",
                  "2": "Business and Marketing",
                  "3": "43"
                },
                {
                  "0": "9e5279b5-33d7-4fdb-bac2-c53785d93ab4",
                  "1": "Production and Operations Management",
                  "2": "Business and Marketing",
                  "3": "46"
                },
                {
                  "0": "53f2c8bb-2a3b-4217-8356-0d6ff8147689",
                  "1": "Digital Design",
                  "2": "Engineering and Technology",
                  "3": "36"
                },
                {
                  "0": "d2e5a731-1992-4c1a-be96-ce476f7767e3",
                  "1": "Cross-Cultural Management",
                  "2": "Business and Marketing",
                  "3": "38"
                }
              ],
              "schema": [
                {
                  "key": "0",
                  "name": "CourseId",
                  "type": "string"
                },
                {
                  "key": "1",
                  "name": "CourseName",
                  "type": "string"
                },
                {
                  "key": "2",
                  "name": "CourseGradeLevel",
                  "type": "string"
                },
                {
                  "key": "3",
                  "name": "EnrolledStudents",
                  "type": "bigint"
                }
              ],
              "truncated": false
            },
            "isSummary": false,
            "language": "scala"
          },
          "persist_state": {
            "view": {
              "type": "details",
              "tableOptions": {},
              "chartOptions": {
                "chartType": "bar",
                "aggregationType": "sum",
                "categoryFieldKeys": [
                  "0"
                ],
                "seriesFieldKeys": [
                  "3"
                ],
                "isStacked": false
              }
            }
          }
        },
        "2c8a6f08-c3b4-41af-babb-470dc7e342c5": {
          "type": "Synapse.DataFrame",
          "sync_state": {
            "table": {
              "rows": [
                {
                  "0": "79ab1377-61f3-4462-95c8-284cb10201b8",
                  "1": "School of Business",
                  "2": "United States of America",
                  "3": "",
                  "4": ""
                },
                {
                  "0": "ab2a9665-ce87-4120-a8b5-edd392875e42",
                  "1": "School of Fine Arts",
                  "2": "United States of America",
                  "3": "",
                  "4": ""
                },
                {
                  "0": "00b46bad-eb1d-41d3-ad11-16095144a56f",
                  "1": "School of Science and Health",
                  "2": "United States of America",
                  "3": "",
                  "4": ""
                },
                {
                  "0": "421b6506-5b1c-45b1-8f9f-d65a35bbcf32",
                  "1": "School of Education",
                  "2": "United States of America",
                  "3": "",
                  "4": ""
                },
                {
                  "0": "c4a80b3b-710f-4207-bf05-7688c6b6d5c5",
                  "1": "School of Social Sciences",
                  "2": "United States of America",
                  "3": "",
                  "4": ""
                }
              ],
              "schema": [
                {
                  "key": "0",
                  "name": "SchoolId",
                  "type": "string"
                },
                {
                  "key": "1",
                  "name": "SchoolName",
                  "type": "string"
                },
                {
                  "key": "2",
                  "name": "Country",
                  "type": "string"
                },
                {
                  "key": "3",
                  "name": "Latitude",
                  "type": "string"
                },
                {
                  "key": "4",
                  "name": "Longitude",
                  "type": "string"
                }
              ],
              "truncated": false
            },
            "isSummary": false,
            "language": "scala"
          },
          "persist_state": {
            "view": {
              "type": "details",
              "tableOptions": {},
              "chartOptions": {
                "chartType": "bar",
                "aggregationType": "count",
                "categoryFieldKeys": [
                  "0"
                ],
                "seriesFieldKeys": [
                  "0"
                ],
                "isStacked": false
              }
            }
          }
        },
        "aaf219c2-b679-4cb4-add9-d8cebe2f8722": {
          "type": "Synapse.DataFrame",
          "sync_state": {
            "table": {
              "rows": [
                {
                  "0": "1e6102c7-a28c-4192-a9e4-255f6476ece3",
                  "1": "2022-01-07 12:45:00",
                  "2": "2022-01-07 14:15:00"
                },
                {
                  "0": "bb9accb6-ecf3-47b2-9fa6-54f2b4edd821",
                  "1": "2022-01-13 09:15:00",
                  "2": "2022-01-13 10:45:00"
                },
                {
                  "0": "35410faa-4023-4795-9d95-d9cb45a104e5",
                  "1": "2022-01-20 07:30:00",
                  "2": "2022-01-20 08:30:00"
                },
                {
                  "0": "f0bd8da9-4d83-42a0-9dbc-73c40958edf6",
                  "1": "2022-01-20 13:15:00",
                  "2": "2022-01-20 14:45:00"
                },
                {
                  "0": "af25dc8c-eed5-444c-a150-faeab86f60c0",
                  "1": "2022-01-07 10:30:00",
                  "2": "2022-01-07 11:15:00"
                },
                {
                  "0": "5667e58a-32fb-4531-90db-b0a3b328aead",
                  "1": "2022-01-13 10:55:00",
                  "2": "2022-01-13 12:10:00"
                },
                {
                  "0": "59b27d81-5c7b-49cf-8d8e-edffce50be15",
                  "1": "2022-01-24 10:00:00",
                  "2": "2022-01-24 10:30:00"
                },
                {
                  "0": "1d8f4cf2-1752-42b0-9317-f1cc962ec368",
                  "1": "2022-01-12 12:15:00",
                  "2": "2022-01-12 13:30:00"
                },
                {
                  "0": "a4498322-e3b5-4c05-b19b-b207df480b01",
                  "1": "2022-01-20 08:55:00",
                  "2": "2022-01-20 09:40:00"
                },
                {
                  "0": "8865c3f4-e494-4f45-a8f5-b9467c06785e",
                  "1": "2022-01-28 13:15:00",
                  "2": "2022-01-28 14:45:00"
                }
              ],
              "schema": [
                {
                  "key": "0",
                  "name": "MeetingId",
                  "type": "string"
                },
                {
                  "key": "1",
                  "name": "StartTime",
                  "type": "timestamp"
                },
                {
                  "key": "2",
                  "name": "EndTime",
                  "type": "timestamp"
                },
                {
                  "key": "3",
                  "name": "MeetingType",
                  "type": "string"
                }
              ],
              "truncated": false
            },
            "isSummary": false,
            "language": "scala"
          },
          "persist_state": {
            "view": {
              "type": "details",
              "tableOptions": {},
              "chartOptions": {
                "chartType": "bar",
                "aggregationType": "count",
                "categoryFieldKeys": [
                  "0"
                ],
                "seriesFieldKeys": [
                  "0"
                ],
                "isStacked": false
              }
            }
          }
        },
        "eae073d2-6fda-4d00-8418-9cc3c6acf63b": {
          "type": "Synapse.DataFrame",
          "sync_state": {
            "table": {
              "rows": [
                {
                  "0": "Returned",
                  "1": "4"
                },
                {
                  "0": "Submitted",
                  "1": "3"
                },
                {
                  "0": "Visited",
                  "1": "2"
                },
                {
                  "0": "Assigned",
                  "1": "1"
                }
              ],
              "schema": [
                {
                  "key": "0",
                  "name": "AssignmentStatus",
                  "type": "string"
                },
                {
                  "key": "1",
                  "name": "AssignmentStatusId",
                  "type": "string"
                }
              ],
              "truncated": false
            },
            "isSummary": false,
            "language": "scala"
          },
          "persist_state": {
            "view": {
              "type": "details",
              "tableOptions": {},
              "chartOptions": {
                "chartType": "bar",
                "aggregationType": "count",
                "categoryFieldKeys": [
                  "0"
                ],
                "seriesFieldKeys": [
                  "0"
                ],
                "isStacked": false
              }
            }
          }
        },
        "27a7502d-cd08-4acc-bb9c-1d34fd86912a": {
          "type": "Synapse.DataFrame",
          "sync_state": {
            "table": {
              "rows": [
                {
                  "0": "ReactedWithEmoji",
                  "1": "Messaging",
                  "2": "000005"
                },
                {
                  "0": "ShareNotificationRequested",
                  "1": "Files",
                  "2": "000030"
                },
                {
                  "0": "SubmissionEvent",
                  "1": "Assignments",
                  "2": "020000"
                },
                {
                  "0": "OneNotePageChanged",
                  "1": "Notebook",
                  "2": "001000"
                },
                {
                  "0": "FileUploaded",
                  "1": "Files",
                  "2": "000023"
                },
                {
                  "0": "CommentDeleted",
                  "1": "Files",
                  "2": "000051"
                },
                {
                  "0": "FileAccessed",
                  "1": "Files",
                  "2": "000020"
                },
                {
                  "0": "AddedToSharedWithMe",
                  "1": "Files",
                  "2": "000040"
                },
                {
                  "0": "ExpandChannelMessage",
                  "1": "Messaging",
                  "2": "000004"
                },
                {
                  "0": "FileDownloaded",
                  "1": "Files",
                  "2": "000022"
                },
                {
                  "0": "Reflect",
                  "1": "Reflect",
                  "2": "000100"
                },
                {
                  "0": "Like",
                  "1": "Files",
                  "2": "000010"
                },
                {
                  "0": "AssignmentEvent",
                  "1": "Assignments",
                  "2": "010000"
                },
                {
                  "0": "ReplyChannelMessage",
                  "1": "Messaging",
                  "2": "000002"
                },
                {
                  "0": "VisitTeamChannel",
                  "1": "Messaging",
                  "2": "000003"
                },
                {
                  "0": "CommentCreated",
                  "1": "Files",
                  "2": "000050"
                },
                {
                  "0": "UserAtMentioned",
                  "1": "Files",
                  "2": "000060"
                },
                {
                  "0": "FileModified",
                  "1": "Files",
                  "2": "000021"
                },
                {
                  "0": "CallRecordSummarized",
                  "1": "TeamsMeeting",
                  "2": "100000"
                },
                {
                  "0": "Unlike",
                  "1": "Files",
                  "2": "000011"
                },
                {
                  "0": "PostChannelMessage",
                  "1": "Messaging",
                  "2": "000001"
                }
              ],
              "schema": [
                {
                  "key": "0",
                  "name": "SignalType",
                  "type": "string"
                },
                {
                  "key": "1",
                  "name": "SignalCategory",
                  "type": "string"
                },
                {
                  "key": "2",
                  "name": "SignalTypeId",
                  "type": "string"
                }
              ],
              "truncated": false
            },
            "isSummary": false,
            "language": "scala"
          },
          "persist_state": {
            "view": {
              "type": "details",
              "tableOptions": {},
              "chartOptions": {
                "chartType": "bar",
                "aggregationType": "count",
                "categoryFieldKeys": [
                  "0"
                ],
                "seriesFieldKeys": [
                  "0"
                ],
                "isStacked": false
              }
            }
          }
        },
        "04f636ed-316a-4a5e-a5d7-c9b4a4433db7": {
          "type": "Synapse.DataFrame",
          "sync_state": {
            "table": {
              "rows": [
                {
                  "0": "2022-01-03",
                  "1": "2022",
                  "2": "1",
                  "3": "2021-09-06",
                  "4": "4",
                  "5": "18"
                },
                {
                  "0": "2022-01-04",
                  "1": "2022",
                  "2": "1",
                  "3": "2021-09-06",
                  "4": "4",
                  "5": "18"
                },
                {
                  "0": "2022-01-05",
                  "1": "2022",
                  "2": "1",
                  "3": "2021-09-06",
                  "4": "4",
                  "5": "18"
                },
                {
                  "0": "2022-01-06",
                  "1": "2022",
                  "2": "1",
                  "3": "2021-09-06",
                  "4": "5",
                  "5": "18"
                },
                {
                  "0": "2022-01-07",
                  "1": "2022",
                  "2": "1",
                  "3": "2021-09-06",
                  "4": "5",
                  "5": "18"
                },
                {
                  "0": "2022-01-08",
                  "1": "2022",
                  "2": "1",
                  "3": "2021-09-06",
                  "4": "5",
                  "5": "18"
                },
                {
                  "0": "2022-01-09",
                  "1": "2022",
                  "2": "1",
                  "3": "2021-09-06",
                  "4": "5",
                  "5": "18"
                },
                {
                  "0": "2022-01-10",
                  "1": "2022",
                  "2": "1",
                  "3": "2021-09-06",
                  "4": "5",
                  "5": "19"
                },
                {
                  "0": "2022-01-11",
                  "1": "2022",
                  "2": "1",
                  "3": "2021-09-06",
                  "4": "5",
                  "5": "19"
                },
                {
                  "0": "2022-01-12",
                  "1": "2022",
                  "2": "1",
                  "3": "2021-09-06",
                  "4": "5",
                  "5": "19"
                }
              ],
              "schema": [
                {
                  "key": "0",
                  "name": "Date",
                  "type": "date"
                },
                {
                  "key": "1",
                  "name": "Year",
                  "type": "int"
                },
                {
                  "key": "2",
                  "name": "Month",
                  "type": "int"
                },
                {
                  "key": "3",
                  "name": "SchoolYearStartDate",
                  "type": "date"
                },
                {
                  "key": "4",
                  "name": "MonthOfSchoolYear",
                  "type": "bigint"
                },
                {
                  "key": "5",
                  "name": "WeekOfSchoolYear",
                  "type": "bigint"
                }
              ],
              "truncated": false
            },
            "isSummary": false,
            "language": "scala"
          },
          "persist_state": {
            "view": {
              "type": "details",
              "tableOptions": {},
              "chartOptions": {
                "chartType": "bar",
                "aggregationType": "sum",
                "categoryFieldKeys": [
                  "0"
                ],
                "seriesFieldKeys": [
                  "1"
                ],
                "isStacked": false
              }
            }
          }
        },
        "da904f7c-2d2f-462e-9a1b-8b4c72817a41": {
          "type": "Synapse.DataFrame",
          "sync_state": {
            "table": {
              "rows": [
                {
                  "0": "2022-01-03",
                  "1": "2022",
                  "2": "1",
                  "3": "2021-09-06",
                  "4": "4",
                  "5": "18",
                  "6": "2022-01-01",
                  "7": "1",
                  "8": "1"
                },
                {
                  "0": "2022-01-04",
                  "1": "2022",
                  "2": "1",
                  "3": "2021-09-06",
                  "4": "4",
                  "5": "18",
                  "6": "2022-01-01",
                  "7": "1",
                  "8": "1"
                },
                {
                  "0": "2022-01-05",
                  "1": "2022",
                  "2": "1",
                  "3": "2021-09-06",
                  "4": "4",
                  "5": "18",
                  "6": "2022-01-01",
                  "7": "1",
                  "8": "1"
                },
                {
                  "0": "2022-01-06",
                  "1": "2022",
                  "2": "1",
                  "3": "2021-09-06",
                  "4": "5",
                  "5": "18",
                  "6": "2022-01-01",
                  "7": "1",
                  "8": "1"
                },
                {
                  "0": "2022-01-07",
                  "1": "2022",
                  "2": "1",
                  "3": "2021-09-06",
                  "4": "5",
                  "5": "18",
                  "6": "2022-01-01",
                  "7": "1",
                  "8": "1"
                },
                {
                  "0": "2022-01-08",
                  "1": "2022",
                  "2": "1",
                  "3": "2021-09-06",
                  "4": "5",
                  "5": "18",
                  "6": "2022-01-01",
                  "7": "1",
                  "8": "2"
                },
                {
                  "0": "2022-01-09",
                  "1": "2022",
                  "2": "1",
                  "3": "2021-09-06",
                  "4": "5",
                  "5": "18",
                  "6": "2022-01-01",
                  "7": "1",
                  "8": "2"
                },
                {
                  "0": "2022-01-10",
                  "1": "2022",
                  "2": "1",
                  "3": "2021-09-06",
                  "4": "5",
                  "5": "19",
                  "6": "2022-01-01",
                  "7": "1",
                  "8": "2"
                },
                {
                  "0": "2022-01-11",
                  "1": "2022",
                  "2": "1",
                  "3": "2021-09-06",
                  "4": "5",
                  "5": "19",
                  "6": "2022-01-01",
                  "7": "1",
                  "8": "2"
                },
                {
                  "0": "2022-01-12",
                  "1": "2022",
                  "2": "1",
                  "3": "2021-09-06",
                  "4": "5",
                  "5": "19",
                  "6": "2022-01-01",
                  "7": "1",
                  "8": "2"
                }
              ],
              "schema": [
                {
                  "key": "0",
                  "name": "Date",
                  "type": "date"
                },
                {
                  "key": "1",
                  "name": "Year",
                  "type": "int"
                },
                {
                  "key": "2",
                  "name": "Month",
                  "type": "int"
                },
                {
                  "key": "3",
                  "name": "SchoolYearStartDate",
                  "type": "date"
                },
                {
                  "key": "4",
                  "name": "MonthOfSchoolYear",
                  "type": "bigint"
                },
                {
                  "key": "5",
                  "name": "WeekOfSchoolYear",
                  "type": "bigint"
                },
                {
                  "key": "6",
                  "name": "SemesterStartDate",
                  "type": "date"
                },
                {
                  "key": "7",
                  "name": "MonthOfSemester",
                  "type": "bigint"
                },
                {
                  "key": "8",
                  "name": "WeekOfSemester",
                  "type": "bigint"
                }
              ],
              "truncated": false
            },
            "isSummary": false,
            "language": "scala"
          },
          "persist_state": {
            "view": {
              "type": "details",
              "tableOptions": {},
              "chartOptions": {
                "chartType": "bar",
                "aggregationType": "sum",
                "categoryFieldKeys": [
                  "0"
                ],
                "seriesFieldKeys": [
                  "1"
                ],
                "isStacked": false
              }
            }
          }
        }
      }
    }
  },
  "nbformat": 4,
  "nbformat_minor": 2
}