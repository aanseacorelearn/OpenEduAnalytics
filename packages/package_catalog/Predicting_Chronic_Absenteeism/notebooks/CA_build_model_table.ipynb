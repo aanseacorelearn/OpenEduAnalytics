{
  "nbformat": 4,
  "nbformat_minor": 2,
  "cells": [
    {
      "cell_type": "markdown",
      "metadata": {
        "nteract": {
          "transient": {
            "deleting": false
          }
        }
      },
      "source": [
        "# Chronic Absenteeism Package: Build StudentModel Table\r\n",
        "This notebook is intended to explore the capabilities of the OEA Chronic Absenteeism package by creating a stage 3 StudentModel table. \r\n",
        "\r\n",
        "**It is recommended that you review and execute all relevant module pipelines, before testing this Chronic Absenteeism notebook.**\r\n",
        "\r\n",
        "This StudentModel table is created out of the curation of the following data sources, and landed in stage 3 under the \"chronic_absenteeism/StudentModel\" directory.\r\n",
        "\r\n",
        "This notebook curates these data sources using the following steps:\r\n",
        " 1. **Build the SIS fact table:** Read in all tables required; clean and extract a Student table (where each row is a student in the education system).\r\n",
        " 2. **In-Person Attendance Curation:** Clean the studentattendance_pseudo table, by calculating the total number of days each student was present. Create a new column in the StudentModel table that holds this data.\r\n",
        "    * Then, calculate the percentage of days a student was present in person. Create another column in the StudentModel table that holds this data.\r\n",
        "    * Finally, create a new column where a student is flagged if they are chronically absent (i.e. 1 if chronically absent and 0 if they are not). Chronic absence is defined, in this notebook, as being absent 10% of the time, or more.\r\n",
        " 3. **Digital Activity Curation:** Clean the digital activity data for the Microsoft Insights and the Clever modules.\r\n",
        "    * *Insights* - create 3 new columns in the StudentModel table: one for the total number of days a student was digitally active, one for the average number of Insights-recorded activities per student, and the average time each student spent in a Teams meeting. \r\n",
        "    * *Clever* - create 4+ new columns in the StudentModel table: one for the total number of days a student was digitally active, one for the daily average number of resources accessed per student, one for the distinct number of resources used over the entire Clever-recorded time, and one column for each resource recorded - calculating the average number of times a student accessed each resource per day. \r\n",
        " 4. **Normalize all Digital Activity Data by Student's School and Grade:** Create 3 new columns holding normalized averages, by each student's school and grade:\r\n",
        "    * *Insights_avgNumActivitiesPerDay*,\r\n",
        "    * *Insights_avgSecInTeamsMeetings*, and\r\n",
        "    * *Clever_normAvgNumAppsUsedPerDay*.\r\n",
        " 5. **Write the StudentModel_pseudo table to Stage 3p:** Write the final StudentModel_pseudo table to stage 3p. \r\n",
        " 6. **Build StudentModel_lookup table:** Create the lookup table for mapping hashed and masked PII columns, to unhashed and unmasked data.\r\n",
        " 7. **Write the StudentModel_lookup table to Stage 3np:** Write the final StudentModel_lookup table to stage 3np."
      ]
    },
    {
      "cell_type": "code",
      "execution_count": 1,
      "outputs": [],
      "metadata": {
        "jupyter": {
          "source_hidden": false,
          "outputs_hidden": false
        },
        "nteract": {
          "transient": {
            "deleting": false
          }
        }
      },
      "source": [
        "%run /OEA_py"
      ]
    },
    {
      "cell_type": "code",
      "execution_count": 2,
      "outputs": [],
      "metadata": {
        "jupyter": {
          "source_hidden": false,
          "outputs_hidden": false
        },
        "nteract": {
          "transient": {
            "deleting": false
          }
        }
      },
      "source": [
        "# 0) Initialize the OEA framework.\r\n",
        "oea = OEA()"
      ]
    },
    {
      "cell_type": "markdown",
      "metadata": {
        "nteract": {
          "transient": {
            "deleting": false
          }
        }
      },
      "source": [
        "## Read in relevant data sources"
      ]
    },
    {
      "cell_type": "code",
      "execution_count": 28,
      "outputs": [],
      "metadata": {
        "jupyter": {
          "source_hidden": false,
          "outputs_hidden": false
        },
        "nteract": {
          "transient": {
            "deleting": false
          }
        }
      },
      "source": [
        "dfContosoSIS_studentattendance = oea.load('contoso_sis', 'studentattendance_pseudo')\r\n",
        "df_digActivity = oea.load_delta('stage2p/digital_activity')\r\n",
        "dfInsights_aaduserpersonmapping = oea.load('M365', 'AadUserPersonMapping_pseudo')\r\n",
        "dfInsights_person = oea.load('M365', 'Person_pseudo')\r\n",
        "dfInsights_personOrgRole = oea.load('M365', 'PersonOrganizationRole_pseudo')\r\n",
        "dfInsights_organization = oea.load('M365', 'Organization_pseudo')\r\n",
        "dfInsights_refDefinition = oea.load('M365', 'RefDefinition_pseudo')"
      ]
    },
    {
      "cell_type": "markdown",
      "metadata": {
        "nteract": {
          "transient": {
            "deleting": false
          }
        }
      },
      "source": [
        "## 1.) Build the SIS fact table \r\n",
        "Currently, built using the Microsoft Education Insights SIS data. "
      ]
    },
    {
      "cell_type": "code",
      "execution_count": 29,
      "outputs": [],
      "metadata": {
        "jupyter": {
          "source_hidden": false,
          "outputs_hidden": false
        },
        "nteract": {
          "transient": {
            "deleting": false
          }
        }
      },
      "source": [
        "dfInsights = dfInsights_personOrgRole.join(dfInsights_person, dfInsights_personOrgRole.PersonId_pseudonym == dfInsights_person.Id_pseudonym, how='inner')\r\n",
        "dfInsights = dfInsights.select('PersonId_pseudonym', 'Surname', 'GivenName', 'MiddleName', 'RefRoleId', 'RefGradeLevelId', 'OrganizationId')"
      ]
    },
    {
      "cell_type": "code",
      "execution_count": 30,
      "outputs": [],
      "metadata": {
        "jupyter": {
          "source_hidden": false,
          "outputs_hidden": false
        },
        "nteract": {
          "transient": {
            "deleting": false
          }
        }
      },
      "source": [
        "dfInsights = dfInsights.join(dfInsights_organization, dfInsights.OrganizationId == dfInsights_organization.Id, how='inner')\r\n",
        "dfInsights = dfInsights.withColumnRenamed('Name', 'OrganizationName')\r\n",
        "dfInsights = dfInsights.select('PersonId_pseudonym', 'Surname', 'GivenName', 'MiddleName', 'RefRoleId', 'RefGradeLevelId', 'OrganizationId', 'OrganizationName')"
      ]
    },
    {
      "cell_type": "code",
      "execution_count": 31,
      "outputs": [],
      "metadata": {
        "jupyter": {
          "source_hidden": false,
          "outputs_hidden": false
        },
        "nteract": {
          "transient": {
            "deleting": false
          }
        }
      },
      "source": [
        "dfInsights = dfInsights.join(dfInsights_refDefinition, dfInsights.RefRoleId == dfInsights_refDefinition.Id, how='inner')\r\n",
        "dfInsights = dfInsights.withColumnRenamed('Code', 'PersonRole')\r\n",
        "dfInsights = dfInsights.filter(dfInsights['PersonRole'] == 'Student')\r\n",
        "dfInsights = dfInsights.select('PersonId_pseudonym', 'Surname', 'GivenName', 'MiddleName', 'PersonRole', 'RefGradeLevelId', 'OrganizationId', 'OrganizationName')"
      ]
    },
    {
      "cell_type": "code",
      "execution_count": 32,
      "outputs": [],
      "metadata": {
        "jupyter": {
          "source_hidden": false,
          "outputs_hidden": false
        },
        "nteract": {
          "transient": {
            "deleting": false
          }
        }
      },
      "source": [
        "dfInsights = dfInsights.join(dfInsights_refDefinition, dfInsights.RefGradeLevelId == dfInsights_refDefinition.Id, how='inner')\r\n",
        "dfInsights = dfInsights.withColumnRenamed('Code', 'StudentGrade')\r\n",
        "dfInsights = dfInsights.select('PersonId_pseudonym', 'Surname', 'GivenName', 'MiddleName', 'PersonRole', 'StudentGrade', 'OrganizationId', 'OrganizationName')"
      ]
    },
    {
      "cell_type": "code",
      "execution_count": 33,
      "outputs": [],
      "metadata": {
        "jupyter": {
          "source_hidden": false,
          "outputs_hidden": false
        },
        "nteract": {
          "transient": {
            "deleting": false
          }
        },
        "collapsed": false
      },
      "source": [
        "dfInsights_aaduserpersonmapping = dfInsights_aaduserpersonmapping.withColumnRenamed('PersonId_pseudonym', 'StudentId_internal_pseudonym')\r\n",
        "dfInsights = dfInsights.join(dfInsights_aaduserpersonmapping, dfInsights.PersonId_pseudonym == dfInsights_aaduserpersonmapping.StudentId_internal_pseudonym, how='inner')\r\n",
        "dfInsights = dfInsights.withColumnRenamed('ObjectId_pseudonym', 'StudentId_external_pseudonym').withColumnRenamed('OrganizationName', 'SchoolName')\r\n",
        "dfInsights = dfInsights.select('StudentId_internal_pseudonym', 'StudentId_external_pseudonym', 'Surname', 'GivenName', 'MiddleName', 'StudentGrade', 'SchoolName')\r\n",
        "display(dfInsights.limit(10))"
      ]
    },
    {
      "cell_type": "markdown",
      "metadata": {
        "nteract": {
          "transient": {
            "deleting": false
          }
        }
      },
      "source": [
        "## 2.) In-Person Attendance Curation\r\n",
        "\r\n",
        "### From Contoso SIS Module: studentattendance\r\n",
        "\r\n",
        "Creates 3 new columns for the Student-model table, based on the Contoso SIS attendance data:\r\n",
        " - Count of the number of days a student has attended school in-person.\r\n",
        " - Calculation of the in-person attendance percentage.\r\n",
        " - Chronic Absence Flag: if the percentage of days missed is greater than or equal to 10%, the student is flagged with a 1."
      ]
    },
    {
      "cell_type": "code",
      "execution_count": 34,
      "outputs": [],
      "metadata": {
        "jupyter": {
          "source_hidden": false,
          "outputs_hidden": false
        },
        "nteract": {
          "transient": {
            "deleting": false
          }
        },
        "collapsed": false
      },
      "source": [
        "dfInPersonAttendance = dfContosoSIS_studentattendance.select('student_id_pseudonym', 'attendance_date', 'AttendanceCode')\r\n",
        "# first, find the number of days recorded for in-person attendance\r\n",
        "dfInPersonAttendance_numDays = dfInPersonAttendance.groupBy('attendance_date').count()\r\n",
        "dfInPersonAttendance_numDays = dfInPersonAttendance_numDays.drop('count')\r\n",
        "num_days_recorded = dfInPersonAttendance_numDays.count()\r\n",
        "# build final attendance table\r\n",
        "dfInPersonAttendance = dfInPersonAttendance.withColumn('AttendanceCode_value', F.when(F.col('AttendanceCode') == \"P\", 1).otherwise(0))\r\n",
        "dfInPersonAttendance = dfInPersonAttendance.groupBy(\"student_id_pseudonym\").sum(\"AttendanceCode_value\")\r\n",
        "dfInPersonAttendance = dfInPersonAttendance.withColumnRenamed('sum(AttendanceCode_value)', 'InPerson_numDaysAttended')\r\n",
        "dfInPersonAttendance = dfInPersonAttendance.withColumn('InPerson_percentDaysAttended', F.col('InPerson_numDaysAttended')/num_days_recorded)\r\n",
        "dfInPersonAttendance = dfInPersonAttendance.withColumn('InPerson_chronicAbsFlag', F.when(F.col('InPerson_percentDaysAttended') >= 0.9, 0).otherwise(1))\r\n",
        "display(dfInPersonAttendance.limit(10))"
      ]
    },
    {
      "cell_type": "code",
      "execution_count": 35,
      "outputs": [],
      "metadata": {
        "jupyter": {
          "source_hidden": false,
          "outputs_hidden": false
        },
        "nteract": {
          "transient": {
            "deleting": false
          }
        },
        "collapsed": false
      },
      "source": [
        "# join enriched in-person attendance data back to Student-model table\r\n",
        "dfInsights = dfInsights.join(dfInPersonAttendance, dfInsights.StudentId_external_pseudonym == dfInPersonAttendance.student_id_pseudonym, how='inner')\r\n",
        "dfInsights = dfInsights.drop('student_id_pseudonym')\r\n",
        "display(dfInsights.limit(10))"
      ]
    },
    {
      "cell_type": "markdown",
      "metadata": {
        "nteract": {
          "transient": {
            "deleting": false
          }
        }
      },
      "source": [
        "## 3.) Digital Activity Curation\r\n",
        "\r\n",
        "### Insights: Digital Activity\r\n",
        "Creates 3 new columns for the Student-model table, based on the Insights digital activity data:\r\n",
        " - Count of the number of days a student is active.\r\n",
        " - Calculate the average number of digital activities a student uses, on the days they are active.\r\n",
        " - Calculate the average amount of time (in seconds) a student is in a Teams Meeting."
      ]
    },
    {
      "cell_type": "code",
      "execution_count": 36,
      "outputs": [],
      "metadata": {
        "jupyter": {
          "source_hidden": false,
          "outputs_hidden": false
        },
        "nteract": {
          "transient": {
            "deleting": false
          }
        },
        "collapsed": false
      },
      "source": [
        "# isolate Insights data\r\n",
        "df_digActivity_insights = df_digActivity.filter(df_digActivity['event_object'] == 'MS_Insights')\r\n",
        "# get the total number of days from Insights-recorded digital activity per student\r\n",
        "metadata_table1 = df_digActivity_insights.select('event_actor', 'event_eventTime')\r\n",
        "metadata_table1 = metadata_table1.withColumn('event_eventTime', F.to_date(F.col('event_eventTime')))\r\n",
        "metadata_table1 = metadata_table1.distinct()\r\n",
        "metadata_table1 = metadata_table1.withColumn('Insights_numDaysActive', F.lit(1))\r\n",
        "metadata_table1 = metadata_table1.groupBy('event_actor').sum('Insights_numDaysActive')\r\n",
        "metadata_table = metadata_table1.withColumnRenamed('sum(Insights_numDaysActive)', 'Insights_numDaysActive')\r\n",
        "display(metadata_table.limit(10))"
      ]
    },
    {
      "cell_type": "code",
      "execution_count": 37,
      "outputs": [],
      "metadata": {
        "jupyter": {
          "source_hidden": false,
          "outputs_hidden": false
        },
        "nteract": {
          "transient": {
            "deleting": false
          }
        },
        "collapsed": false
      },
      "source": [
        "# get the daily average number of Insights-recorded digital activities per student, for when they are digitally active\r\n",
        "metadata_table2 = df_digActivity_insights.select('event_actor', 'event_eventTime')\r\n",
        "metadata_table2 = metadata_table2.withColumn('event_eventTime', F.to_date(F.col('event_eventTime')))\r\n",
        "metadata_table2 = metadata_table2.groupBy('event_actor', 'event_eventTime').count()\r\n",
        "metadata_table2 = metadata_table2.groupBy('event_actor').sum('count')\r\n",
        "metadata_table2 = metadata_table2.withColumnRenamed('event_actor', 'studentId').withColumnRenamed('sum(count)', 'Insights_avgNumActivitiesPerDay')\r\n",
        "metadata_table = metadata_table.join(metadata_table2, metadata_table.event_actor == metadata_table2.studentId, how='inner')\r\n",
        "metadata_table = metadata_table.select('event_actor', 'Insights_numDaysActive', 'Insights_avgNumActivitiesPerDay')\r\n",
        "metadata_table = metadata_table.withColumn('Insights_avgNumActivitiesPerDay', F.col('Insights_avgNumActivitiesPerDay')/F.col('Insights_numDaysActive'))\r\n",
        "metadata_table = metadata_table.withColumn('Insights_avgNumActivitiesPerDay', F.round(F.col('Insights_avgNumActivitiesPerDay'), 3))\r\n",
        "display(metadata_table.limit(10))"
      ]
    },
    {
      "cell_type": "code",
      "execution_count": 38,
      "outputs": [],
      "metadata": {
        "jupyter": {
          "source_hidden": false,
          "outputs_hidden": false
        },
        "nteract": {
          "transient": {
            "deleting": false
          }
        },
        "collapsed": false
      },
      "source": [
        "# get the average time (in seconds) of Insights-recorded Teams meetings per student\r\n",
        "metadata_table3 = df_digActivity_insights.select('event_actor', 'generated_aggregateMeasure_metric_timeOnTaskSec')\r\n",
        "metadata_table3 = metadata_table3.withColumn('generated_aggregateMeasure_metric_timeOnTaskSec', F.col('generated_aggregateMeasure_metric_timeOnTaskSec').cast('int'))\r\n",
        "metadata_table3 = metadata_table3.groupBy('event_actor').avg('generated_aggregateMeasure_metric_timeOnTaskSec')\r\n",
        "metadata_table3 = metadata_table3.withColumnRenamed('avg(generated_aggregateMeasure_metric_timeOnTaskSec)', 'Insights_avgSecInTeamsMeetings')\r\n",
        "metadata_table3 = metadata_table3.withColumn('Insights_avgSecInTeamsMeetings', F.round(F.col('Insights_avgSecInTeamsMeetings'), 3))\r\n",
        "metadata_table3 = metadata_table3.withColumnRenamed('event_actor', 'studentId')\r\n",
        "metadata_table = metadata_table.join(metadata_table3, metadata_table.event_actor == metadata_table3.studentId, how='inner')\r\n",
        "dfFinal_metadata = metadata_table.select('event_actor', 'Insights_numDaysActive', 'Insights_avgNumActivitiesPerDay', 'Insights_avgSecInTeamsMeetings')\r\n",
        "dfFinal_metadata = dfFinal_metadata.withColumnRenamed('event_actor', 'StudentId_pseudo')\r\n",
        "display(dfFinal_metadata.limit(10))"
      ]
    },
    {
      "cell_type": "code",
      "execution_count": 39,
      "outputs": [],
      "metadata": {
        "jupyter": {
          "source_hidden": false,
          "outputs_hidden": false
        },
        "nteract": {
          "transient": {
            "deleting": false
          }
        },
        "collapsed": false
      },
      "source": [
        "# join enriched Insights digital activity data back to Student-model table\r\n",
        "### NOTE: May need to change the join to be with the dfInsights.Student_external_pseudonym given the latest updates with the Digital Engagement Schema Standard\r\n",
        "dfInsights = dfInsights.join(dfFinal_metadata, dfInsights.StudentId_internal_pseudonym == dfFinal_metadata.StudentId_pseudo, how='inner')\r\n",
        "dfInsights = dfInsights.drop('StudentId_pseudo', 'StudentId_internal_pseudonym')\r\n",
        "display(dfInsights.limit(10))"
      ]
    },
    {
      "cell_type": "markdown",
      "metadata": {
        "nteract": {
          "transient": {
            "deleting": false
          }
        }
      },
      "source": [
        "### Clever: Digital Activity \r\n",
        "Creates 2+ new columns for the Student-model table, based on the Insights digital activity data:\r\n",
        " - Count of the number of days a student is active.\r\n",
        " - Calculate the average number of logins per resource a student uses, on the days they are active.\r\n",
        "     * Each resource, recorded by Clever, is pivoted to become a column.\r\n",
        "\r\n",
        "**Notes:**\r\n",
        " - Currently, this enrichment does not factor in if a student does not have any data for a resource, which may require some minor edits to factor in these scenarios.\r\n",
        " - The creation of multiple columns has some enrichment processes specific to the test data; these will require updates when using production data."
      ]
    },
    {
      "cell_type": "code",
      "execution_count": 40,
      "outputs": [],
      "metadata": {
        "jupyter": {
          "source_hidden": false,
          "outputs_hidden": false
        },
        "nteract": {
          "transient": {
            "deleting": false
          }
        },
        "collapsed": false
      },
      "source": [
        "# isolate Clever Daily Participation data\r\n",
        "df_digActivity_clever_dp = df_digActivity.filter(df_digActivity['event_object'] == 'Clever_Daily_Participation')\r\n",
        "# get the total number of days from Clever-recorded digital activity per student\r\n",
        "metadata_table1 = df_digActivity_clever_dp.select('event_actor', 'generated_aggregateMeasure_metric_used')\r\n",
        "metadata_table1 = metadata_table1.withColumn('Clever_numDaysActive', F.when(F.col('generated_aggregateMeasure_metric_used') == \"true\", 1).otherwise(0))\r\n",
        "metadata_table1 = metadata_table1.groupBy('event_actor').sum('Clever_numDaysActive')\r\n",
        "metadata_table1 = metadata_table1.withColumnRenamed('sum(Clever_numDaysActive)', 'Clever_numDaysActive')\r\n",
        "display(metadata_table1.limit(10))"
      ]
    },
    {
      "cell_type": "code",
      "execution_count": 41,
      "outputs": [],
      "metadata": {
        "jupyter": {
          "source_hidden": false,
          "outputs_hidden": false
        },
        "nteract": {
          "transient": {
            "deleting": false
          }
        },
        "collapsed": false
      },
      "source": [
        "# isolate Clever Resource Usage data\r\n",
        "df_digActivity_clever_ru = df_digActivity.filter(df_digActivity['event_object'] == 'Clever_Resource_Usage')\r\n",
        "# get the daily average number of Clever-recorded digital resources accessed per student\r\n",
        "metadata_table2 = df_digActivity_clever_ru.select('event_actor', 'event_eventTime', 'entity_type', 'generated_aggregateMeasure_metric_numAccess')\r\n",
        "metadata_table2 = metadata_table2.groupBy('event_actor', 'event_eventTime', 'entity_type').count()\r\n",
        "metadata_table2 = metadata_table2.groupBy('event_actor', 'event_eventTime').count()\r\n",
        "metadata_table2 = metadata_table2.groupBy('event_actor').avg('count')\r\n",
        "metadata_table2 = metadata_table2.withColumnRenamed('avg(count)', 'Clever_avgNumAppsUsedPerDay').withColumnRenamed('event_actor', 'StudentId')\r\n",
        "metadata_table2 = metadata_table2.withColumn('Clever_avgNumAppsUsedPerDay', F.round(F.col('Clever_avgNumAppsUsedPerDay'), 3))\r\n",
        "# join back to general Clever metadata table\r\n",
        "dfFinal_metadata = metadata_table1.join(metadata_table2, metadata_table1.event_actor == metadata_table2.StudentId, how='inner')\r\n",
        "dfFinal_metadata = dfFinal_metadata.drop('StudentId')\r\n",
        "display(dfFinal_metadata.limit(10))"
      ]
    },
    {
      "cell_type": "code",
      "execution_count": 42,
      "outputs": [],
      "metadata": {
        "jupyter": {
          "source_hidden": false,
          "outputs_hidden": false
        },
        "nteract": {
          "transient": {
            "deleting": false
          }
        },
        "collapsed": false
      },
      "source": [
        "# get the distinct number of Clever-recorded digital resources accessed per student over the entire time-series\r\n",
        "metadata_table3 = df_digActivity_clever_ru.select('event_actor', 'entity_type')\r\n",
        "metadata_table3 = metadata_table3.distinct()\r\n",
        "metadata_table3 = metadata_table3.groupBy('event_actor').count()\r\n",
        "metadata_table3 = metadata_table3.withColumnRenamed('count', 'Clever_distinctNumAppsUsedAllTime').withColumnRenamed('event_actor', 'StudentId')\r\n",
        "# join back to general Clever metadata table\r\n",
        "dfFinal_metadata = dfFinal_metadata.join(metadata_table3, dfFinal_metadata.event_actor == metadata_table3.StudentId, how='inner')\r\n",
        "dfFinal_metadata = dfFinal_metadata.drop('StudentId')\r\n",
        "display(dfFinal_metadata.limit(10))"
      ]
    },
    {
      "cell_type": "code",
      "execution_count": 43,
      "outputs": [],
      "metadata": {
        "jupyter": {
          "source_hidden": false,
          "outputs_hidden": false
        },
        "nteract": {
          "transient": {
            "deleting": false
          }
        },
        "collapsed": false
      },
      "source": [
        "# get the daily average number of times Clever recorded a resource was accessed per resource, per student\r\n",
        "# each distinct resource is pivoted to a column\r\n",
        "metadata_table4 = df_digActivity_clever_ru.select('event_actor', 'entity_type', 'generated_aggregateMeasure_metric_numAccess')\r\n",
        "metadata_table4 = metadata_table4.withColumn('generated_aggregateMeasure_metric_numAccess', metadata_table4.generated_aggregateMeasure_metric_numAccess.cast('int'))\r\n",
        "metadata_table4 = metadata_table4.groupBy('event_actor').pivot('entity_type').avg('generated_aggregateMeasure_metric_numAccess')\r\n",
        "# reduce the name of some columns and replace illegal characters\r\n",
        "    # NOTE: these will need to be updated dpending on the resources collected from production data\r\n",
        "metadata_table4 = metadata_table4.withColumnRenamed('Tutor.com', 'TutorDotCom').withColumnRenamed('Edgenuity Courseware/MyPath/UpSmart', 'EdgenuityCourseware') \\\r\n",
        ".withColumnRenamed('Explore Learning/Rostering', 'ExploreLearning').withColumnRenamed('i-Ready', 'iReady')\r\n",
        "metadata_table4 = metadata_table4.select([F.col(col).alias(col.replace(' ', '')) for col in metadata_table4.columns])\r\n",
        "# round every column except event_actor and rename columns for final Clever table join\r\n",
        "for c in metadata_table4.columns:\r\n",
        "    if c != \"event_actor\":\r\n",
        "        metadata_table4 = metadata_table4.withColumn(c, F.round(F.col(c), 3))\r\n",
        "        metadata_table4 = metadata_table4.withColumnRenamed(c, 'Clever_avgNumAccessesPerDay_' + c)\r\n",
        "    else: \r\n",
        "        metadata_table4 = metadata_table4.withColumnRenamed(c, \"StudentId\")\r\n",
        "# join back to other Clever metadata table\r\n",
        "dfFinal_metadata = dfFinal_metadata.join(metadata_table4, dfFinal_metadata.event_actor == metadata_table4.StudentId, how='inner')\r\n",
        "dfFinal_metadata = dfFinal_metadata.drop('StudentId')\r\n",
        "display(dfFinal_metadata.limit(10))"
      ]
    },
    {
      "cell_type": "code",
      "execution_count": 44,
      "outputs": [],
      "metadata": {
        "jupyter": {
          "source_hidden": false,
          "outputs_hidden": false
        },
        "nteract": {
          "transient": {
            "deleting": false
          }
        },
        "collapsed": false
      },
      "source": [
        "# join enriched Clever digital activity data back to Student-model table\r\n",
        "dfStudentModel = dfInsights.join(dfFinal_metadata, dfInsights.StudentId_external_pseudonym == dfFinal_metadata.event_actor, how='inner')\r\n",
        "dfStudentModel = dfStudentModel.drop('event_actor')\r\n",
        "display(dfStudentModel.limit(10))"
      ]
    },
    {
      "cell_type": "markdown",
      "metadata": {
        "nteract": {
          "transient": {
            "deleting": false
          }
        }
      },
      "source": [
        "## 4.) Normalize all Digital Activity data by Student's School and Grade\r\n",
        "This method extracts the averages seen in the entire StudentModel table for each school and grade, and creates 3 new columns per student:\r\n",
        " - One for Insights_avgNumActivitiesPerDay -> Insights_avgNumActivitiesPerDay_norm\r\n",
        " - One for Insights_avgSecInTeamsMeetings -> Insights_avgSecInTeamsMeetings_norm\r\n",
        " - One for Clever_avgNumAppsUsedPerDay -> Clever_avgNumAppsUsedPerDay_norm\r\n",
        "\r\n",
        "Normalizing is accomplished by the following equation:\r\n",
        "\r\n",
        "$$X_{norm} = {X-X_{min}\\over X_{max}-X_{min}}$$"
      ]
    },
    {
      "cell_type": "code",
      "execution_count": 45,
      "outputs": [],
      "metadata": {
        "jupyter": {
          "source_hidden": false,
          "outputs_hidden": false
        },
        "nteract": {
          "transient": {
            "deleting": false
          }
        },
        "collapsed": false
      },
      "source": [
        "dfNormValues = dfStudentModel.select('StudentGrade', 'SchoolName', 'Insights_avgNumActivitiesPerDay', 'Insights_avgSecInTeamsMeetings', 'Clever_avgNumAppsUsedPerDay')\r\n",
        "# find the min and max values per school and grade and join together into a single df\r\n",
        "dfNormValues_mins = dfNormValues.groupBy('StudentGrade', 'SchoolName').min('Insights_avgNumActivitiesPerDay', 'Insights_avgSecInTeamsMeetings', 'Clever_avgNumAppsUsedPerDay')\r\n",
        "dfNormValues_maxs = dfNormValues.groupBy('StudentGrade', 'SchoolName').max('Insights_avgNumActivitiesPerDay', 'Insights_avgSecInTeamsMeetings', 'Clever_avgNumAppsUsedPerDay')\r\n",
        "dfNormValues_mins = dfNormValues_mins.withColumnRenamed('StudentGrade', 'Grade').withColumnRenamed('SchoolName', 'Name')\r\n",
        "dfNormValues_both = dfNormValues_mins.join(dfNormValues_maxs, (dfNormValues_mins.Grade == dfNormValues_maxs.StudentGrade) \\\r\n",
        "& (dfNormValues_mins.Name == dfNormValues_maxs.SchoolName), how='inner')\r\n",
        "dfNormValues_both = dfNormValues_both.drop('StudentGrade', 'SchoolName')\r\n",
        "# Calculate the dividing factor for normalization (i.e. x_max-x_min) per average column, school, and grade\r\n",
        "dfNormValues_both = dfNormValues_both.withColumn('divFactor_Insights_avgNumActivitiesPerDay', F.col('max(Insights_avgNumActivitiesPerDay)')-F.col('min(Insights_avgNumActivitiesPerDay)'))\r\n",
        "dfNormValues_both = dfNormValues_both.withColumn('divFactor_Insights_avgSecInTeamsMeetings', F.col('max(Insights_avgSecInTeamsMeetings)')-F.col('min(Insights_avgSecInTeamsMeetings)'))\r\n",
        "dfNormValues_both = dfNormValues_both.withColumn('divFactor_Clever_avgNumAppsUsedPerDay', F.col('max(Clever_avgNumAppsUsedPerDay)')-F.col('min(Clever_avgNumAppsUsedPerDay)'))\r\n",
        "# round each of the columns and drop the max columns\r\n",
        "dfNormValues_both = dfNormValues_both.drop('max(Insights_avgNumActivitiesPerDay)', 'max(Insights_avgSecInTeamsMeetings)', 'max(Clever_avgNumAppsUsedPerDay)')\r\n",
        "dfNormValues_both = dfNormValues_both.withColumn('divFactor_Insights_avgNumActivitiesPerDay', F.round(F.col('divFactor_Insights_avgNumActivitiesPerDay'), 3))\r\n",
        "dfNormValues_both = dfNormValues_both.withColumn('divFactor_Insights_avgSecInTeamsMeetings', F.round(F.col('divFactor_Insights_avgSecInTeamsMeetings'), 3))\r\n",
        "dfNormValues_both = dfNormValues_both.withColumn('divFactor_Clever_avgNumAppsUsedPerDay', F.round(F.col('divFactor_Clever_avgNumAppsUsedPerDay'), 3))\r\n",
        "display(dfNormValues_both)"
      ]
    },
    {
      "cell_type": "code",
      "execution_count": 46,
      "outputs": [],
      "metadata": {
        "jupyter": {
          "source_hidden": false,
          "outputs_hidden": false
        },
        "nteract": {
          "transient": {
            "deleting": false
          }
        },
        "collapsed": false
      },
      "source": [
        "# join this normalization-values table back to the StudentModel\r\n",
        "dfStudentModel_norm = dfStudentModel.join(dfNormValues_both, (dfStudentModel.StudentGrade == dfNormValues_both.Grade) \\\r\n",
        "& (dfStudentModel.SchoolName == dfNormValues_both.Name), how='left')\r\n",
        "dfStudentModel_norm = dfStudentModel_norm.drop('Grade', 'Name')\r\n",
        "# iteratively create new columns per student with their normalized averages \r\n",
        "dfStudentModel_norm = dfStudentModel_norm.withColumn('Insights_normAvgNumActivitiesPerDay', (F.col('Insights_avgNumActivitiesPerDay')-F.col('min(Insights_avgNumActivitiesPerDay)'))/F.col('divFactor_Insights_avgNumActivitiesPerDay'))\r\n",
        "dfStudentModel_norm = dfStudentModel_norm.withColumn('Insights_normAvgSecInTeamsMeetings', (F.col('Insights_avgSecInTeamsMeetings')-F.col('min(Insights_avgSecInTeamsMeetings)'))/F.col('divFactor_Insights_avgSecInTeamsMeetings'))\r\n",
        "dfStudentModel_norm = dfStudentModel_norm.withColumn('Clever_normAvgNumAppsUsedPerDay', (F.col('Clever_avgNumAppsUsedPerDay')-F.col('min(Clever_avgNumAppsUsedPerDay)'))/F.col('divFactor_Clever_avgNumAppsUsedPerDay'))\r\n",
        "# round these new normalized-averages columns\r\n",
        "dfStudentModel_norm = dfStudentModel_norm.withColumn('Insights_normAvgNumActivitiesPerDay', F.round(F.col('Insights_normAvgNumActivitiesPerDay'), 3))\r\n",
        "dfStudentModel_norm = dfStudentModel_norm.withColumn('Insights_normAvgSecInTeamsMeetings', F.round(F.col('Insights_normAvgSecInTeamsMeetings'), 3))\r\n",
        "dfStudentModel_norm = dfStudentModel_norm.withColumn('Clever_normAvgNumAppsUsedPerDay', F.round(F.col('Clever_normAvgNumAppsUsedPerDay'), 3))\r\n",
        "# drop the columns used for calculation\r\n",
        "dfStudentModel_norm = dfStudentModel_norm.drop('min(Insights_avgNumActivitiesPerDay)', 'min(Insights_avgSecInTeamsMeetings)', 'min(Clever_avgNumAppsUsedPerDay)')\r\n",
        "dfStudentModel_norm = dfStudentModel_norm.drop('divFactor_Insights_avgNumActivitiesPerDay', 'divFactor_Insights_avgSecInTeamsMeetings', 'divFactor_Clever_avgNumAppsUsedPerDay')\r\n",
        "display(dfStudentModel_norm.limit(10))"
      ]
    },
    {
      "cell_type": "markdown",
      "metadata": {
        "nteract": {
          "transient": {
            "deleting": false
          }
        }
      },
      "source": [
        "## 5.) Write the StudentModel_pseudo table to Stage 3p\r\n",
        ""
      ]
    },
    {
      "cell_type": "code",
      "execution_count": 47,
      "outputs": [],
      "metadata": {
        "jupyter": {
          "source_hidden": false,
          "outputs_hidden": false
        },
        "nteract": {
          "transient": {
            "deleting": false
          }
        }
      },
      "source": [
        "dfStudentModel_norm.coalesce(1).write.format('delta').mode('overwrite').option('header', True).save(oea.stage3p + '/chronic_absenteeism/StudentModel_pseudo')"
      ]
    },
    {
      "cell_type": "markdown",
      "metadata": {
        "nteract": {
          "transient": {
            "deleting": false
          }
        }
      },
      "source": [
        "## 6.) Build StudentModel_lookup table"
      ]
    },
    {
      "cell_type": "code",
      "execution_count": 48,
      "outputs": [],
      "metadata": {
        "jupyter": {
          "source_hidden": false,
          "outputs_hidden": false
        },
        "nteract": {
          "transient": {
            "deleting": false
          }
        },
        "collapsed": false
      },
      "source": [
        "dfInsights_person_np = oea.load('M365', 'Person_lookup', stage=oea.stage2np)\r\n",
        "dfInsights_aaduser_np = oea.load('M365', 'AadUser_lookup', stage=oea.stage2np)\r\n",
        "dfInsights_np = dfInsights_person_np.join(dfInsights_aaduserpersonmapping, dfInsights_person_np.Id_pseudonym == dfInsights_aaduserpersonmapping.StudentId_internal_pseudonym, how='inner')\r\n",
        "dfInsights_np = dfInsights_np.withColumnRenamed('Id', 'StudentId_internal').withColumnRenamed('ObjectId_pseudonym', 'StudentId_external_pseudonym')\r\n",
        "dfInsights_np = dfInsights_np.select('StudentId_internal_pseudonym', 'StudentId_internal', 'StudentId_external_pseudonym', 'Surname', 'GivenName', 'MiddleName')\r\n",
        "display(dfInsights_np.limit(10))"
      ]
    },
    {
      "cell_type": "code",
      "execution_count": 49,
      "outputs": [],
      "metadata": {
        "jupyter": {
          "source_hidden": false,
          "outputs_hidden": false
        },
        "nteract": {
          "transient": {
            "deleting": false
          }
        },
        "collapsed": false
      },
      "source": [
        "dfInsights_aaduser_np = dfInsights_aaduser_np.withColumnRenamed('Surname', 'Surname2').withColumnRenamed('GivenName', 'GivenName2')\r\n",
        "dfInsights_np = dfInsights_np.join(dfInsights_aaduser_np, dfInsights_np.StudentId_external_pseudonym == dfInsights_aaduser_np.ObjectId_pseudonym, how='inner')\r\n",
        "dfInsights_np = dfInsights_np.withColumnRenamed('ObjectId', 'StudentId_external')\r\n",
        "dfInsights_np = dfInsights_np.select('StudentId_internal_pseudonym', 'StudentId_internal', 'StudentId_external_pseudonym', 'StudentId_external', 'Surname', 'GivenName', 'MiddleName')\r\n",
        "display(dfInsights_np.limit(10))"
      ]
    },
    {
      "cell_type": "markdown",
      "metadata": {
        "nteract": {
          "transient": {
            "deleting": false
          }
        }
      },
      "source": [
        "## 7.) Write the StudentModel_lookup table to Stage 3np"
      ]
    },
    {
      "cell_type": "code",
      "execution_count": 50,
      "outputs": [],
      "metadata": {
        "jupyter": {
          "source_hidden": false,
          "outputs_hidden": false
        },
        "nteract": {
          "transient": {
            "deleting": false
          }
        }
      },
      "source": [
        "dfInsights_np.coalesce(1).write.format('delta').mode('overwrite').option('header', True).save(oea.stage3np + '/chronic_absenteeism/StudentModel_lookup')"
      ]
    }
  ],
  "metadata": {
    "description": null,
    "save_output": true,
    "kernelspec": {
      "name": "synapse_pyspark",
      "display_name": "Synapse PySpark"
    },
    "language_info": {
      "name": "python"
    }
  }
}