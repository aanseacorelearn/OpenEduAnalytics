{
  "cells": [
    {
      "cell_type": "markdown",
      "source": [
        "# Build RAI Dashboard with python SDK"
      ],
      "metadata": {
        "nteract": {
          "transient": {
            "deleting": false
          }
        }
      }
    },
    {
      "cell_type": "code",
      "source": [
        "# make sure you run this notebook on azureml_py38 conda environment (aka Python 3.8 - AzureML - one of the default conda environments on AML compute instances)\r\n",
        "# uncomment this line and install these dependencies if you are running this notebook for the first time\r\n",
        "# !pip install azure-ai-ml"
      ],
      "outputs": [],
      "execution_count": 1,
      "metadata": {
        "jupyter": {
          "source_hidden": false,
          "outputs_hidden": false
        },
        "nteract": {
          "transient": {
            "deleting": false
          }
        },
        "gather": {
          "logged": 1675961844553
        }
      }
    },
    {
      "cell_type": "code",
      "source": [
        "from azure.ai.ml import MLClient,Input, dsl, Output\r\n",
        "from azure.identity import DefaultAzureCredential\r\n",
        "from azureml.core import Workspace, Dataset\r\n",
        "import json\r\n",
        "import uuid\r\n",
        "from azure.ai.ml.constants import AssetTypes\r\n",
        "from azure.ai.ml.entities import PipelineJob\r\n",
        "import time\r\n",
        "import toml"
      ],
      "outputs": [],
      "execution_count": 2,
      "metadata": {
        "jupyter": {
          "source_hidden": false,
          "outputs_hidden": false
        },
        "nteract": {
          "transient": {
            "deleting": false
          }
        },
        "gather": {
          "logged": 1675961846804
        }
      }
    },
    {
      "cell_type": "code",
      "source": [
        "# load Azure configuration \n",
        "config = toml.load(\"config.txt\")\n",
        "subscription_id = config[\"subscription_id\"]\n",
        "resource_group = config[\"resource_group\"]\n",
        "workspace_name = config[\"workspace_name\"]"
      ],
      "outputs": [],
      "execution_count": 3,
      "metadata": {
        "gather": {
          "logged": 1675961846956
        },
        "jupyter": {
          "outputs_hidden": false,
          "source_hidden": false
        },
        "nteract": {
          "transient": {
            "deleting": false
          }
        }
      }
    },
    {
      "cell_type": "code",
      "source": [
        "# specify model configurations\n",
        "MODEL_NAME=\"ProxyNominationRF\"\n",
        "MODEL_VERSION = \"22\"\n",
        "COMPUTE = \"demo-test\" \n",
        "\n",
        "train_dataset_name = \"dataset-RAI_MainData_train_numeric\"\n",
        "test_dataset_name = \"dataset-RAI_MainData_test_sample_numeric\"\n",
        "train_dataset_version = \"25\"\n",
        "test_dataset_version = \"25\"\n",
        "model_label = \"RF\"\n",
        "target_column = \"ProxyNomination\"\n",
        "sensitive_features = [\"EconomicDisadvantageSTAS_Y\", \"Disability_Y\"]\n",
        "data_explorer_features = [\"EconomicDisadvantageSTAS_Y\", \"sum_absentStreak\"]\n",
        "treatment_features = [\"EconomicDisadvantageSTAS_Y\", \"Action_cnt_2019\", \"sum_absentStreak\"]\n",
        "categorical_features = []  \n",
        "filter_columns = []"
      ],
      "outputs": [],
      "execution_count": 4,
      "metadata": {
        "gather": {
          "logged": 1675961847078
        }
      }
    },
    {
      "cell_type": "code",
      "source": [
        "train_pq = Input(\n",
        "    type=\"mltable\",\n",
        "    path=f\"azureml:{train_dataset_name}:{train_dataset_version}\",\n",
        "    mode=\"direct\",\n",
        ")\n",
        "\n",
        "test_pq = Input(\n",
        "    type=\"mltable\",\n",
        "    path=f\"azureml:{test_dataset_name}:{test_dataset_version}\",\n",
        "    mode=\"direct\",\n",
        ")\n",
        "\n",
        "azureml_model_id = f\"azureml:{MODEL_NAME}:{MODEL_VERSION}\"\n",
        "\n",
        "registry_name = \"azureml\"\n",
        "ml_client_registry = MLClient(\n",
        "    credential=DefaultAzureCredential(),\n",
        "    subscription_id=subscription_id,\n",
        "    resource_group_name=resource_group,\n",
        "    registry_name=registry_name,\n",
        ")\n",
        "\n",
        "ml_client = MLClient(\n",
        "    credential=DefaultAzureCredential(),\n",
        "    subscription_id=subscription_id,\n",
        "    resource_group_name=resource_group,\n",
        "    workspace_name=workspace_name\n",
        ")"
      ],
      "outputs": [],
      "execution_count": 5,
      "metadata": {
        "gather": {
          "logged": 1675961848322
        },
        "jupyter": {
          "outputs_hidden": false,
          "source_hidden": false
        },
        "nteract": {
          "transient": {
            "deleting": false
          }
        }
      }
    },
    {
      "cell_type": "code",
      "source": [
        "\n",
        "def submit_and_wait(ml_client, pipeline_job) -> PipelineJob:\n",
        "    created_job = ml_client.jobs.create_or_update(pipeline_job)\n",
        "    assert created_job is not None\n",
        "\n",
        "    print(\"Pipeline job can be accessed in the following URL:\")\n",
        "    print(f\"{created_job.studio_url}\")\n",
        "\n",
        "    while created_job.status not in [\n",
        "        \"Completed\",\n",
        "        \"Failed\",\n",
        "        \"Canceled\",\n",
        "        \"NotResponding\",\n",
        "    ]:\n",
        "        time.sleep(30)\n",
        "        created_job = ml_client.jobs.get(created_job.name)\n",
        "        print(\"Latest status : {0}\".format(created_job.status))\n",
        "    assert created_job.status == \"Completed\"\n",
        "    return created_job"
      ],
      "outputs": [],
      "execution_count": 6,
      "metadata": {
        "gather": {
          "logged": 1675961848440
        },
        "jupyter": {
          "outputs_hidden": false,
          "source_hidden": false
        },
        "nteract": {
          "transient": {
            "deleting": false
          }
        }
      }
    },
    {
      "cell_type": "code",
      "source": [
        "label = \"latest\"\n",
        "\n",
        "rai_constructor_component = ml_client_registry.components.get(\n",
        "    name=\"microsoft_azureml_rai_tabular_insight_constructor\", label=label\n",
        ")\n",
        "\n",
        "# We get latest version and use the same version for all components\n",
        "version = rai_constructor_component.version\n",
        "print(\"The current version of RAI built-in components is: \" + version)\n",
        "\n",
        "rai_explanation_component = ml_client_registry.components.get(\n",
        "    name=\"microsoft_azureml_rai_tabular_explanation\", version=version\n",
        ")\n",
        "\n",
        "rai_causal_component = ml_client_registry.components.get(\n",
        "    name=\"microsoft_azureml_rai_tabular_causal\", version=version\n",
        ")\n",
        "\n",
        "rai_counterfactual_component = ml_client_registry.components.get(\n",
        "    name=\"microsoft_azureml_rai_tabular_counterfactual\", version=version\n",
        ")\n",
        "\n",
        "rai_erroranalysis_component = ml_client_registry.components.get(\n",
        "    name=\"microsoft_azureml_rai_tabular_erroranalysis\", version=version\n",
        ")\n",
        "\n",
        "rai_gather_component = ml_client_registry.components.get(\n",
        "    name=\"microsoft_azureml_rai_tabular_insight_gather\", version=version\n",
        ")\n",
        "\n",
        "rai_scorecard_component = ml_client_registry.components.get(\n",
        "    name=\"microsoft_azureml_rai_tabular_score_card\", version=version\n",
        ")"
      ],
      "outputs": [
        {
          "output_type": "stream",
          "name": "stdout",
          "text": "The current version of RAI built-in components is: 0.5.0\n"
        }
      ],
      "execution_count": 7,
      "metadata": {
        "gather": {
          "logged": 1675961851399
        },
        "jupyter": {
          "outputs_hidden": false,
          "source_hidden": false
        },
        "nteract": {
          "transient": {
            "deleting": false
          }
        }
      }
    },
    {
      "cell_type": "code",
      "source": [
        "import json\n",
        "score_card_config_dict = {\n",
        "    \"Model\": {\n",
        "        \"ModelName\": f\"{MODEL_NAME}\",\n",
        "        \"ModelType\": \"Classification\",\n",
        "        \"ModelSummary\": \"This is a Classification model.\",\n",
        "    },\n",
        "    # the thresholds here are for illustration purpose only and should be set by user's preference\n",
        "    \"Metrics\": {\"accuracy_score\": {\"threshold\": \">=0.75\"}, \"recall_score\": {\"threshold\": \">=0.70\"}},\n",
        "    \"FeatureImportance\": {\"top_n\": 5},\n",
        "    \"DataExplorer\": {\"features\": data_explorer_features},\n",
        "    \"Fairness\": {\n",
        "        \"metric\": [\"accuracy_score\", \"recall_score\", \"precision_score\", \"f1_score\"],\n",
        "        \"sensitive_features\": sensitive_features,\n",
        "        \"fairness_evaluation_kind\": \"difference\",\n",
        "    },\n",
        "}\n",
        "\n",
        "score_card_config_filename = \"RAI_Score_Card_Config.json\"\n",
        "\n",
        "with open(score_card_config_filename, \"w\") as f:\n",
        "    json.dump(score_card_config_dict, f)\n",
        "\n",
        "score_card_config_path = Input(\n",
        "    type=\"uri_file\", path=score_card_config_filename, mode=\"download\"\n",
        ")"
      ],
      "outputs": [],
      "execution_count": 8,
      "metadata": {
        "gather": {
          "logged": 1675961851551
        },
        "jupyter": {
          "outputs_hidden": false,
          "source_hidden": false
        },
        "nteract": {
          "transient": {
            "deleting": false
          }
        }
      }
    },
    {
      "cell_type": "code",
      "source": [
        "import json\n",
        "from azure.ai.ml import Input\n",
        "from azure.ai.ml.constants import AssetTypes\n",
        "\n",
        "categorical_columns = json.dumps(categorical_features)\n",
        "treatment_features = json.dumps(treatment_features)\n",
        "\n",
        "filter_columns = json.dumps(filter_columns)\n",
        "\n",
        "\n",
        "@dsl.pipeline(\n",
        "    compute=COMPUTE,\n",
        "    description=\"Example RAI computation on programmers data\",\n",
        "    experiment_name=\"RAI_dashboard\",\n",
        ")\n",
        "def rai_pipeline(\n",
        "    target_column_name,\n",
        "    train_data,\n",
        "    test_data,\n",
        "    score_card_config_path,\n",
        "):\n",
        "    # Initiate the RAIInsights\n",
        "    create_rai_job = rai_constructor_component(\n",
        "        title=\"RAI_job\",\n",
        "        task_type=\"classification\",\n",
        "        model_info=f\"{MODEL_NAME}:{MODEL_VERSION}\",\n",
        "        model_input=Input(type=AssetTypes.MLFLOW_MODEL, path=azureml_model_id),\n",
        "        train_dataset=train_data,\n",
        "        test_dataset=test_data,\n",
        "        target_column_name=target_column_name,\n",
        "        categorical_column_names=categorical_columns,\n",
        "    )\n",
        "    create_rai_job.set_limits(timeout=120)\n",
        "\n",
        "    explain_job = rai_explanation_component(\n",
        "        comment=\"Explanation for the dataset\",\n",
        "        rai_insights_dashboard=create_rai_job.outputs.rai_insights_dashboard,\n",
        "    )\n",
        "    explain_job.set_limits(timeout=120)\n",
        "\n",
        "    causal_job = rai_causal_component(\n",
        "        rai_insights_dashboard=create_rai_job.outputs.rai_insights_dashboard,\n",
        "        treatment_features=treatment_features,\n",
        "    )\n",
        "    causal_job.set_limits(timeout=180)\n",
        "\n",
        "    counterfactual_job = rai_counterfactual_component(\n",
        "        rai_insights_dashboard=create_rai_job.outputs.rai_insights_dashboard,\n",
        "        total_cfs=10,\n",
        "        desired_class=\"opposite\",\n",
        "    )\n",
        "    counterfactual_job.set_limits(timeout=600)\n",
        "\n",
        "    erroranalysis_job = rai_erroranalysis_component(\n",
        "        rai_insights_dashboard=create_rai_job.outputs.rai_insights_dashboard,\n",
        "        filter_features=filter_columns,\n",
        "    )\n",
        "    erroranalysis_job.set_limits(timeout=120)\n",
        "\n",
        "    rai_gather_job = rai_gather_component(\n",
        "        constructor=create_rai_job.outputs.rai_insights_dashboard,\n",
        "        insight_1=explain_job.outputs.explanation,\n",
        "        insight_2=causal_job.outputs.causal,\n",
        "        # insight_3=counterfactual_job.outputs.counterfactual,\n",
        "        insight_4=erroranalysis_job.outputs.error_analysis,\n",
        "    )\n",
        "    rai_gather_job.set_limits(timeout=800)\n",
        "\n",
        "    rai_gather_job.outputs.dashboard.mode = \"upload\"\n",
        "    rai_gather_job.outputs.ux_json.mode = \"upload\"\n",
        "\n",
        "    rai_scorecard_job = rai_scorecard_component(\n",
        "        dashboard=rai_gather_job.outputs.dashboard,\n",
        "        pdf_generation_config=score_card_config_path,\n",
        "    )\n",
        "\n",
        "    return {\n",
        "        \"dashboard\": rai_gather_job.outputs.dashboard,\n",
        "        \"ux_json\": rai_gather_job.outputs.ux_json,\n",
        "        \"scorecard\": rai_scorecard_job.outputs.scorecard,\n",
        "    }"
      ],
      "outputs": [],
      "execution_count": 9,
      "metadata": {
        "gather": {
          "logged": 1675961851897
        },
        "jupyter": {
          "outputs_hidden": false,
          "source_hidden": false
        },
        "nteract": {
          "transient": {
            "deleting": false
          }
        }
      }
    },
    {
      "cell_type": "code",
      "source": [
        "# Pipeline to construct the RAI Insights\n",
        "insights_pipeline_job = rai_pipeline(\n",
        "    target_column_name=target_column,\n",
        "    train_data=train_pq,\n",
        "    test_data=test_pq,\n",
        "    score_card_config_path=score_card_config_path,\n",
        ")\n",
        "\n",
        "# Workaround to enable the download\n",
        "rand_path = str(uuid.uuid4())\n",
        "insights_pipeline_job.outputs.dashboard = Output(\n",
        "    path=f\"azureml://datastores/workspaceblobstore/paths/{rand_path}/dashboard/\",\n",
        "    mode=\"upload\",\n",
        "    type=\"uri_folder\",\n",
        ")\n",
        "insights_pipeline_job.outputs.ux_json = Output(\n",
        "    path=f\"azureml://datastores/workspaceblobstore/paths/{rand_path}/ux_json/\",\n",
        "    mode=\"upload\",\n",
        "    type=\"uri_folder\",\n",
        ")\n",
        "insights_pipeline_job.outputs.scorecard = Output(\n",
        "    path=f\"azureml://datastores/workspaceblobstore/paths/{rand_path}/scorecard/\",\n",
        "    mode=\"upload\",\n",
        "    type=\"uri_folder\",\n",
        ")"
      ],
      "outputs": [],
      "execution_count": 10,
      "metadata": {
        "gather": {
          "logged": 1675961852324
        },
        "jupyter": {
          "outputs_hidden": false,
          "source_hidden": false
        },
        "nteract": {
          "transient": {
            "deleting": false
          }
        }
      }
    },
    {
      "cell_type": "code",
      "source": [
        "insights_job = submit_and_wait(ml_client, insights_pipeline_job)"
      ],
      "outputs": [
        {
          "output_type": "stream",
          "name": "stdout",
          "text": "Pipeline job can be accessed in the following URL:\nhttps://ml.azure.com/runs/quirky_forest_3hwhycspr3?wsid=/subscriptions/3ad04f94-581c-468f-b2e4-966452b69cec/resourcegroups/tasedu-oea-aso-prod-rg/workspaces/tasedu-oea-ase-prod-mlw&tid=a9be3ac7-0c60-491e-8b3b-a32f8f46aec8\nLatest status : Running\nLatest status : Running\nLatest status : Running\nLatest status : Running\nLatest status : Running\nLatest status : Running\nLatest status : Running\nLatest status : Running\nLatest status : Running\nLatest status : Running\nLatest status : Running\nLatest status : Completed\n"
        }
      ],
      "execution_count": 11,
      "metadata": {
        "gather": {
          "logged": 1675962218893
        },
        "jupyter": {
          "outputs_hidden": false,
          "source_hidden": false
        },
        "nteract": {
          "transient": {
            "deleting": false
          }
        }
      }
    },
    {
      "cell_type": "markdown",
      "source": [
        "## Download RAI scorecard"
      ],
      "metadata": {
        "nteract": {
          "transient": {
            "deleting": false
          }
        }
      }
    },
    {
      "cell_type": "code",
      "source": [
        "target_directory = \".\"\r\n",
        "\r\n",
        "ml_client.jobs.download(\r\n",
        "    insights_job.name, download_path=target_directory, output_name=\"scorecard\"\r\n",
        ")\r\n"
      ],
      "outputs": [
        {
          "output_type": "stream",
          "name": "stderr",
          "text": "Downloading artifact azureml://subscriptions/3ad04f94-581c-468f-b2e4-966452b69cec/resourcegroups/tasedu-oea-aso-prod-rg/workspaces/tasedu-oea-ase-prod-mlw/datastores/workspaceblobstore/paths/3ad921b8-78d7-46ea-9b62-9529e55db20c/scorecard/ to named-outputs/scorecard\n"
        }
      ],
      "execution_count": 12,
      "metadata": {
        "gather": {
          "logged": 1675962220602
        }
      }
    },
    {
      "cell_type": "code",
      "source": [],
      "outputs": [],
      "execution_count": null,
      "metadata": {
        "jupyter": {
          "source_hidden": false,
          "outputs_hidden": false
        },
        "nteract": {
          "transient": {
            "deleting": false
          }
        }
      }
    }
  ],
  "metadata": {
    "kernel_info": {
      "name": "python38-azureml"
    },
    "kernelspec": {
      "name": "python38-azureml",
      "language": "python",
      "display_name": "Python 3.8 - AzureML"
    },
    "language_info": {
      "name": "python",
      "version": "3.8.5",
      "mimetype": "text/x-python",
      "codemirror_mode": {
        "name": "ipython",
        "version": 3
      },
      "pygments_lexer": "ipython3",
      "nbconvert_exporter": "python",
      "file_extension": ".py"
    },
    "microsoft": {
      "host": {
        "AzureML": {
          "notebookHasBeenCompleted": true
        }
      }
    },
    "nteract": {
      "version": "nteract-front-end@1.0.0"
    },
    "vscode": {
      "interpreter": {
        "hash": "6d65a8c07f5b6469e0fc613f182488c0dccce05038bbda39e5ac9075c0454d11"
      }
    }
  },
  "nbformat": 4,
  "nbformat_minor": 2
}