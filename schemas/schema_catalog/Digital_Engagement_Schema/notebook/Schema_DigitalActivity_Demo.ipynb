{
  "cells": [
    {
      "cell_type": "markdown",
      "source": [
        "# Digital Activity Schema Demo Notebook\r\n",
        "\r\n",
        "This notebook is intended to explore the capabilities of the OEA schema standardization process to applicable modules (e.g. Education Insights Module, Graph Reports API Module, Clever Module, i-Ready Module). \r\n",
        "\r\n",
        "__It is highly recommended you review and pull the test data from the Insights, Graph, Clever, and i-Ready modules, before testing these schema standardization notebooks.__ \r\n",
        "\r\n",
        "Below describes the execution process of the notebook:\r\n",
        "\r\n",
        " - First initialize the OEA and Digital Activity Schema Standard class notebooks\r\n",
        " - Then the notebook processes the Insights module data ingested to stage 2, by re-writing the schema to only pull digital activity data.\r\n",
        " - The same process is executed for the Graph API module data - specifically for the M365 and Teams queries from the module.\r\n",
        " - The same process is executed for the Clever module data.\r\n",
        " - The same process is executed for the i-Ready module data - specifically for the Comprehensive Student Lesson Activity with Standards tables from the module."
      ],
      "metadata": {
        "nteract": {
          "transient": {
            "deleting": false
          }
        }
      }
    },
    {
      "cell_type": "code",
      "source": [
        "module=''\r\n",
        "table=''"
      ],
      "outputs": [
        {
          "output_type": "display_data",
          "data": {
            "application/vnd.livy.statement-meta+json": {
              "spark_pool": "spark3p1sm",
              "session_id": "30",
              "statement_id": 15,
              "state": "finished",
              "livy_statement_state": "available",
              "queued_time": "2022-09-12T19:04:18.1331822Z",
              "session_start_time": null,
              "execution_start_time": "2022-09-12T19:04:18.23223Z",
              "execution_finish_time": "2022-09-12T19:04:18.3877516Z",
              "spark_jobs": null
            },
            "text/plain": "StatementMeta(spark3p1sm, 30, 15, Finished, Available)"
          },
          "metadata": {}
        }
      ],
      "execution_count": 43,
      "metadata": {
        "jupyter": {
          "source_hidden": false,
          "outputs_hidden": false
        },
        "nteract": {
          "transient": {
            "deleting": false
          }
        },
        "tags": [
          "parameters"
        ]
      }
    },
    {
      "cell_type": "code",
      "source": [
        "%run /OEA_py"
      ],
      "outputs": [
        {
          "output_type": "display_data",
          "data": {
            "application/vnd.livy.statement-meta+json": {
              "spark_pool": null,
              "session_id": "30",
              "statement_id": -1,
              "state": "finished",
              "livy_statement_state": "available",
              "queued_time": "2022-09-12T19:04:25.2140351Z",
              "session_start_time": null,
              "execution_start_time": "2022-09-12T19:04:38.4361102Z",
              "execution_finish_time": "2022-09-12T19:04:38.4365171Z",
              "spark_jobs": null
            },
            "text/plain": "StatementMeta(, 30, -1, Finished, Available)"
          },
          "metadata": {}
        },
        {
          "output_type": "stream",
          "name": "stdout",
          "text": [
            "2022-09-12 19:04:36,330 - OEA - DEBUG - OEA initialized.\n2022-09-12 19:04:36,330 - OEA - DEBUG - OEA initialized.\n2022-09-12 19:04:36,330 - OEA - DEBUG - OEA initialized.\nOEA initialized.\n"
          ]
        }
      ],
      "execution_count": 44,
      "metadata": {
        "jupyter": {
          "source_hidden": false,
          "outputs_hidden": false
        },
        "nteract": {
          "transient": {
            "deleting": false
          }
        }
      }
    },
    {
      "cell_type": "code",
      "source": [
        "%run /Schema_DigitalActivity_py"
      ],
      "outputs": [
        {
          "output_type": "display_data",
          "data": {
            "application/vnd.livy.statement-meta+json": {
              "spark_pool": null,
              "session_id": "30",
              "statement_id": -1,
              "state": "finished",
              "livy_statement_state": "available",
              "queued_time": "2022-09-12T19:07:24.591293Z",
              "session_start_time": null,
              "execution_start_time": "2022-09-12T19:07:25.1102449Z",
              "execution_finish_time": "2022-09-12T19:07:25.1105794Z",
              "spark_jobs": null
            },
            "text/plain": "StatementMeta(, 30, -1, Finished, Available)"
          },
          "metadata": {}
        }
      ],
      "execution_count": 49,
      "metadata": {
        "jupyter": {
          "source_hidden": false,
          "outputs_hidden": false
        },
        "nteract": {
          "transient": {
            "deleting": false
          }
        }
      }
    },
    {
      "cell_type": "code",
      "source": [
        "# 0) Initialize the OEA framework and modules needed.\r\n",
        "oea = OEA()\r\n",
        "digAct = DigitalActivity()"
      ],
      "outputs": [
        {
          "output_type": "display_data",
          "data": {
            "application/vnd.livy.statement-meta+json": {
              "spark_pool": "spark3p1sm",
              "session_id": "30",
              "statement_id": 18,
              "state": "finished",
              "livy_statement_state": "available",
              "queued_time": "2022-09-12T19:04:30.3543617Z",
              "session_start_time": null,
              "execution_start_time": "2022-09-12T19:04:39.0416473Z",
              "execution_finish_time": "2022-09-12T19:04:47.7952671Z",
              "spark_jobs": null
            },
            "text/plain": "StatementMeta(spark3p1sm, 30, 18, Finished, Available)"
          },
          "metadata": {}
        },
        {
          "output_type": "stream",
          "name": "stdout",
          "text": [
            "2022-09-12 19:04:46,711 - OEA - DEBUG - OEA initialized.\n2022-09-12 19:04:46,711 - OEA - DEBUG - OEA initialized.\n2022-09-12 19:04:46,711 - OEA - DEBUG - OEA initialized.\n2022-09-12 19:04:46,711 - OEA - DEBUG - OEA initialized.\nOEA initialized.\n"
          ]
        }
      ],
      "execution_count": 46,
      "metadata": {
        "jupyter": {
          "source_hidden": false,
          "outputs_hidden": false
        },
        "nteract": {
          "transient": {
            "deleting": false
          }
        }
      }
    },
    {
      "cell_type": "code",
      "source": [
        "digAct.get_digital_activity_schema()\r\n",
        "#digAct.reset_digital_activity_processing()"
      ],
      "outputs": [
        {
          "output_type": "display_data",
          "data": {
            "application/vnd.livy.statement-meta+json": {
              "spark_pool": "spark3p1sm",
              "session_id": "30",
              "statement_id": 7,
              "state": "finished",
              "livy_statement_state": "available",
              "queued_time": "2022-09-12T18:43:58.4975756Z",
              "session_start_time": null,
              "execution_start_time": "2022-09-12T18:49:29.6763759Z",
              "execution_finish_time": "2022-09-12T18:49:29.8270952Z",
              "spark_jobs": null
            },
            "text/plain": "StatementMeta(spark3p1sm, 30, 7, Finished, Available)"
          },
          "metadata": {}
        },
        {
          "output_type": "stream",
          "name": "stdout",
          "text": [
            "OEA Standard Digital Activity Schema:\n\nColumns and data types:\n\n['event_id', 'string', 'no-op']\n['event_type', 'string', 'no-op']\n['event_actor', 'string', 'no-op']\n['event_object', 'string', 'no-op']\n['event_eventTime', 'string', 'no-op']\n['entity_type', 'string', 'no-op']\n['softwareApplication_version', 'string', 'no-op']\n['generated_aggregateMeasure_metric_timeOnTaskSec', 'string', 'no-op']\n['generated_aggregateMeasure_metric_numAccess', 'string', 'no-op']\n['generated_aggregateMeasure_metric_used', 'string', 'no-op']\n['generated_aggregateMeasure_metric_activityReportPeriod', 'string', 'no-op']\n\nColumn descriptions:\n\n['schema_source', 'https://www.imsglobal.org/spec/caliper/v1p2#tooluseevent']\n['event_id', 'unique ID used as a signal key']\n['event_type', 'type of activity event']\n['event_actor', 'student or teacher that created the signal']\n['event_object', 'entity that comprises the object of the interaction']\n['event_eventTime', 'date/timestamp of the activity signal']\n['entity_type', 'value that describes the properties of the user agent hosting this SoftwareApplication.']\n['softwareApplication_version', 'value that describes the properties of the user agent hosting this SoftwareApplication.']\n['generated_aggregateMeasure_metric_timeOnTaskSec', 'time on task in seconds']\n['generated_aggregateMeasure_metric_numAccess', 'number of accesses']\n['generated_aggregateMeasure_metric_used', 'used true or false']\n['generated_aggregateMeasure_metric_activityReportPeriod', 'activity data collected is reported over this number of days']\n"
          ]
        }
      ],
      "execution_count": 35,
      "metadata": {
        "jupyter": {
          "source_hidden": false,
          "outputs_hidden": false
        },
        "nteract": {
          "transient": {
            "deleting": false
          }
        }
      }
    },
    {
      "cell_type": "code",
      "source": [
        "digAct.initialize_standardization(module,table)"
      ],
      "outputs": [
        {
          "output_type": "display_data",
          "data": {
            "application/vnd.livy.statement-meta+json": {
              "spark_pool": "spark3p1sm",
              "session_id": "30",
              "statement_id": 23,
              "state": "finished",
              "livy_statement_state": "available",
              "queued_time": "2022-09-12T19:07:33.7141197Z",
              "session_start_time": null,
              "execution_start_time": "2022-09-12T19:07:33.8037847Z",
              "execution_finish_time": "2022-09-12T19:07:42.4758168Z",
              "spark_jobs": null
            },
            "text/plain": "StatementMeta(spark3p1sm, 30, 23, Finished, Available)"
          },
          "metadata": {}
        },
        {
          "output_type": "stream",
          "name": "stdout",
          "text": [
            "2022-09-12 19:07:33,821 - OEA - INFO - Initializing standardization for digital activity schemas\n2022-09-12 19:07:33,821 - OEA - INFO - Initializing standardization for digital activity schemas\n2022-09-12 19:07:33,821 - OEA - INFO - Initializing standardization for digital activity schemas\n2022-09-12 19:07:33,821 - OEA - INFO - Initializing standardization for digital activity schemas\nInitializing standardization for digital activity schemas\n2022-09-12 19:07:33,827 - OEA - INFO - Processing digital activity data from: stage2p/M365/TechActivity_pseudo\n2022-09-12 19:07:33,827 - OEA - INFO - Processing digital activity data from: stage2p/M365/TechActivity_pseudo\n2022-09-12 19:07:33,827 - OEA - INFO - Processing digital activity data from: stage2p/M365/TechActivity_pseudo\n2022-09-12 19:07:33,827 - OEA - INFO - Processing digital activity data from: stage2p/M365/TechActivity_pseudo\nProcessing digital activity data from: stage2p/M365/TechActivity_pseudo\n2022-09-12 19:07:40,986 - OEA - INFO - Complete processing from: stage2p/M365/TechActivity_pseudo\n2022-09-12 19:07:40,986 - OEA - INFO - Complete processing from: stage2p/M365/TechActivity_pseudo\n2022-09-12 19:07:40,986 - OEA - INFO - Complete processing from: stage2p/M365/TechActivity_pseudo\n2022-09-12 19:07:40,986 - OEA - INFO - Complete processing from: stage2p/M365/TechActivity_pseudo\nComplete processing from: stage2p/M365/TechActivity_pseudo\n"
          ]
        }
      ],
      "execution_count": 51,
      "metadata": {
        "jupyter": {
          "source_hidden": false,
          "outputs_hidden": false
        },
        "nteract": {
          "transient": {
            "deleting": false
          }
        }
      }
    }
  ],
  "metadata": {
    "kernelspec": {
      "name": "synapse_pyspark",
      "language": "Python",
      "display_name": "Synapse PySpark"
    },
    "language_info": {
      "name": "python"
    },
    "kernel_info": {
      "name": "synapse_pyspark"
    },
    "description": null,
    "save_output": true,
    "synapse_widget": {
      "version": "0.1",
      "state": {}
    }
  },
  "nbformat": 4,
  "nbformat_minor": 2
}