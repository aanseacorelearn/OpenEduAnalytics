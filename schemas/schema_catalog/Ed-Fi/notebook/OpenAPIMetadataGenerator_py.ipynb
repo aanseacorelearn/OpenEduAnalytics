{
  "cells": [
    {
      "cell_type": "code",
      "execution_count": null,
      "metadata": {
        "jupyter": {
          "outputs_hidden": false,
          "source_hidden": false
        },
        "nteract": {
          "transient": {
            "deleting": false
          }
        }
      },
      "outputs": [],
      "source": [
        "import requests\n",
        "import json\n",
        "from pyspark.sql import SparkSession\n",
        "from pyspark.sql.types import StringType, StructField, StructType\n",
        "\n",
        "spark = SparkSession.builder.appName(\"TestSparkApp\").appName('MDESparkApp').getOrCreate()\n",
        "\n",
        "class OpenAPIMetadataGenerator:\n",
        "    \"\"\"\n",
        "    A class to Generate Metadata file (CSV) from Open API (Swagger).\n",
        "\n",
        "    Attributes:\n",
        "    -----------\n",
        "        dest_path: Output path to write metadata file.\n",
        "        swagger_url: URL of the source API endpoint.\n",
        "    \"\"\"\n",
        "\n",
        "    def __init__(self, dest_path, swagger_url=\"https://api.edgraph.dev/edfi/v5.3/saas/core/metadata/data/v3/123/2022/resources/swagger.json\"):\n",
        "        self.swagger_url = swagger_url\n",
        "        # self.filename = metadata_output_filename\n",
        "        self.dest_path = dest_path\n",
        "        self.swagger_json = self.get_swagger_content()\n",
        "        self.metadata_headers = ['table_name', 'column_name', 'type', 'format', 'maxLength', 'x-Ed-Fi-isIdentity', 'items', '$ref']\n",
        "        self.metadata = []\n",
        "        self.definitions = {}\n",
        "\n",
        "    def get_swagger_content(self):\n",
        "        return json.loads(requests.get(self.swagger_url).text)\n",
        "\n",
        "    def create_dataframe(self, schema):\n",
        "        return spark.createDataFrame(self.metadata, schema)\n",
        "\n",
        "    def create_definitions(self):\n",
        "        for entity in self.swagger_json['definitions']:\n",
        "            properties = self.swagger_json['definitions'][entity]['properties']\n",
        "            table_name = entity.split('_')[-1]\n",
        "\n",
        "            table_schema = {}\n",
        "\n",
        "            for prop in properties:\n",
        "                if 'description' in properties[prop].keys():\n",
        "                    properties[prop].pop('description')\n",
        "                field_info = properties[prop]\n",
        "                table_schema[prop] = field_info\n",
        "            self.definitions[table_name] = table_schema\n",
        "\n",
        "    def create_metadata(self):\n",
        "\n",
        "        self.create_definitions()\n",
        "\n",
        "        for entity in self.definitions:\n",
        "            table_schema = self.definitions[entity]\n",
        "            for column_name in table_schema:\n",
        "                column_schema = {}\n",
        "                for header in self.metadata_headers:\n",
        "                    if(header in table_schema[column_name]):\n",
        "                        column_schema[header] = table_schema[column_name][header]\n",
        "                    else:\n",
        "                        column_schema[header] = None\n",
        "                if(column_schema['x-Ed-Fi-isIdentity'] != True):\n",
        "                    column_schema['x-Ed-Fi-isIdentity'] = False\n",
        "                if(column_schema['items'] != None):\n",
        "                    column_schema['items']['$ref'] = (column_schema['items']['$ref']).replace('edFi_', '')\n",
        "                if(column_schema['$ref'] != None):\n",
        "                    column_schema['$ref'] = (column_schema['$ref']).replace('edFi_', '').replace('tpdm_', '')\n",
        "                column_schema['table_name'] = entity\n",
        "                column_schema['column_name'] = column_name\n",
        "                self.metadata.append(column_schema)\n",
        "\n",
        "    def write_metadata(self):\n",
        "        schema = StructType([StructField(field, StringType(), True) for field in self.metadata_headers])\n",
        "        df = self.create_dataframe(schema)\n",
        "        df.coalesce(1).write.csv(f\"{self.dest_path}\", header=True, mode='overwrite')\n"
      ]
    }
  ],
  "metadata": {
    "kernelspec": {
      "display_name": "Synapse PySpark",
      "name": "synapse_pyspark"
    },
    "language_info": {
      "name": "python"
    },
    "save_output": true
  },
  "nbformat": 4,
  "nbformat_minor": 2
}
