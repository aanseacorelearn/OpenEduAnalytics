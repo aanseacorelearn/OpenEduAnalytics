{
 "cells": [
  {
   "cell_type": "markdown",
   "metadata": {},
   "source": [
    "**Ed-Fi Schema Generation:**\n",
    "\n",
    "This Notebook is used to create Empty Delta Tables in the Ed-Fi format using the 2 classes - EdFiSchemaGenerator and OpenAPIMetadataGenerator. \n",
    "\n",
    "First, you need to run the OpenAPIMetadataGenerator class by passing in a destination path and the Open API swagger endpoint URL of the Ed-Fi Instance to create a Metadata file (CSV).\n",
    "\n",
    "After the CSV file is generated, you must manually edit the file for adding any flattening logic.\n",
    "\n",
    "    For Example: Consider a Line in the metadata file like this - \n",
    "    academicWeek,schoolReference,,,,FALSE,,#/definitions/schoolReference\n",
    "\n",
    "    This signifies that the table \"academicWeek\" has a column named \"schoolReference\", which is an object of type \"schoolReference\". If you want to explode the object to its sub-fields, you need to use the \"::\" operator to mention the sub-fields. If there are more than one sub-fields, separate them using a \":\". Exploding the \"schoolId\" field from the above example results in : \n",
    "    academicWeek,schoolReference,,,,FALSE,,#/definitions/schoolReference::schoolId\n",
    "\n",
    "After modifying the metadata file according the requirements, run the EdFiSchemaGenerator class by providing the metadata path, output path (where to write the empty delta files) and the swagger URL as inputs. \n",
    "\n",
    "The schema generator will create empty DELTA files for all the entities.\n",
    "\n",
    "    \n"
   ]
  },
  {
   "cell_type": "code",
   "execution_count": null,
   "metadata": {},
   "outputs": [],
   "source": [
    "%run /EdFiSchemaGenerator_py"
   ]
  },
  {
   "cell_type": "code",
   "execution_count": null,
   "metadata": {},
   "outputs": [],
   "source": [
    "%run /OpenAPIMetadataGenerator_py"
   ]
  },
  {
   "cell_type": "markdown",
   "metadata": {},
   "source": [
    "Configure the variables used for generating the Metadata and Schema in Ed-Fi Format"
   ]
  },
  {
   "cell_type": "code",
   "execution_count": null,
   "metadata": {},
   "outputs": [],
   "source": [
    "metadata_path = ''\n",
    "output_path = ''\n",
    "swagger_url = 'https://api.edgraph.dev/edfi/v5.3/saas/core/metadata/data/v3/123/2022/resources/swagger.json'"
   ]
  },
  {
   "cell_type": "code",
   "execution_count": null,
   "metadata": {},
   "outputs": [],
   "source": [
    "metadata_generator = OpenAPIMetadataGenerator(metadata_path, swagger_url)"
   ]
  },
  {
   "cell_type": "markdown",
   "metadata": {},
   "source": [
    "After Creating the metadata file (CSV), Edit the file for flattening objects in Source Schema. Run the Schema generator after the final editing of the metadata file. There is a Sample Metadata file provided under the Ed-Fi Schemas Folder at docs/metadata."
   ]
  },
  {
   "cell_type": "code",
   "execution_count": null,
   "metadata": {},
   "outputs": [],
   "source": [
    "edfi_schema_generator = EdFiSchemaGenerator(metadata_path, output_path, swagger_url)"
   ]
  },
  {
   "cell_type": "markdown",
   "metadata": {},
   "source": [
    "Check the 'output_path\" and you should find the Empty DELTA files in Ed-Fi format. "
   ]
  }
 ],
 "metadata": {
  "kernelspec": {
   "display_name": "Python 3.9.7 ('Spark_Dev')",
   "language": "python",
   "name": "python3"
  },
  "language_info": {
   "name": "python",
   "version": "3.9.7"
  },
  "orig_nbformat": 4,
  "vscode": {
   "interpreter": {
    "hash": "be620d6548581d4b255e22136663c988a2c6aa20c2fcc1339f2748495f9e98b2"
   }
  }
 },
 "nbformat": 4,
 "nbformat_minor": 2
}
